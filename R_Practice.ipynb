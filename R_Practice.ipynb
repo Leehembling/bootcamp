{
  "nbformat": 4,
  "nbformat_minor": 0,
  "metadata": {
    "colab": {
      "provenance": [],
      "authorship_tag": "ABX9TyOBV5SQ/82pEiygmWcpAyAr",
      "include_colab_link": true
    },
    "kernelspec": {
      "name": "ir",
      "display_name": "R"
    },
    "language_info": {
      "name": "R"
    }
  },
  "cells": [
    {
      "cell_type": "markdown",
      "metadata": {
        "id": "view-in-github",
        "colab_type": "text"
      },
      "source": [
        "<a href=\"https://colab.research.google.com/github/Leehembling/bootcamp/blob/main/R_Practice.ipynb\" target=\"_parent\"><img src=\"https://colab.research.google.com/assets/colab-badge.svg\" alt=\"Open In Colab\"/></a>"
      ]
    },
    {
      "cell_type": "markdown",
      "source": [
        "**Lesson 1**\n",
        "\n",
        "---"
      ],
      "metadata": {
        "id": "e3D7YdDuYifc"
      }
    },
    {
      "cell_type": "code",
      "execution_count": null,
      "metadata": {
        "colab": {
          "base_uri": "https://localhost:8080/",
          "height": 34
        },
        "id": "7ah_Od1dNqq4",
        "outputId": "6bd53da8-e71e-4131-a8c0-66e84bc0776e"
      },
      "outputs": [
        {
          "output_type": "display_data",
          "data": {
            "text/html": [
              "'Hello World'"
            ],
            "text/markdown": "'Hello World'",
            "text/latex": "'Hello World'",
            "text/plain": [
              "[1] \"Hello World\""
            ]
          },
          "metadata": {}
        }
      ],
      "source": [
        "'Hello World'"
      ]
    },
    {
      "cell_type": "code",
      "source": [
        "\"Hello World\""
      ],
      "metadata": {
        "colab": {
          "base_uri": "https://localhost:8080/",
          "height": 34
        },
        "id": "-6RNrN3cOVn4",
        "outputId": "3f1fb559-5431-4830-9335-9a96b566fd8d"
      },
      "execution_count": null,
      "outputs": [
        {
          "output_type": "display_data",
          "data": {
            "text/html": [
              "'Hello World'"
            ],
            "text/markdown": "'Hello World'",
            "text/latex": "'Hello World'",
            "text/plain": [
              "[1] \"Hello World\""
            ]
          },
          "metadata": {}
        }
      ]
    },
    {
      "cell_type": "code",
      "source": [
        "5\n",
        "10\n",
        "25"
      ],
      "metadata": {
        "colab": {
          "base_uri": "https://localhost:8080/",
          "height": 69
        },
        "id": "j-CvHPg-OQzk",
        "outputId": "6f9fd7f2-7073-4863-8bc9-e6934b2f77b5"
      },
      "execution_count": null,
      "outputs": [
        {
          "output_type": "display_data",
          "data": {
            "text/html": [
              "5"
            ],
            "text/markdown": "5",
            "text/latex": "5",
            "text/plain": [
              "[1] 5"
            ]
          },
          "metadata": {}
        },
        {
          "output_type": "display_data",
          "data": {
            "text/html": [
              "10"
            ],
            "text/markdown": "10",
            "text/latex": "10",
            "text/plain": [
              "[1] 10"
            ]
          },
          "metadata": {}
        },
        {
          "output_type": "display_data",
          "data": {
            "text/html": [
              "25"
            ],
            "text/markdown": "25",
            "text/latex": "25",
            "text/plain": [
              "[1] 25"
            ]
          },
          "metadata": {}
        }
      ]
    },
    {
      "cell_type": "code",
      "source": [
        "5 + 5"
      ],
      "metadata": {
        "colab": {
          "base_uri": "https://localhost:8080/",
          "height": 34
        },
        "id": "IPa5aFwDOdyS",
        "outputId": "8c63a452-4c82-472e-a021-1f2456e49a5a"
      },
      "execution_count": null,
      "outputs": [
        {
          "output_type": "display_data",
          "data": {
            "text/html": [
              "10"
            ],
            "text/markdown": "10",
            "text/latex": "10",
            "text/plain": [
              "[1] 10"
            ]
          },
          "metadata": {}
        }
      ]
    },
    {
      "cell_type": "code",
      "source": [
        "search()"
      ],
      "metadata": {
        "colab": {
          "base_uri": "https://localhost:8080/",
          "height": 52
        },
        "id": "SqMEd0DAOghC",
        "outputId": "1028c4ad-263a-4df2-a0de-6aa02856ed1f"
      },
      "execution_count": null,
      "outputs": [
        {
          "output_type": "display_data",
          "data": {
            "text/html": [
              "<style>\n",
              ".list-inline {list-style: none; margin:0; padding: 0}\n",
              ".list-inline>li {display: inline-block}\n",
              ".list-inline>li:not(:last-child)::after {content: \"\\00b7\"; padding: 0 .5ex}\n",
              "</style>\n",
              "<ol class=list-inline><li>'.GlobalEnv'</li><li>'jupyter:irkernel'</li><li>'package:stats'</li><li>'package:graphics'</li><li>'package:grDevices'</li><li>'package:utils'</li><li>'package:datasets'</li><li>'package:methods'</li><li>'Autoloads'</li><li>'package:base'</li></ol>\n"
            ],
            "text/markdown": "1. '.GlobalEnv'\n2. 'jupyter:irkernel'\n3. 'package:stats'\n4. 'package:graphics'\n5. 'package:grDevices'\n6. 'package:utils'\n7. 'package:datasets'\n8. 'package:methods'\n9. 'Autoloads'\n10. 'package:base'\n\n\n",
            "text/latex": "\\begin{enumerate*}\n\\item '.GlobalEnv'\n\\item 'jupyter:irkernel'\n\\item 'package:stats'\n\\item 'package:graphics'\n\\item 'package:grDevices'\n\\item 'package:utils'\n\\item 'package:datasets'\n\\item 'package:methods'\n\\item 'Autoloads'\n\\item 'package:base'\n\\end{enumerate*}\n",
            "text/plain": [
              " [1] \".GlobalEnv\"        \"jupyter:irkernel\"  \"package:stats\"    \n",
              " [4] \"package:graphics\"  \"package:grDevices\" \"package:utils\"    \n",
              " [7] \"package:datasets\"  \"package:methods\"   \"Autoloads\"        \n",
              "[10] \"package:base\"     "
            ]
          },
          "metadata": {}
        }
      ]
    },
    {
      "cell_type": "code",
      "source": [
        "available.packages()"
      ],
      "metadata": {
        "colab": {
          "base_uri": "https://localhost:8080/",
          "height": 1000
        },
        "id": "DxeltusnOj_5",
        "outputId": "be89bdc3-538f-4b37-b7ec-fe57b544d434"
      },
      "execution_count": null,
      "outputs": [
        {
          "output_type": "display_data",
          "data": {
            "text/html": [
              "<table class=\"dataframe\">\n",
              "<caption>A matrix: 20680 × 17 of type chr</caption>\n",
              "<thead>\n",
              "\t<tr><th></th><th scope=col>Package</th><th scope=col>Version</th><th scope=col>Priority</th><th scope=col>Depends</th><th scope=col>Imports</th><th scope=col>LinkingTo</th><th scope=col>Suggests</th><th scope=col>Enhances</th><th scope=col>License</th><th scope=col>License_is_FOSS</th><th scope=col>License_restricts_use</th><th scope=col>OS_type</th><th scope=col>Archs</th><th scope=col>MD5sum</th><th scope=col>NeedsCompilation</th><th scope=col>File</th><th scope=col>Repository</th></tr>\n",
              "</thead>\n",
              "<tbody>\n",
              "\t<tr><th scope=row>A3</th><td><span style=white-space:pre-wrap>A3           </span></td><td>1.0.0 </td><td>NA</td><td><span style=white-space:pre-wrap>R (&gt;= 2.15.0), xtable, pbapply                     </span></td><td><span style=white-space:pre-wrap>NA                                                                                                                                                         </span></td><td><span style=white-space:pre-wrap>NA                 </span></td><td><span style=white-space:pre-wrap>randomForest, e1071                          </span></td><td>NA</td><td><span style=white-space:pre-wrap>GPL (&gt;= 2)               </span></td><td>NA</td><td>NA</td><td>NA</td><td>NA</td><td>027ebdd8affce8f0effaecfcd5f5ade2</td><td>no </td><td>NA</td><td>https://cran.rstudio.com/src/contrib</td></tr>\n",
              "\t<tr><th scope=row>AalenJohansen</th><td>AalenJohansen</td><td><span style=white-space:pre-wrap>1.0   </span></td><td>NA</td><td><span style=white-space:pre-wrap>NA                                                 </span></td><td><span style=white-space:pre-wrap>NA                                                                                                                                                         </span></td><td><span style=white-space:pre-wrap>NA                 </span></td><td><span style=white-space:pre-wrap>knitr, rmarkdown                             </span></td><td>NA</td><td><span style=white-space:pre-wrap>GPL (&gt;= 2)               </span></td><td>NA</td><td>NA</td><td>NA</td><td>NA</td><td>d7eb2a6275daa6af43bf8a980398b312</td><td>no </td><td>NA</td><td>https://cran.rstudio.com/src/contrib</td></tr>\n",
              "\t<tr><th scope=row>AATtools</th><td><span style=white-space:pre-wrap>AATtools     </span></td><td>0.0.2 </td><td>NA</td><td><span style=white-space:pre-wrap>R (&gt;= 3.6.0)                                       </span></td><td><span style=white-space:pre-wrap>magrittr, dplyr, doParallel, foreach                                                                                                                       </span></td><td><span style=white-space:pre-wrap>NA                 </span></td><td><span style=white-space:pre-wrap>NA                                           </span></td><td>NA</td><td><span style=white-space:pre-wrap>GPL-3                    </span></td><td>NA</td><td>NA</td><td>NA</td><td>NA</td><td>bc59207786e9bc49167fd7d8af246b1c</td><td>no </td><td>NA</td><td>https://cran.rstudio.com/src/contrib</td></tr>\n",
              "\t<tr><th scope=row>ABACUS</th><td><span style=white-space:pre-wrap>ABACUS       </span></td><td>1.0.0 </td><td>NA</td><td><span style=white-space:pre-wrap>R (&gt;= 3.1.0)                                       </span></td><td><span style=white-space:pre-wrap>ggplot2 (&gt;= 3.1.0), shiny (&gt;= 1.3.1),                                                                                                                      </span></td><td><span style=white-space:pre-wrap>NA                 </span></td><td><span style=white-space:pre-wrap>rmarkdown (&gt;= 1.13), knitr (&gt;= 1.22)         </span></td><td>NA</td><td><span style=white-space:pre-wrap>GPL-3                    </span></td><td>NA</td><td>NA</td><td>NA</td><td>NA</td><td>50c54c4da09307cb95a70aaaa54b9fbd</td><td>no </td><td>NA</td><td>https://cran.rstudio.com/src/contrib</td></tr>\n",
              "\t<tr><th scope=row>abasequence</th><td>abasequence  </td><td>0.1.0 </td><td>NA</td><td>NA                                                 </td><td>NA                                                                                                                                                         </td><td>NA                 </td><td>NA                                           </td><td>NA</td><td>GPL-3                    </td><td>NA</td><td>NA</td><td>NA</td><td>NA</td><td>1392d909eb0f65be94fd4160a371ae21</td><td>no </td><td>NA</td><td>https://cran.rstudio.com/src/contrib</td></tr>\n",
              "\t<tr><th scope=row>abbreviate</th><td><span style=white-space:pre-wrap>abbreviate   </span></td><td><span style=white-space:pre-wrap>0.1   </span></td><td>NA</td><td><span style=white-space:pre-wrap>NA                                                 </span></td><td><span style=white-space:pre-wrap>NA                                                                                                                                                         </span></td><td><span style=white-space:pre-wrap>NA                 </span></td><td><span style=white-space:pre-wrap>testthat (&gt;= 3.0.0)                          </span></td><td>NA</td><td><span style=white-space:pre-wrap>GPL-3                    </span></td><td>NA</td><td>NA</td><td>NA</td><td>NA</td><td>37285eddefb6b0fce95783bf21b32999</td><td>no </td><td>NA</td><td>https://cran.rstudio.com/src/contrib</td></tr>\n",
              "\t<tr><th scope=row>abc</th><td><span style=white-space:pre-wrap>abc          </span></td><td>2.2.1 </td><td>NA</td><td>R (&gt;= 2.10), abc.data, nnet, quantreg, MASS, locfit</td><td><span style=white-space:pre-wrap>NA                                                                                                                                                         </span></td><td><span style=white-space:pre-wrap>NA                 </span></td><td><span style=white-space:pre-wrap>NA                                           </span></td><td>NA</td><td><span style=white-space:pre-wrap>GPL (&gt;= 3)               </span></td><td>NA</td><td>NA</td><td>NA</td><td>NA</td><td>21e4c928a8cdd4c6fe3c1c76c99913a9</td><td>no </td><td>NA</td><td>https://cran.rstudio.com/src/contrib</td></tr>\n",
              "\t<tr><th scope=row>abc.data</th><td><span style=white-space:pre-wrap>abc.data     </span></td><td><span style=white-space:pre-wrap>1.1   </span></td><td>NA</td><td><span style=white-space:pre-wrap>R (&gt;= 2.10)                                        </span></td><td><span style=white-space:pre-wrap>NA                                                                                                                                                         </span></td><td><span style=white-space:pre-wrap>NA                 </span></td><td><span style=white-space:pre-wrap>NA                                           </span></td><td>NA</td><td><span style=white-space:pre-wrap>GPL (&gt;= 3)               </span></td><td>NA</td><td>NA</td><td>NA</td><td>NA</td><td>1693d5a243a991f8cf290471972a54f8</td><td>no </td><td>NA</td><td>https://cran.rstudio.com/src/contrib</td></tr>\n",
              "\t<tr><th scope=row>ABC.RAP</th><td><span style=white-space:pre-wrap>ABC.RAP      </span></td><td>0.9.0 </td><td>NA</td><td><span style=white-space:pre-wrap>R (&gt;= 3.1.0)                                       </span></td><td><span style=white-space:pre-wrap>graphics, stats, utils                                                                                                                                     </span></td><td><span style=white-space:pre-wrap>NA                 </span></td><td><span style=white-space:pre-wrap>knitr, rmarkdown                             </span></td><td>NA</td><td><span style=white-space:pre-wrap>GPL-3                    </span></td><td>NA</td><td>NA</td><td>NA</td><td>NA</td><td>38c65a7251d28ef2462ee430ded95700</td><td>no </td><td>NA</td><td>https://cran.rstudio.com/src/contrib</td></tr>\n",
              "\t<tr><th scope=row>ABCanalysis</th><td><span style=white-space:pre-wrap>ABCanalysis  </span></td><td>1.2.1 </td><td>NA</td><td><span style=white-space:pre-wrap>R (&gt;= 2.10)                                        </span></td><td><span style=white-space:pre-wrap>plotrix                                                                                                                                                    </span></td><td><span style=white-space:pre-wrap>NA                 </span></td><td><span style=white-space:pre-wrap>NA                                           </span></td><td>NA</td><td><span style=white-space:pre-wrap>GPL-3                    </span></td><td>NA</td><td>NA</td><td>NA</td><td>NA</td><td>678e03837e25a922bf71bafe1f8de617</td><td>no </td><td>NA</td><td>https://cran.rstudio.com/src/contrib</td></tr>\n",
              "\t<tr><th scope=row>abclass</th><td><span style=white-space:pre-wrap>abclass      </span></td><td>0.4.0 </td><td>NA</td><td><span style=white-space:pre-wrap>R (&gt;= 3.5.0)                                       </span></td><td><span style=white-space:pre-wrap>Rcpp, parallel, stats                                                                                                                                      </span></td><td>Rcpp, RcppArmadillo</td><td><span style=white-space:pre-wrap>Matrix, Rglpk, qpmadr, tinytest              </span></td><td>NA</td><td><span style=white-space:pre-wrap>GPL (&gt;= 3)               </span></td><td>NA</td><td>NA</td><td>NA</td><td>NA</td><td>dc2d8fbad0e91d3b09d7c2a0a3e65d56</td><td>yes</td><td>NA</td><td>https://cran.rstudio.com/src/contrib</td></tr>\n",
              "\t<tr><th scope=row>ABCoptim</th><td>ABCoptim     </td><td>0.15.0</td><td>NA</td><td>NA                                                 </td><td>Rcpp, graphics, stats, utils                                                                                                                               </td><td>Rcpp               </td><td>testthat, covr                               </td><td>NA</td><td>MIT + file LICENSE       </td><td>NA</td><td>NA</td><td>NA</td><td>NA</td><td>a62ed03650273c09899655065437078f</td><td>yes</td><td>NA</td><td>https://cran.rstudio.com/src/contrib</td></tr>\n",
              "\t<tr><th scope=row>ABCp2</th><td>ABCp2        </td><td>1.2   </td><td>NA</td><td>MASS                                               </td><td>NA                                                                                                                                                         </td><td>NA                 </td><td>NA                                           </td><td>NA</td><td>GPL-2                    </td><td>NA</td><td>NA</td><td>NA</td><td>NA</td><td>e920282d5a369df71e15241be40cb60e</td><td>no </td><td>NA</td><td>https://cran.rstudio.com/src/contrib</td></tr>\n",
              "\t<tr><th scope=row>abcrf</th><td><span style=white-space:pre-wrap>abcrf        </span></td><td><span style=white-space:pre-wrap>1.9   </span></td><td>NA</td><td><span style=white-space:pre-wrap>R(&gt;= 3.1)                                          </span></td><td><span style=white-space:pre-wrap>readr, MASS, matrixStats, ranger, doParallel, parallel,\n",
              "foreach, stringr, Rcpp (&gt;= 0.11.2)                                                                </span></td><td>Rcpp, RcppArmadillo</td><td><span style=white-space:pre-wrap>NA                                           </span></td><td>NA</td><td><span style=white-space:pre-wrap>GPL (&gt;= 2)               </span></td><td>NA</td><td>NA</td><td>NA</td><td>NA</td><td>506f4cc36ae9d66bd174f4b65f8c3bb2</td><td>yes</td><td>NA</td><td>https://cran.rstudio.com/src/contrib</td></tr>\n",
              "\t<tr><th scope=row>abcrlda</th><td>abcrlda      </td><td>1.0.3 </td><td>NA</td><td>NA                                                 </td><td>stats                                                                                                                                                      </td><td>NA                 </td><td>NA                                           </td><td>NA</td><td>GPL-3                    </td><td>NA</td><td>NA</td><td>NA</td><td>NA</td><td>651e6e18e08916b443aaf011b5a63525</td><td>no </td><td>NA</td><td>https://cran.rstudio.com/src/contrib</td></tr>\n",
              "\t<tr><th scope=row>abctools</th><td><span style=white-space:pre-wrap>abctools     </span></td><td>1.1.7 </td><td>NA</td><td><span style=white-space:pre-wrap>R (&gt;= 2.10), abc, abind, parallel, plyr, Hmisc     </span></td><td><span style=white-space:pre-wrap>methods                                                                                                                                                    </span></td><td><span style=white-space:pre-wrap>NA                 </span></td><td><span style=white-space:pre-wrap>ggplot2, abc.data                            </span></td><td>NA</td><td><span style=white-space:pre-wrap>GPL (&gt;= 2)               </span></td><td>NA</td><td>NA</td><td>NA</td><td>NA</td><td>1715682182f3aa3800f77e6525989a19</td><td>yes</td><td>NA</td><td>https://cran.rstudio.com/src/contrib</td></tr>\n",
              "\t<tr><th scope=row>abd</th><td><span style=white-space:pre-wrap>abd          </span></td><td>0.2-8 </td><td>NA</td><td><span style=white-space:pre-wrap>R (&gt;= 3.0), nlme, lattice, grid, mosaic            </span></td><td><span style=white-space:pre-wrap>NA                                                                                                                                                         </span></td><td><span style=white-space:pre-wrap>NA                 </span></td><td>boot, car, ggplot2, plyr, HH, ICC, vcd, Hmisc</td><td>NA</td><td><span style=white-space:pre-wrap>GPL-2                    </span></td><td>NA</td><td>NA</td><td>NA</td><td>NA</td><td>1913d76a0fbc44222709381f63f385b9</td><td>no </td><td>NA</td><td>https://cran.rstudio.com/src/contrib</td></tr>\n",
              "\t<tr><th scope=row>abdiv</th><td><span style=white-space:pre-wrap>abdiv        </span></td><td>0.2.0 </td><td>NA</td><td><span style=white-space:pre-wrap>NA                                                 </span></td><td><span style=white-space:pre-wrap>ape                                                                                                                                                        </span></td><td><span style=white-space:pre-wrap>NA                 </span></td><td><span style=white-space:pre-wrap>testthat (&gt;= 2.1.0), vegan                   </span></td><td>NA</td><td><span style=white-space:pre-wrap>MIT + file LICENSE       </span></td><td>NA</td><td>NA</td><td>NA</td><td>NA</td><td>80931c0ca85ba5386000bf617552c5ce</td><td>no </td><td>NA</td><td>https://cran.rstudio.com/src/contrib</td></tr>\n",
              "\t<tr><th scope=row>abe</th><td><span style=white-space:pre-wrap>abe          </span></td><td>3.0.1 </td><td>NA</td><td><span style=white-space:pre-wrap>NA                                                 </span></td><td><span style=white-space:pre-wrap>NA                                                                                                                                                         </span></td><td><span style=white-space:pre-wrap>NA                 </span></td><td><span style=white-space:pre-wrap>NA                                           </span></td><td>NA</td><td><span style=white-space:pre-wrap>GPL (&gt;= 2)               </span></td><td>NA</td><td>NA</td><td>NA</td><td>NA</td><td>9c151db5397422c8927dee41dabfbfab</td><td>no </td><td>NA</td><td>https://cran.rstudio.com/src/contrib</td></tr>\n",
              "\t<tr><th scope=row>aberrance</th><td><span style=white-space:pre-wrap>aberrance    </span></td><td>0.1.0 </td><td>NA</td><td><span style=white-space:pre-wrap>NA                                                 </span></td><td><span style=white-space:pre-wrap>graphics, grDevices, MASS, stats, utils                                                                                                                    </span></td><td><span style=white-space:pre-wrap>NA                 </span></td><td><span style=white-space:pre-wrap>NA                                           </span></td><td>NA</td><td><span style=white-space:pre-wrap>GPL (&gt;= 3)               </span></td><td>NA</td><td>NA</td><td>NA</td><td>NA</td><td>b7e95f7cbde7e6e45bd93eb59287b4de</td><td>no </td><td>NA</td><td>https://cran.rstudio.com/src/contrib</td></tr>\n",
              "\t<tr><th scope=row>abess</th><td><span style=white-space:pre-wrap>abess        </span></td><td>0.4.8 </td><td>NA</td><td><span style=white-space:pre-wrap>R (&gt;= 3.1.0)                                       </span></td><td><span style=white-space:pre-wrap>Rcpp, MASS, methods, Matrix                                                                                                                                </span></td><td><span style=white-space:pre-wrap>Rcpp, RcppEigen    </span></td><td><span style=white-space:pre-wrap>testthat, knitr, rmarkdown                   </span></td><td>NA</td><td>GPL (&gt;= 3) | file LICENSE</td><td>NA</td><td>NA</td><td>NA</td><td>NA</td><td>6712ac64335bbc2f99129e021b755752</td><td>yes</td><td>NA</td><td>https://cran.rstudio.com/src/contrib</td></tr>\n",
              "\t<tr><th scope=row>abglasso</th><td>abglasso     </td><td>0.1.1 </td><td>NA</td><td>NA                                                 </td><td>MASS, pracma, stats, statmod                                                                                                                               </td><td>NA                 </td><td>testthat                                     </td><td>NA</td><td>GPL-3                    </td><td>NA</td><td>NA</td><td>NA</td><td>NA</td><td>18bd0759cd005c5ac6fb515799b3f3d8</td><td>no </td><td>NA</td><td>https://cran.rstudio.com/src/contrib</td></tr>\n",
              "\t<tr><th scope=row>ABHgenotypeR</th><td>ABHgenotypeR </td><td>1.0.1 </td><td>NA</td><td>NA                                                 </td><td>ggplot2, reshape2, utils                                                                                                                                   </td><td>NA                 </td><td>knitr, rmarkdown                             </td><td>NA</td><td>GPL-3                    </td><td>NA</td><td>NA</td><td>NA</td><td>NA</td><td>ca4397ba7390c0e0a3728c0cda864494</td><td>no </td><td>NA</td><td>https://cran.rstudio.com/src/contrib</td></tr>\n",
              "\t<tr><th scope=row>abind</th><td><span style=white-space:pre-wrap>abind        </span></td><td>1.4-5 </td><td>NA</td><td><span style=white-space:pre-wrap>R (&gt;= 1.5.0)                                       </span></td><td><span style=white-space:pre-wrap>methods, utils                                                                                                                                             </span></td><td><span style=white-space:pre-wrap>NA                 </span></td><td><span style=white-space:pre-wrap>NA                                           </span></td><td>NA</td><td><span style=white-space:pre-wrap>LGPL (&gt;= 2)              </span></td><td>NA</td><td>NA</td><td>NA</td><td>NA</td><td>136f981e1c4f618b64a87faaa7797c97</td><td>no </td><td>NA</td><td>https://cran.rstudio.com/src/contrib</td></tr>\n",
              "\t<tr><th scope=row>abjData</th><td><span style=white-space:pre-wrap>abjData      </span></td><td>1.1.2 </td><td>NA</td><td><span style=white-space:pre-wrap>R (&gt;= 3.3.1)                                       </span></td><td><span style=white-space:pre-wrap>NA                                                                                                                                                         </span></td><td><span style=white-space:pre-wrap>NA                 </span></td><td><span style=white-space:pre-wrap>NA                                           </span></td><td>NA</td><td><span style=white-space:pre-wrap>MIT + file LICENSE       </span></td><td>NA</td><td>NA</td><td>NA</td><td>NA</td><td>ce34560a5a10c39d49192ffc2ad5cd9b</td><td>no </td><td>NA</td><td>https://cran.rstudio.com/src/contrib</td></tr>\n",
              "\t<tr><th scope=row>abjutils</th><td><span style=white-space:pre-wrap>abjutils     </span></td><td>0.3.2 </td><td>NA</td><td><span style=white-space:pre-wrap>R (&gt;= 3.6)                                         </span></td><td><span style=white-space:pre-wrap>dplyr, magrittr, purrr, rlang, rstudioapi, stringi, stringr,\n",
              "tidyr                                                                                        </span></td><td><span style=white-space:pre-wrap>NA                 </span></td><td><span style=white-space:pre-wrap>testthat                                     </span></td><td>NA</td><td><span style=white-space:pre-wrap>MIT + file LICENSE       </span></td><td>NA</td><td>NA</td><td>NA</td><td>NA</td><td>3b2f11ee82ac1ef0bf38de4207213273</td><td>no </td><td>NA</td><td>https://cran.rstudio.com/src/contrib</td></tr>\n",
              "\t<tr><th scope=row>ABM</th><td><span style=white-space:pre-wrap>ABM          </span></td><td>0.4.1 </td><td>NA</td><td><span style=white-space:pre-wrap>NA                                                 </span></td><td><span style=white-space:pre-wrap>R6, Rcpp                                                                                                                                                   </span></td><td><span style=white-space:pre-wrap>Rcpp               </span></td><td><span style=white-space:pre-wrap>NA                                           </span></td><td>NA</td><td><span style=white-space:pre-wrap>GPL (&gt;= 2)               </span></td><td>NA</td><td>NA</td><td>NA</td><td>NA</td><td>fefc079e9260c23575ab4576569849c8</td><td>yes</td><td>NA</td><td>https://cran.rstudio.com/src/contrib</td></tr>\n",
              "\t<tr><th scope=row>abmR</th><td><span style=white-space:pre-wrap>abmR         </span></td><td>1.0.10</td><td>NA</td><td><span style=white-space:pre-wrap>R (&gt;= 3.5)                                         </span></td><td>sp, table1, googledrive, swfscMisc, geosphere, kableExtra,\n",
              "gtsummary, ggplot2, gstat, purrr, sf, tmap, raster, utils,\n",
              "stats, methods, rnaturalearth, maps</td><td><span style=white-space:pre-wrap>NA                 </span></td><td><span style=white-space:pre-wrap>jpeg, knitr                                  </span></td><td>NA</td><td><span style=white-space:pre-wrap>GPL (&gt;= 3)               </span></td><td>NA</td><td>NA</td><td>NA</td><td>NA</td><td>bb47b010ed03573cea3ad57722d36c30</td><td>no </td><td>NA</td><td>https://cran.rstudio.com/src/contrib</td></tr>\n",
              "\t<tr><th scope=row>abnormality</th><td><span style=white-space:pre-wrap>abnormality  </span></td><td>0.1.0 </td><td>NA</td><td><span style=white-space:pre-wrap>NA                                                 </span></td><td><span style=white-space:pre-wrap>MASS (&gt;= 7.3.0), Matrix                                                                                                                                    </span></td><td><span style=white-space:pre-wrap>NA                 </span></td><td><span style=white-space:pre-wrap>NA                                           </span></td><td>NA</td><td><span style=white-space:pre-wrap>MIT + file LICENSE       </span></td><td>NA</td><td>NA</td><td>NA</td><td>NA</td><td>da052e7d38d02c5c050e7879f2713345</td><td>no </td><td>NA</td><td>https://cran.rstudio.com/src/contrib</td></tr>\n",
              "\t<tr><th scope=row>abodOutlier</th><td><span style=white-space:pre-wrap>abodOutlier  </span></td><td><span style=white-space:pre-wrap>0.1   </span></td><td>NA</td><td><span style=white-space:pre-wrap>cluster, R (&gt;= 3.1.2)                              </span></td><td><span style=white-space:pre-wrap>NA                                                                                                                                                         </span></td><td><span style=white-space:pre-wrap>NA                 </span></td><td><span style=white-space:pre-wrap>NA                                           </span></td><td>NA</td><td><span style=white-space:pre-wrap>MIT + file LICENSE       </span></td><td>NA</td><td>NA</td><td>NA</td><td>NA</td><td>e3782e42842fc893d036bdfb7fd86d91</td><td>no </td><td>NA</td><td>https://cran.rstudio.com/src/contrib</td></tr>\n",
              "\t<tr><th scope=row>⋮</th><td>⋮</td><td>⋮</td><td>⋮</td><td>⋮</td><td>⋮</td><td>⋮</td><td>⋮</td><td>⋮</td><td>⋮</td><td>⋮</td><td>⋮</td><td>⋮</td><td>⋮</td><td>⋮</td><td>⋮</td><td>⋮</td><td>⋮</td></tr>\n",
              "\t<tr><th scope=row>ZIprop</th><td><span style=white-space:pre-wrap>ZIprop        </span></td><td>0.1.1 </td><td>NA</td><td>R (&gt;= 3.5.0), rgenoud, purrr, data.table, parallel</td><td><span style=white-space:pre-wrap>NA                                                                                                                                                                                            </span></td><td><span style=white-space:pre-wrap>NA                                                                                                                               </span></td><td><span style=white-space:pre-wrap>markdown, knitr, ggplot2, ggrepel, ggthemes, kableExtra,\n",
              "stringr                                                                 </span></td><td>NA</td><td><span style=white-space:pre-wrap>GPL-3               </span></td><td>NA</td><td>NA</td><td>NA</td><td>NA</td><td>aad4f978f34107fd4d8e412a4c6726ba</td><td>no </td><td>NA</td><td>https://cran.rstudio.com/src/contrib</td></tr>\n",
              "\t<tr><th scope=row>zipsae</th><td><span style=white-space:pre-wrap>zipsae        </span></td><td>1.0.2 </td><td>NA</td><td><span style=white-space:pre-wrap>R (&gt;= 2.10)                                       </span></td><td><span style=white-space:pre-wrap>stats                                                                                                                                                                                         </span></td><td><span style=white-space:pre-wrap>NA                                                                                                                               </span></td><td><span style=white-space:pre-wrap>NA                                                                                                                                </span></td><td>NA</td><td><span style=white-space:pre-wrap>GPL-3               </span></td><td>NA</td><td>NA</td><td>NA</td><td>NA</td><td>9117389e38f78b005ff4141edf20220e</td><td>no </td><td>NA</td><td>https://cran.rstudio.com/src/contrib</td></tr>\n",
              "\t<tr><th scope=row>ZLAvian</th><td><span style=white-space:pre-wrap>ZLAvian       </span></td><td>0.1.0 </td><td>NA</td><td><span style=white-space:pre-wrap>R(&gt;= 4.3.0)                                       </span></td><td><span style=white-space:pre-wrap>lme4 (&gt;= 1.1-34), performance (&gt;= 0.10.4), doParallel (&gt;=\n",
              "1.0.17)                                                                                                                            </span></td><td><span style=white-space:pre-wrap>NA                                                                                                                               </span></td><td><span style=white-space:pre-wrap>rmarkdown, knitr                                                                                                                  </span></td><td>NA</td><td><span style=white-space:pre-wrap>CC BY-SA 4.0        </span></td><td>NA</td><td>NA</td><td>NA</td><td>NA</td><td>658b333edf5ffd56b50c2b6e6065fef1</td><td>no </td><td>NA</td><td>https://cran.rstudio.com/src/contrib</td></tr>\n",
              "\t<tr><th scope=row>zlib</th><td><span style=white-space:pre-wrap>zlib          </span></td><td>1.0.3 </td><td>NA</td><td><span style=white-space:pre-wrap>R (&gt;= 3.6.0)                                      </span></td><td><span style=white-space:pre-wrap>Rcpp                                                                                                                                                                                          </span></td><td><span style=white-space:pre-wrap>Rcpp                                                                                                                             </span></td><td><span style=white-space:pre-wrap>testthat (&gt;= 3.0.0)                                                                                                               </span></td><td>NA</td><td><span style=white-space:pre-wrap>MIT + file LICENSE  </span></td><td>NA</td><td>NA</td><td>NA</td><td>NA</td><td>3a6b28fec504f984098746ff0beb5bce</td><td>yes</td><td>NA</td><td>https://cran.rstudio.com/src/contrib</td></tr>\n",
              "\t<tr><th scope=row>zlog</th><td><span style=white-space:pre-wrap>zlog          </span></td><td>1.0.2 </td><td>NA</td><td><span style=white-space:pre-wrap>R (&gt;= 3.6.0)                                      </span></td><td><span style=white-space:pre-wrap>NA                                                                                                                                                                                            </span></td><td><span style=white-space:pre-wrap>NA                                                                                                                               </span></td><td><span style=white-space:pre-wrap>kableExtra, knitr, rmarkdown, survival, testthat                                                                                  </span></td><td>NA</td><td><span style=white-space:pre-wrap>GPL (&gt;= 3)          </span></td><td>NA</td><td>NA</td><td>NA</td><td>NA</td><td>197282401f07eb9bcde77379526f4a54</td><td>no </td><td>NA</td><td>https://cran.rstudio.com/src/contrib</td></tr>\n",
              "\t<tr><th scope=row>zmisc</th><td>zmisc         </td><td>0.2.3 </td><td>NA</td><td>NA                                                </td><td>NA                                                                                                                                                                                            </td><td>NA                                                                                                                               </td><td>desc, dplyr, haven, knitr, labelled, purrr, rmarkdown,\n",
              "roxygen2, rprojroot, stringr, testthat, tibble                            </td><td>NA</td><td>MIT + file LICENSE  </td><td>NA</td><td>NA</td><td>NA</td><td>NA</td><td>55f1a7179aae849204826de37bb72b83</td><td>no </td><td>NA</td><td>https://cran.rstudio.com/src/contrib</td></tr>\n",
              "\t<tr><th scope=row>zoeppritz</th><td><span style=white-space:pre-wrap>zoeppritz     </span></td><td>1.0-9 </td><td>NA</td><td><span style=white-space:pre-wrap>NA                                                </span></td><td><span style=white-space:pre-wrap>NA                                                                                                                                                                                            </span></td><td><span style=white-space:pre-wrap>NA                                                                                                                               </span></td><td><span style=white-space:pre-wrap>NA                                                                                                                                </span></td><td>NA</td><td><span style=white-space:pre-wrap>GPL (&gt;= 2)          </span></td><td>NA</td><td>NA</td><td>NA</td><td>NA</td><td>8c23655416dc0e33a7dd8a0b6654c5a7</td><td>no </td><td>NA</td><td>https://cran.rstudio.com/src/contrib</td></tr>\n",
              "\t<tr><th scope=row>zoib</th><td><span style=white-space:pre-wrap>zoib          </span></td><td><span style=white-space:pre-wrap>1.6   </span></td><td>NA</td><td><span style=white-space:pre-wrap>R (&gt;= 3.3.0), rjags, coda, Formula, abind         </span></td><td><span style=white-space:pre-wrap>NA                                                                                                                                                                                            </span></td><td><span style=white-space:pre-wrap>NA                                                                                                                               </span></td><td><span style=white-space:pre-wrap>NA                                                                                                                                </span></td><td>NA</td><td><span style=white-space:pre-wrap>GPL (&gt;= 3)          </span></td><td>NA</td><td>NA</td><td>NA</td><td>NA</td><td>fd726958a45635bc567a234926434997</td><td>no </td><td>NA</td><td>https://cran.rstudio.com/src/contrib</td></tr>\n",
              "\t<tr><th scope=row>zoid</th><td><span style=white-space:pre-wrap>zoid          </span></td><td>1.3.1 </td><td>NA</td><td><span style=white-space:pre-wrap>R (&gt;= 3.4.0)                                      </span></td><td><span style=white-space:pre-wrap>gtools, methods, Rcpp (&gt;= 0.12.0), RcppParallel (&gt;= 5.0.1),\n",
              "rstan (&gt;= 2.26.0), rstantools (&gt;= 2.1.1)                                                                                         </span></td><td>BH (&gt;= 1.66.0), Rcpp (&gt;= 0.12.0), RcppEigen (&gt;= 0.3.3.3.0),\n",
              "RcppParallel (&gt;= 5.0.1), rstan (&gt;= 2.26.0), StanHeaders (&gt;=\n",
              "2.26.0)</td><td><span style=white-space:pre-wrap>testthat, knitr, rmarkdown                                                                                                        </span></td><td>NA</td><td><span style=white-space:pre-wrap>GPL (&gt;= 3)          </span></td><td>NA</td><td>NA</td><td>NA</td><td>NA</td><td>c191dbea1366b7d3eb708d8c0012274b</td><td>yes</td><td>NA</td><td>https://cran.rstudio.com/src/contrib</td></tr>\n",
              "\t<tr><th scope=row>zoltr</th><td>zoltr         </td><td>0.5.1 </td><td>NA</td><td>NA                                                </td><td>httr, jsonlite, readr, mockery, webmockr, base64url, dplyr,\n",
              "MMWRweek, utils, rlang, magrittr                                                                                                 </td><td>NA                                                                                                                               </td><td>testthat, knitr, rmarkdown                                                                                                        </td><td>NA</td><td>GPL-3               </td><td>NA</td><td>NA</td><td>NA</td><td>NA</td><td>5ded4085dcfd841cfbe383d828d0d6d8</td><td>no </td><td>NA</td><td>https://cran.rstudio.com/src/contrib</td></tr>\n",
              "\t<tr><th scope=row>zonebuilder</th><td><span style=white-space:pre-wrap>zonebuilder   </span></td><td>0.0.2 </td><td>NA</td><td><span style=white-space:pre-wrap>R (&gt;= 2.10)                                       </span></td><td><span style=white-space:pre-wrap>sf, RColorBrewer, graphics, grDevices                                                                                                                                                         </span></td><td><span style=white-space:pre-wrap>NA                                                                                                                               </span></td><td><span style=white-space:pre-wrap>knitr, rmarkdown, tmap, tmaptools, pct, dplyr, lwgeom,\n",
              "leaflet, covr, bookdown                                                   </span></td><td>NA</td><td><span style=white-space:pre-wrap>GPL-3               </span></td><td>NA</td><td>NA</td><td>NA</td><td>NA</td><td>eb498a4b9f6bc063d90672617d0bd414</td><td>no </td><td>NA</td><td>https://cran.rstudio.com/src/contrib</td></tr>\n",
              "\t<tr><th scope=row>zonohedra</th><td><span style=white-space:pre-wrap>zonohedra     </span></td><td>0.2-2 </td><td>NA</td><td><span style=white-space:pre-wrap>R (&gt;= 4.0.0)                                      </span></td><td><span style=white-space:pre-wrap>logger                                                                                                                                                                                        </span></td><td><span style=white-space:pre-wrap>NA                                                                                                                               </span></td><td><span style=white-space:pre-wrap>rgl, orientlib, microbenchmark, arrangements, knitr,\n",
              "rmarkdown, gifski                                                           </span></td><td>NA</td><td><span style=white-space:pre-wrap>GPL (&gt;= 2)          </span></td><td>NA</td><td>NA</td><td>NA</td><td>NA</td><td>58e3f5510857b13a56a66257f70902a2</td><td>yes</td><td>NA</td><td>https://cran.rstudio.com/src/contrib</td></tr>\n",
              "\t<tr><th scope=row>zoo</th><td><span style=white-space:pre-wrap>zoo           </span></td><td>1.8-12</td><td>NA</td><td><span style=white-space:pre-wrap>R (&gt;= 3.1.0), stats                               </span></td><td><span style=white-space:pre-wrap>utils, graphics, grDevices, lattice (&gt;= 0.20-27)                                                                                                                                              </span></td><td><span style=white-space:pre-wrap>NA                                                                                                                               </span></td><td><span style=white-space:pre-wrap>AER, coda, chron, ggplot2 (&gt;= 3.0.0), mondate, scales,\n",
              "stinepack, strucchange, timeDate, timeSeries, tis, tseries, xts           </span></td><td>NA</td><td><span style=white-space:pre-wrap>GPL-2 | GPL-3       </span></td><td>NA</td><td>NA</td><td>NA</td><td>NA</td><td>9bf826a22610f5a3f8ebd063404e7183</td><td>yes</td><td>NA</td><td>https://cran.rstudio.com/src/contrib</td></tr>\n",
              "\t<tr><th scope=row>ZooID</th><td><span style=white-space:pre-wrap>ZooID         </span></td><td>0.2.0 </td><td>NA</td><td><span style=white-space:pre-wrap>NA                                                </span></td><td><span style=white-space:pre-wrap>magick                                                                                                                                                                                        </span></td><td><span style=white-space:pre-wrap>NA                                                                                                                               </span></td><td><span style=white-space:pre-wrap>NA                                                                                                                                </span></td><td>NA</td><td><span style=white-space:pre-wrap>GPL (&gt;= 3)          </span></td><td>NA</td><td>NA</td><td>NA</td><td>NA</td><td>8a20bcdb7ecfdca12251cd0d7f9f9a1e</td><td>no </td><td>NA</td><td>https://cran.rstudio.com/src/contrib</td></tr>\n",
              "\t<tr><th scope=row>zooimage</th><td><span style=white-space:pre-wrap>zooimage      </span></td><td>5.5.2 </td><td>NA</td><td><span style=white-space:pre-wrap>R (&gt;= 2.15.0), mlearning                          </span></td><td><span style=white-space:pre-wrap>svMisc (&gt;= 0.9-67), svDialogs (&gt;= 0.9-53), filehash, jpeg,\n",
              "png, tiff, utils, digest, tools, MASS, mda, shiny, DT                                                                             </span></td><td><span style=white-space:pre-wrap>NA                                                                                                                               </span></td><td><span style=white-space:pre-wrap>rJava, mlbench                                                                                                                    </span></td><td>NA</td><td><span style=white-space:pre-wrap>GPL (&gt;= 2)          </span></td><td>NA</td><td>NA</td><td>NA</td><td>NA</td><td>a2bdb871bb94ea9c863a47b677ff13ad</td><td>no </td><td>NA</td><td>https://cran.rstudio.com/src/contrib</td></tr>\n",
              "\t<tr><th scope=row>zoolog</th><td><span style=white-space:pre-wrap>zoolog        </span></td><td>1.1.0 </td><td>NA</td><td><span style=white-space:pre-wrap>R (&gt;= 3.0)                                        </span></td><td><span style=white-space:pre-wrap>utils, stringi, Rdpack (&gt;= 0.7)                                                                                                                                                               </span></td><td><span style=white-space:pre-wrap>NA                                                                                                                               </span></td><td><span style=white-space:pre-wrap>testthat, knitr, rmarkdown, ggplot2, stats                                                                                        </span></td><td>NA</td><td><span style=white-space:pre-wrap>GPL-3               </span></td><td>NA</td><td>NA</td><td>NA</td><td>NA</td><td>56e72a52f69bc89f793cdf6fa07c5bf2</td><td>no </td><td>NA</td><td>https://cran.rstudio.com/src/contrib</td></tr>\n",
              "\t<tr><th scope=row>zoom</th><td><span style=white-space:pre-wrap>zoom          </span></td><td>2.0.6 </td><td>NA</td><td><span style=white-space:pre-wrap>R (&gt;= 2.10.0)                                     </span></td><td><span style=white-space:pre-wrap>NA                                                                                                                                                                                            </span></td><td><span style=white-space:pre-wrap>NA                                                                                                                               </span></td><td><span style=white-space:pre-wrap>testthat                                                                                                                          </span></td><td>NA</td><td><span style=white-space:pre-wrap>GPL (&gt;= 3)          </span></td><td>NA</td><td>NA</td><td>NA</td><td>NA</td><td>10971cd4ca0e6df803dd99138f428cb6</td><td>no </td><td>NA</td><td>https://cran.rstudio.com/src/contrib</td></tr>\n",
              "\t<tr><th scope=row>zoomerjoin</th><td><span style=white-space:pre-wrap>zoomerjoin    </span></td><td>0.1.4 </td><td>NA</td><td><span style=white-space:pre-wrap>R (&gt;= 2.10)                                       </span></td><td><span style=white-space:pre-wrap>dplyr, tibble, tidyr                                                                                                                                                                          </span></td><td><span style=white-space:pre-wrap>NA                                                                                                                               </span></td><td>babynames, covr, fuzzyjoin, igraph, knitr, rmarkdown,\n",
              "stringdist, testthat (&gt;= 3.0.0), tidyverse, purrr,\n",
              "microbenchmark, profmem</td><td>NA</td><td><span style=white-space:pre-wrap>GPL (&gt;= 3)          </span></td><td>NA</td><td>NA</td><td>NA</td><td>NA</td><td>dcc640c2cbce44143a40d3617f1c7aec</td><td>yes</td><td>NA</td><td>https://cran.rstudio.com/src/contrib</td></tr>\n",
              "\t<tr><th scope=row>zoomGroupStats</th><td>zoomGroupStats</td><td>0.1.0 </td><td>NA</td><td><span style=white-space:pre-wrap>R (&gt;= 2.10)                                       </span></td><td><span style=white-space:pre-wrap>data.table, dplyr, lubridate, magick, openxlsx, paws, pbapply,\n",
              "stringr, syuzhet, utils                                                                                                       </span></td><td><span style=white-space:pre-wrap>NA                                                                                                                               </span></td><td><span style=white-space:pre-wrap>rmarkdown, knitr, testthat (&gt;= 3.0.0)                                                                                             </span></td><td>NA</td><td><span style=white-space:pre-wrap>MIT + file LICENSE  </span></td><td>NA</td><td>NA</td><td>NA</td><td>NA</td><td>778848d690e8ca81eabe3ad5fe7b9610</td><td>no </td><td>NA</td><td>https://cran.rstudio.com/src/contrib</td></tr>\n",
              "\t<tr><th scope=row>zoomr</th><td><span style=white-space:pre-wrap>zoomr         </span></td><td>0.3.0 </td><td>NA</td><td><span style=white-space:pre-wrap>NA                                                </span></td><td>dplyr (&gt;= 1.0.0), magrittr (&gt;= 1.5), jsonlite (&gt;= 1.6.1), httr\n",
              "(&gt;= 1.4.1), glue (&gt;= 1.4.2), rlang (&gt;= 1.0.4), tidyr (&gt;=\n",
              "1.1.4), janitor (&gt;= 2.1.0), tidyselect (&gt;= 1.1.1), purrr (&gt;=\n",
              "0.3.4)</td><td><span style=white-space:pre-wrap>NA                                                                                                                               </span></td><td><span style=white-space:pre-wrap>NA                                                                                                                                </span></td><td>NA</td><td><span style=white-space:pre-wrap>CC0                 </span></td><td>NA</td><td>NA</td><td>NA</td><td>NA</td><td>be32e694c7ad73fc3ffe4f52bbc61cdf</td><td>no </td><td>NA</td><td>https://cran.rstudio.com/src/contrib</td></tr>\n",
              "\t<tr><th scope=row>ZRA</th><td><span style=white-space:pre-wrap>ZRA           </span></td><td><span style=white-space:pre-wrap>0.2   </span></td><td>NA</td><td><span style=white-space:pre-wrap>R (&gt;= 3.0.2), forecast, dygraphs, stats           </span></td><td><span style=white-space:pre-wrap>NA                                                                                                                                                                                            </span></td><td><span style=white-space:pre-wrap>NA                                                                                                                               </span></td><td><span style=white-space:pre-wrap>NA                                                                                                                                </span></td><td>NA</td><td><span style=white-space:pre-wrap>GPL (&gt;= 2)          </span></td><td>NA</td><td>NA</td><td>NA</td><td>NA</td><td>0b7d36c7518b9613db7df10d29d659c1</td><td>no </td><td>NA</td><td>https://cran.rstudio.com/src/contrib</td></tr>\n",
              "\t<tr><th scope=row>zscorer</th><td><span style=white-space:pre-wrap>zscorer       </span></td><td>0.3.1 </td><td>NA</td><td><span style=white-space:pre-wrap>R (&gt;= 2.10)                                       </span></td><td><span style=white-space:pre-wrap>shiny                                                                                                                                                                                         </span></td><td><span style=white-space:pre-wrap>NA                                                                                                                               </span></td><td><span style=white-space:pre-wrap>testthat, knitr, rmarkdown, shinythemes, covr                                                                                     </span></td><td>NA</td><td><span style=white-space:pre-wrap>AGPL-3              </span></td><td>NA</td><td>NA</td><td>NA</td><td>NA</td><td>3b387940a0bbd6c36a2da7cd5f206d62</td><td>no </td><td>NA</td><td>https://cran.rstudio.com/src/contrib</td></tr>\n",
              "\t<tr><th scope=row>Zseq</th><td>Zseq          </td><td>0.2.1 </td><td>NA</td><td>NA                                                </td><td>gmp, utils                                                                                                                                                                                    </td><td>NA                                                                                                                               </td><td>NA                                                                                                                                </td><td>NA</td><td>MIT + file LICENSE  </td><td>NA</td><td>NA</td><td>NA</td><td>NA</td><td>4e8fa0944d2614870d8d5db3774f98d8</td><td>no </td><td>NA</td><td>https://cran.rstudio.com/src/contrib</td></tr>\n",
              "\t<tr><th scope=row>ztable</th><td><span style=white-space:pre-wrap>ztable        </span></td><td>0.2.3 </td><td>NA</td><td><span style=white-space:pre-wrap>R (&gt;= 3.1.2)                                      </span></td><td><span style=white-space:pre-wrap>stringr, magrittr, RColorBrewer, flextable, officer,\n",
              "rstudioapi, scales                                                                                                                      </span></td><td><span style=white-space:pre-wrap>NA                                                                                                                               </span></td><td><span style=white-space:pre-wrap>MASS, moonBook, survival, testthat, knitr, rmarkdown                                                                              </span></td><td>NA</td><td><span style=white-space:pre-wrap>GPL-2               </span></td><td>NA</td><td>NA</td><td>NA</td><td>NA</td><td>b9f462e4cc1f571d6dc5f621f93ca31a</td><td>no </td><td>NA</td><td>https://cran.rstudio.com/src/contrib</td></tr>\n",
              "\t<tr><th scope=row>ztpln</th><td><span style=white-space:pre-wrap>ztpln         </span></td><td>0.1.2 </td><td>NA</td><td><span style=white-space:pre-wrap>R (&gt;= 3.5)                                        </span></td><td><span style=white-space:pre-wrap>DistributionUtils, Rcpp (&gt;= 0.12.0), mixtools, stats                                                                                                                                          </span></td><td><span style=white-space:pre-wrap>Rcpp (&gt;= 0.12.0), RcppEigen (&gt;= 0.3.3.3.0), RcppNumerical\n",
              "(&gt;= 0.3-2)                                                            </span></td><td><span style=white-space:pre-wrap>knitr, dplyr, ggplot2, rmarkdown, testthat, tidyr(&gt;= 1.0.0)                                                                       </span></td><td>NA</td><td><span style=white-space:pre-wrap>MIT + file LICENSE  </span></td><td>NA</td><td>NA</td><td>NA</td><td>NA</td><td>e263dae0a997badd7292347a2fb699f7</td><td>yes</td><td>NA</td><td>https://cran.rstudio.com/src/contrib</td></tr>\n",
              "\t<tr><th scope=row>zTree</th><td><span style=white-space:pre-wrap>zTree         </span></td><td>1.0.7 </td><td>NA</td><td><span style=white-space:pre-wrap>R (&gt;= 3.1.0)                                      </span></td><td><span style=white-space:pre-wrap>plyr (&gt;= 1.0)                                                                                                                                                                                 </span></td><td><span style=white-space:pre-wrap>NA                                                                                                                               </span></td><td><span style=white-space:pre-wrap>NA                                                                                                                                </span></td><td>NA</td><td>GPL-3 | file LICENSE</td><td>NA</td><td>NA</td><td>NA</td><td>NA</td><td>ef7ec3d28753f147de892d0b38d5db3e</td><td>no </td><td>NA</td><td>https://cran.rstudio.com/src/contrib</td></tr>\n",
              "\t<tr><th scope=row>ztype</th><td>ztype         </td><td>0.1.0 </td><td>NA</td><td>NA                                                </td><td>magrittr, rvest, stats, stringr, utils, dplyr, ggplot2,\n",
              "lubridate, assertthat                                                                                                                </td><td>NA                                                                                                                               </td><td>NA                                                                                                                                </td><td>NA</td><td>GPL-3               </td><td>NA</td><td>NA</td><td>NA</td><td>NA</td><td>28d75de6acc106becb6e49fe6a0d7ed7</td><td>no </td><td>NA</td><td>https://cran.rstudio.com/src/contrib</td></tr>\n",
              "\t<tr><th scope=row>ZVCV</th><td><span style=white-space:pre-wrap>ZVCV          </span></td><td>2.1.2 </td><td>NA</td><td><span style=white-space:pre-wrap>NA                                                </span></td><td><span style=white-space:pre-wrap>Rcpp (&gt;= 0.11.0), glmnet, abind, mvtnorm, stats, Rlinsolve,\n",
              "magrittr, dplyr                                                                                                                  </span></td><td><span style=white-space:pre-wrap>Rcpp, RcppArmadillo, BH                                                                                                          </span></td><td><span style=white-space:pre-wrap>partitions, ggplot2, ggthemes                                                                                                     </span></td><td>NA</td><td><span style=white-space:pre-wrap>GPL (&gt;= 2)          </span></td><td>NA</td><td>NA</td><td>NA</td><td>NA</td><td>f2dbdcc1c6510ae621deb2f6cec290c0</td><td>yes</td><td>NA</td><td>https://cran.rstudio.com/src/contrib</td></tr>\n",
              "\t<tr><th scope=row>zyp</th><td><span style=white-space:pre-wrap>zyp           </span></td><td>0.11-1</td><td>NA</td><td><span style=white-space:pre-wrap>R (&gt;= 2.4.0), Kendall                             </span></td><td><span style=white-space:pre-wrap>NA                                                                                                                                                                                            </span></td><td><span style=white-space:pre-wrap>NA                                                                                                                               </span></td><td><span style=white-space:pre-wrap>NA                                                                                                                                </span></td><td>NA</td><td><span style=white-space:pre-wrap>LGPL-2.1            </span></td><td>NA</td><td>NA</td><td>NA</td><td>NA</td><td>7dc344086f71cc93d29e80eccd15a588</td><td>no </td><td>NA</td><td>https://cran.rstudio.com/src/contrib</td></tr>\n",
              "\t<tr><th scope=row>zzlite</th><td><span style=white-space:pre-wrap>zzlite        </span></td><td>0.1.2 </td><td>NA</td><td><span style=white-space:pre-wrap>R (&gt;= 3.2)                                        </span></td><td><span style=white-space:pre-wrap>httr, jsonlite                                                                                                                                                                                </span></td><td><span style=white-space:pre-wrap>NA                                                                                                                               </span></td><td><span style=white-space:pre-wrap>httptest, roxygen2, testthat, knitr, rmarkdown                                                                                    </span></td><td>NA</td><td><span style=white-space:pre-wrap>GPL-3               </span></td><td>NA</td><td>NA</td><td>NA</td><td>NA</td><td>2698c39a6f1c7e634db063345746e5f8</td><td>no </td><td>NA</td><td>https://cran.rstudio.com/src/contrib</td></tr>\n",
              "</tbody>\n",
              "</table>\n"
            ],
            "text/markdown": "\nA matrix: 20680 × 17 of type chr\n\n| <!--/--> | Package | Version | Priority | Depends | Imports | LinkingTo | Suggests | Enhances | License | License_is_FOSS | License_restricts_use | OS_type | Archs | MD5sum | NeedsCompilation | File | Repository |\n|---|---|---|---|---|---|---|---|---|---|---|---|---|---|---|---|---|---|\n| A3 | A3            | 1.0.0  | NA | R (&gt;= 2.15.0), xtable, pbapply                      | NA                                                                                                                                                          | NA                  | randomForest, e1071                           | NA | GPL (&gt;= 2)                | NA | NA | NA | NA | 027ebdd8affce8f0effaecfcd5f5ade2 | no  | NA | https://cran.rstudio.com/src/contrib |\n| AalenJohansen | AalenJohansen | 1.0    | NA | NA                                                  | NA                                                                                                                                                          | NA                  | knitr, rmarkdown                              | NA | GPL (&gt;= 2)                | NA | NA | NA | NA | d7eb2a6275daa6af43bf8a980398b312 | no  | NA | https://cran.rstudio.com/src/contrib |\n| AATtools | AATtools      | 0.0.2  | NA | R (&gt;= 3.6.0)                                        | magrittr, dplyr, doParallel, foreach                                                                                                                        | NA                  | NA                                            | NA | GPL-3                     | NA | NA | NA | NA | bc59207786e9bc49167fd7d8af246b1c | no  | NA | https://cran.rstudio.com/src/contrib |\n| ABACUS | ABACUS        | 1.0.0  | NA | R (&gt;= 3.1.0)                                        | ggplot2 (&gt;= 3.1.0), shiny (&gt;= 1.3.1),                                                                                                                       | NA                  | rmarkdown (&gt;= 1.13), knitr (&gt;= 1.22)          | NA | GPL-3                     | NA | NA | NA | NA | 50c54c4da09307cb95a70aaaa54b9fbd | no  | NA | https://cran.rstudio.com/src/contrib |\n| abasequence | abasequence   | 0.1.0  | NA | NA                                                  | NA                                                                                                                                                          | NA                  | NA                                            | NA | GPL-3                     | NA | NA | NA | NA | 1392d909eb0f65be94fd4160a371ae21 | no  | NA | https://cran.rstudio.com/src/contrib |\n| abbreviate | abbreviate    | 0.1    | NA | NA                                                  | NA                                                                                                                                                          | NA                  | testthat (&gt;= 3.0.0)                           | NA | GPL-3                     | NA | NA | NA | NA | 37285eddefb6b0fce95783bf21b32999 | no  | NA | https://cran.rstudio.com/src/contrib |\n| abc | abc           | 2.2.1  | NA | R (&gt;= 2.10), abc.data, nnet, quantreg, MASS, locfit | NA                                                                                                                                                          | NA                  | NA                                            | NA | GPL (&gt;= 3)                | NA | NA | NA | NA | 21e4c928a8cdd4c6fe3c1c76c99913a9 | no  | NA | https://cran.rstudio.com/src/contrib |\n| abc.data | abc.data      | 1.1    | NA | R (&gt;= 2.10)                                         | NA                                                                                                                                                          | NA                  | NA                                            | NA | GPL (&gt;= 3)                | NA | NA | NA | NA | 1693d5a243a991f8cf290471972a54f8 | no  | NA | https://cran.rstudio.com/src/contrib |\n| ABC.RAP | ABC.RAP       | 0.9.0  | NA | R (&gt;= 3.1.0)                                        | graphics, stats, utils                                                                                                                                      | NA                  | knitr, rmarkdown                              | NA | GPL-3                     | NA | NA | NA | NA | 38c65a7251d28ef2462ee430ded95700 | no  | NA | https://cran.rstudio.com/src/contrib |\n| ABCanalysis | ABCanalysis   | 1.2.1  | NA | R (&gt;= 2.10)                                         | plotrix                                                                                                                                                     | NA                  | NA                                            | NA | GPL-3                     | NA | NA | NA | NA | 678e03837e25a922bf71bafe1f8de617 | no  | NA | https://cran.rstudio.com/src/contrib |\n| abclass | abclass       | 0.4.0  | NA | R (&gt;= 3.5.0)                                        | Rcpp, parallel, stats                                                                                                                                       | Rcpp, RcppArmadillo | Matrix, Rglpk, qpmadr, tinytest               | NA | GPL (&gt;= 3)                | NA | NA | NA | NA | dc2d8fbad0e91d3b09d7c2a0a3e65d56 | yes | NA | https://cran.rstudio.com/src/contrib |\n| ABCoptim | ABCoptim      | 0.15.0 | NA | NA                                                  | Rcpp, graphics, stats, utils                                                                                                                                | Rcpp                | testthat, covr                                | NA | MIT + file LICENSE        | NA | NA | NA | NA | a62ed03650273c09899655065437078f | yes | NA | https://cran.rstudio.com/src/contrib |\n| ABCp2 | ABCp2         | 1.2    | NA | MASS                                                | NA                                                                                                                                                          | NA                  | NA                                            | NA | GPL-2                     | NA | NA | NA | NA | e920282d5a369df71e15241be40cb60e | no  | NA | https://cran.rstudio.com/src/contrib |\n| abcrf | abcrf         | 1.9    | NA | R(&gt;= 3.1)                                           | readr, MASS, matrixStats, ranger, doParallel, parallel,\nforeach, stringr, Rcpp (&gt;= 0.11.2)                                                                 | Rcpp, RcppArmadillo | NA                                            | NA | GPL (&gt;= 2)                | NA | NA | NA | NA | 506f4cc36ae9d66bd174f4b65f8c3bb2 | yes | NA | https://cran.rstudio.com/src/contrib |\n| abcrlda | abcrlda       | 1.0.3  | NA | NA                                                  | stats                                                                                                                                                       | NA                  | NA                                            | NA | GPL-3                     | NA | NA | NA | NA | 651e6e18e08916b443aaf011b5a63525 | no  | NA | https://cran.rstudio.com/src/contrib |\n| abctools | abctools      | 1.1.7  | NA | R (&gt;= 2.10), abc, abind, parallel, plyr, Hmisc      | methods                                                                                                                                                     | NA                  | ggplot2, abc.data                             | NA | GPL (&gt;= 2)                | NA | NA | NA | NA | 1715682182f3aa3800f77e6525989a19 | yes | NA | https://cran.rstudio.com/src/contrib |\n| abd | abd           | 0.2-8  | NA | R (&gt;= 3.0), nlme, lattice, grid, mosaic             | NA                                                                                                                                                          | NA                  | boot, car, ggplot2, plyr, HH, ICC, vcd, Hmisc | NA | GPL-2                     | NA | NA | NA | NA | 1913d76a0fbc44222709381f63f385b9 | no  | NA | https://cran.rstudio.com/src/contrib |\n| abdiv | abdiv         | 0.2.0  | NA | NA                                                  | ape                                                                                                                                                         | NA                  | testthat (&gt;= 2.1.0), vegan                    | NA | MIT + file LICENSE        | NA | NA | NA | NA | 80931c0ca85ba5386000bf617552c5ce | no  | NA | https://cran.rstudio.com/src/contrib |\n| abe | abe           | 3.0.1  | NA | NA                                                  | NA                                                                                                                                                          | NA                  | NA                                            | NA | GPL (&gt;= 2)                | NA | NA | NA | NA | 9c151db5397422c8927dee41dabfbfab | no  | NA | https://cran.rstudio.com/src/contrib |\n| aberrance | aberrance     | 0.1.0  | NA | NA                                                  | graphics, grDevices, MASS, stats, utils                                                                                                                     | NA                  | NA                                            | NA | GPL (&gt;= 3)                | NA | NA | NA | NA | b7e95f7cbde7e6e45bd93eb59287b4de | no  | NA | https://cran.rstudio.com/src/contrib |\n| abess | abess         | 0.4.8  | NA | R (&gt;= 3.1.0)                                        | Rcpp, MASS, methods, Matrix                                                                                                                                 | Rcpp, RcppEigen     | testthat, knitr, rmarkdown                    | NA | GPL (&gt;= 3) | file LICENSE | NA | NA | NA | NA | 6712ac64335bbc2f99129e021b755752 | yes | NA | https://cran.rstudio.com/src/contrib |\n| abglasso | abglasso      | 0.1.1  | NA | NA                                                  | MASS, pracma, stats, statmod                                                                                                                                | NA                  | testthat                                      | NA | GPL-3                     | NA | NA | NA | NA | 18bd0759cd005c5ac6fb515799b3f3d8 | no  | NA | https://cran.rstudio.com/src/contrib |\n| ABHgenotypeR | ABHgenotypeR  | 1.0.1  | NA | NA                                                  | ggplot2, reshape2, utils                                                                                                                                    | NA                  | knitr, rmarkdown                              | NA | GPL-3                     | NA | NA | NA | NA | ca4397ba7390c0e0a3728c0cda864494 | no  | NA | https://cran.rstudio.com/src/contrib |\n| abind | abind         | 1.4-5  | NA | R (&gt;= 1.5.0)                                        | methods, utils                                                                                                                                              | NA                  | NA                                            | NA | LGPL (&gt;= 2)               | NA | NA | NA | NA | 136f981e1c4f618b64a87faaa7797c97 | no  | NA | https://cran.rstudio.com/src/contrib |\n| abjData | abjData       | 1.1.2  | NA | R (&gt;= 3.3.1)                                        | NA                                                                                                                                                          | NA                  | NA                                            | NA | MIT + file LICENSE        | NA | NA | NA | NA | ce34560a5a10c39d49192ffc2ad5cd9b | no  | NA | https://cran.rstudio.com/src/contrib |\n| abjutils | abjutils      | 0.3.2  | NA | R (&gt;= 3.6)                                          | dplyr, magrittr, purrr, rlang, rstudioapi, stringi, stringr,\ntidyr                                                                                         | NA                  | testthat                                      | NA | MIT + file LICENSE        | NA | NA | NA | NA | 3b2f11ee82ac1ef0bf38de4207213273 | no  | NA | https://cran.rstudio.com/src/contrib |\n| ABM | ABM           | 0.4.1  | NA | NA                                                  | R6, Rcpp                                                                                                                                                    | Rcpp                | NA                                            | NA | GPL (&gt;= 2)                | NA | NA | NA | NA | fefc079e9260c23575ab4576569849c8 | yes | NA | https://cran.rstudio.com/src/contrib |\n| abmR | abmR          | 1.0.10 | NA | R (&gt;= 3.5)                                          | sp, table1, googledrive, swfscMisc, geosphere, kableExtra,\ngtsummary, ggplot2, gstat, purrr, sf, tmap, raster, utils,\nstats, methods, rnaturalearth, maps | NA                  | jpeg, knitr                                   | NA | GPL (&gt;= 3)                | NA | NA | NA | NA | bb47b010ed03573cea3ad57722d36c30 | no  | NA | https://cran.rstudio.com/src/contrib |\n| abnormality | abnormality   | 0.1.0  | NA | NA                                                  | MASS (&gt;= 7.3.0), Matrix                                                                                                                                     | NA                  | NA                                            | NA | MIT + file LICENSE        | NA | NA | NA | NA | da052e7d38d02c5c050e7879f2713345 | no  | NA | https://cran.rstudio.com/src/contrib |\n| abodOutlier | abodOutlier   | 0.1    | NA | cluster, R (&gt;= 3.1.2)                               | NA                                                                                                                                                          | NA                  | NA                                            | NA | MIT + file LICENSE        | NA | NA | NA | NA | e3782e42842fc893d036bdfb7fd86d91 | no  | NA | https://cran.rstudio.com/src/contrib |\n| ⋮ | ⋮ | ⋮ | ⋮ | ⋮ | ⋮ | ⋮ | ⋮ | ⋮ | ⋮ | ⋮ | ⋮ | ⋮ | ⋮ | ⋮ | ⋮ | ⋮ | ⋮ |\n| ZIprop | ZIprop         | 0.1.1  | NA | R (&gt;= 3.5.0), rgenoud, purrr, data.table, parallel | NA                                                                                                                                                                                             | NA                                                                                                                                | markdown, knitr, ggplot2, ggrepel, ggthemes, kableExtra,\nstringr                                                                  | NA | GPL-3                | NA | NA | NA | NA | aad4f978f34107fd4d8e412a4c6726ba | no  | NA | https://cran.rstudio.com/src/contrib |\n| zipsae | zipsae         | 1.0.2  | NA | R (&gt;= 2.10)                                        | stats                                                                                                                                                                                          | NA                                                                                                                                | NA                                                                                                                                 | NA | GPL-3                | NA | NA | NA | NA | 9117389e38f78b005ff4141edf20220e | no  | NA | https://cran.rstudio.com/src/contrib |\n| ZLAvian | ZLAvian        | 0.1.0  | NA | R(&gt;= 4.3.0)                                        | lme4 (&gt;= 1.1-34), performance (&gt;= 0.10.4), doParallel (&gt;=\n1.0.17)                                                                                                                             | NA                                                                                                                                | rmarkdown, knitr                                                                                                                   | NA | CC BY-SA 4.0         | NA | NA | NA | NA | 658b333edf5ffd56b50c2b6e6065fef1 | no  | NA | https://cran.rstudio.com/src/contrib |\n| zlib | zlib           | 1.0.3  | NA | R (&gt;= 3.6.0)                                       | Rcpp                                                                                                                                                                                           | Rcpp                                                                                                                              | testthat (&gt;= 3.0.0)                                                                                                                | NA | MIT + file LICENSE   | NA | NA | NA | NA | 3a6b28fec504f984098746ff0beb5bce | yes | NA | https://cran.rstudio.com/src/contrib |\n| zlog | zlog           | 1.0.2  | NA | R (&gt;= 3.6.0)                                       | NA                                                                                                                                                                                             | NA                                                                                                                                | kableExtra, knitr, rmarkdown, survival, testthat                                                                                   | NA | GPL (&gt;= 3)           | NA | NA | NA | NA | 197282401f07eb9bcde77379526f4a54 | no  | NA | https://cran.rstudio.com/src/contrib |\n| zmisc | zmisc          | 0.2.3  | NA | NA                                                 | NA                                                                                                                                                                                             | NA                                                                                                                                | desc, dplyr, haven, knitr, labelled, purrr, rmarkdown,\nroxygen2, rprojroot, stringr, testthat, tibble                             | NA | MIT + file LICENSE   | NA | NA | NA | NA | 55f1a7179aae849204826de37bb72b83 | no  | NA | https://cran.rstudio.com/src/contrib |\n| zoeppritz | zoeppritz      | 1.0-9  | NA | NA                                                 | NA                                                                                                                                                                                             | NA                                                                                                                                | NA                                                                                                                                 | NA | GPL (&gt;= 2)           | NA | NA | NA | NA | 8c23655416dc0e33a7dd8a0b6654c5a7 | no  | NA | https://cran.rstudio.com/src/contrib |\n| zoib | zoib           | 1.6    | NA | R (&gt;= 3.3.0), rjags, coda, Formula, abind          | NA                                                                                                                                                                                             | NA                                                                                                                                | NA                                                                                                                                 | NA | GPL (&gt;= 3)           | NA | NA | NA | NA | fd726958a45635bc567a234926434997 | no  | NA | https://cran.rstudio.com/src/contrib |\n| zoid | zoid           | 1.3.1  | NA | R (&gt;= 3.4.0)                                       | gtools, methods, Rcpp (&gt;= 0.12.0), RcppParallel (&gt;= 5.0.1),\nrstan (&gt;= 2.26.0), rstantools (&gt;= 2.1.1)                                                                                          | BH (&gt;= 1.66.0), Rcpp (&gt;= 0.12.0), RcppEigen (&gt;= 0.3.3.3.0),\nRcppParallel (&gt;= 5.0.1), rstan (&gt;= 2.26.0), StanHeaders (&gt;=\n2.26.0) | testthat, knitr, rmarkdown                                                                                                         | NA | GPL (&gt;= 3)           | NA | NA | NA | NA | c191dbea1366b7d3eb708d8c0012274b | yes | NA | https://cran.rstudio.com/src/contrib |\n| zoltr | zoltr          | 0.5.1  | NA | NA                                                 | httr, jsonlite, readr, mockery, webmockr, base64url, dplyr,\nMMWRweek, utils, rlang, magrittr                                                                                                  | NA                                                                                                                                | testthat, knitr, rmarkdown                                                                                                         | NA | GPL-3                | NA | NA | NA | NA | 5ded4085dcfd841cfbe383d828d0d6d8 | no  | NA | https://cran.rstudio.com/src/contrib |\n| zonebuilder | zonebuilder    | 0.0.2  | NA | R (&gt;= 2.10)                                        | sf, RColorBrewer, graphics, grDevices                                                                                                                                                          | NA                                                                                                                                | knitr, rmarkdown, tmap, tmaptools, pct, dplyr, lwgeom,\nleaflet, covr, bookdown                                                    | NA | GPL-3                | NA | NA | NA | NA | eb498a4b9f6bc063d90672617d0bd414 | no  | NA | https://cran.rstudio.com/src/contrib |\n| zonohedra | zonohedra      | 0.2-2  | NA | R (&gt;= 4.0.0)                                       | logger                                                                                                                                                                                         | NA                                                                                                                                | rgl, orientlib, microbenchmark, arrangements, knitr,\nrmarkdown, gifski                                                            | NA | GPL (&gt;= 2)           | NA | NA | NA | NA | 58e3f5510857b13a56a66257f70902a2 | yes | NA | https://cran.rstudio.com/src/contrib |\n| zoo | zoo            | 1.8-12 | NA | R (&gt;= 3.1.0), stats                                | utils, graphics, grDevices, lattice (&gt;= 0.20-27)                                                                                                                                               | NA                                                                                                                                | AER, coda, chron, ggplot2 (&gt;= 3.0.0), mondate, scales,\nstinepack, strucchange, timeDate, timeSeries, tis, tseries, xts            | NA | GPL-2 | GPL-3        | NA | NA | NA | NA | 9bf826a22610f5a3f8ebd063404e7183 | yes | NA | https://cran.rstudio.com/src/contrib |\n| ZooID | ZooID          | 0.2.0  | NA | NA                                                 | magick                                                                                                                                                                                         | NA                                                                                                                                | NA                                                                                                                                 | NA | GPL (&gt;= 3)           | NA | NA | NA | NA | 8a20bcdb7ecfdca12251cd0d7f9f9a1e | no  | NA | https://cran.rstudio.com/src/contrib |\n| zooimage | zooimage       | 5.5.2  | NA | R (&gt;= 2.15.0), mlearning                           | svMisc (&gt;= 0.9-67), svDialogs (&gt;= 0.9-53), filehash, jpeg,\npng, tiff, utils, digest, tools, MASS, mda, shiny, DT                                                                              | NA                                                                                                                                | rJava, mlbench                                                                                                                     | NA | GPL (&gt;= 2)           | NA | NA | NA | NA | a2bdb871bb94ea9c863a47b677ff13ad | no  | NA | https://cran.rstudio.com/src/contrib |\n| zoolog | zoolog         | 1.1.0  | NA | R (&gt;= 3.0)                                         | utils, stringi, Rdpack (&gt;= 0.7)                                                                                                                                                                | NA                                                                                                                                | testthat, knitr, rmarkdown, ggplot2, stats                                                                                         | NA | GPL-3                | NA | NA | NA | NA | 56e72a52f69bc89f793cdf6fa07c5bf2 | no  | NA | https://cran.rstudio.com/src/contrib |\n| zoom | zoom           | 2.0.6  | NA | R (&gt;= 2.10.0)                                      | NA                                                                                                                                                                                             | NA                                                                                                                                | testthat                                                                                                                           | NA | GPL (&gt;= 3)           | NA | NA | NA | NA | 10971cd4ca0e6df803dd99138f428cb6 | no  | NA | https://cran.rstudio.com/src/contrib |\n| zoomerjoin | zoomerjoin     | 0.1.4  | NA | R (&gt;= 2.10)                                        | dplyr, tibble, tidyr                                                                                                                                                                           | NA                                                                                                                                | babynames, covr, fuzzyjoin, igraph, knitr, rmarkdown,\nstringdist, testthat (&gt;= 3.0.0), tidyverse, purrr,\nmicrobenchmark, profmem | NA | GPL (&gt;= 3)           | NA | NA | NA | NA | dcc640c2cbce44143a40d3617f1c7aec | yes | NA | https://cran.rstudio.com/src/contrib |\n| zoomGroupStats | zoomGroupStats | 0.1.0  | NA | R (&gt;= 2.10)                                        | data.table, dplyr, lubridate, magick, openxlsx, paws, pbapply,\nstringr, syuzhet, utils                                                                                                        | NA                                                                                                                                | rmarkdown, knitr, testthat (&gt;= 3.0.0)                                                                                              | NA | MIT + file LICENSE   | NA | NA | NA | NA | 778848d690e8ca81eabe3ad5fe7b9610 | no  | NA | https://cran.rstudio.com/src/contrib |\n| zoomr | zoomr          | 0.3.0  | NA | NA                                                 | dplyr (&gt;= 1.0.0), magrittr (&gt;= 1.5), jsonlite (&gt;= 1.6.1), httr\n(&gt;= 1.4.1), glue (&gt;= 1.4.2), rlang (&gt;= 1.0.4), tidyr (&gt;=\n1.1.4), janitor (&gt;= 2.1.0), tidyselect (&gt;= 1.1.1), purrr (&gt;=\n0.3.4) | NA                                                                                                                                | NA                                                                                                                                 | NA | CC0                  | NA | NA | NA | NA | be32e694c7ad73fc3ffe4f52bbc61cdf | no  | NA | https://cran.rstudio.com/src/contrib |\n| ZRA | ZRA            | 0.2    | NA | R (&gt;= 3.0.2), forecast, dygraphs, stats            | NA                                                                                                                                                                                             | NA                                                                                                                                | NA                                                                                                                                 | NA | GPL (&gt;= 2)           | NA | NA | NA | NA | 0b7d36c7518b9613db7df10d29d659c1 | no  | NA | https://cran.rstudio.com/src/contrib |\n| zscorer | zscorer        | 0.3.1  | NA | R (&gt;= 2.10)                                        | shiny                                                                                                                                                                                          | NA                                                                                                                                | testthat, knitr, rmarkdown, shinythemes, covr                                                                                      | NA | AGPL-3               | NA | NA | NA | NA | 3b387940a0bbd6c36a2da7cd5f206d62 | no  | NA | https://cran.rstudio.com/src/contrib |\n| Zseq | Zseq           | 0.2.1  | NA | NA                                                 | gmp, utils                                                                                                                                                                                     | NA                                                                                                                                | NA                                                                                                                                 | NA | MIT + file LICENSE   | NA | NA | NA | NA | 4e8fa0944d2614870d8d5db3774f98d8 | no  | NA | https://cran.rstudio.com/src/contrib |\n| ztable | ztable         | 0.2.3  | NA | R (&gt;= 3.1.2)                                       | stringr, magrittr, RColorBrewer, flextable, officer,\nrstudioapi, scales                                                                                                                       | NA                                                                                                                                | MASS, moonBook, survival, testthat, knitr, rmarkdown                                                                               | NA | GPL-2                | NA | NA | NA | NA | b9f462e4cc1f571d6dc5f621f93ca31a | no  | NA | https://cran.rstudio.com/src/contrib |\n| ztpln | ztpln          | 0.1.2  | NA | R (&gt;= 3.5)                                         | DistributionUtils, Rcpp (&gt;= 0.12.0), mixtools, stats                                                                                                                                           | Rcpp (&gt;= 0.12.0), RcppEigen (&gt;= 0.3.3.3.0), RcppNumerical\n(&gt;= 0.3-2)                                                             | knitr, dplyr, ggplot2, rmarkdown, testthat, tidyr(&gt;= 1.0.0)                                                                        | NA | MIT + file LICENSE   | NA | NA | NA | NA | e263dae0a997badd7292347a2fb699f7 | yes | NA | https://cran.rstudio.com/src/contrib |\n| zTree | zTree          | 1.0.7  | NA | R (&gt;= 3.1.0)                                       | plyr (&gt;= 1.0)                                                                                                                                                                                  | NA                                                                                                                                | NA                                                                                                                                 | NA | GPL-3 | file LICENSE | NA | NA | NA | NA | ef7ec3d28753f147de892d0b38d5db3e | no  | NA | https://cran.rstudio.com/src/contrib |\n| ztype | ztype          | 0.1.0  | NA | NA                                                 | magrittr, rvest, stats, stringr, utils, dplyr, ggplot2,\nlubridate, assertthat                                                                                                                 | NA                                                                                                                                | NA                                                                                                                                 | NA | GPL-3                | NA | NA | NA | NA | 28d75de6acc106becb6e49fe6a0d7ed7 | no  | NA | https://cran.rstudio.com/src/contrib |\n| ZVCV | ZVCV           | 2.1.2  | NA | NA                                                 | Rcpp (&gt;= 0.11.0), glmnet, abind, mvtnorm, stats, Rlinsolve,\nmagrittr, dplyr                                                                                                                   | Rcpp, RcppArmadillo, BH                                                                                                           | partitions, ggplot2, ggthemes                                                                                                      | NA | GPL (&gt;= 2)           | NA | NA | NA | NA | f2dbdcc1c6510ae621deb2f6cec290c0 | yes | NA | https://cran.rstudio.com/src/contrib |\n| zyp | zyp            | 0.11-1 | NA | R (&gt;= 2.4.0), Kendall                              | NA                                                                                                                                                                                             | NA                                                                                                                                | NA                                                                                                                                 | NA | LGPL-2.1             | NA | NA | NA | NA | 7dc344086f71cc93d29e80eccd15a588 | no  | NA | https://cran.rstudio.com/src/contrib |\n| zzlite | zzlite         | 0.1.2  | NA | R (&gt;= 3.2)                                         | httr, jsonlite                                                                                                                                                                                 | NA                                                                                                                                | httptest, roxygen2, testthat, knitr, rmarkdown                                                                                     | NA | GPL-3                | NA | NA | NA | NA | 2698c39a6f1c7e634db063345746e5f8 | no  | NA | https://cran.rstudio.com/src/contrib |\n\n",
            "text/latex": "A matrix: 20680 × 17 of type chr\n\\begin{tabular}{r|lllllllllllllllll}\n  & Package & Version & Priority & Depends & Imports & LinkingTo & Suggests & Enhances & License & License\\_is\\_FOSS & License\\_restricts\\_use & OS\\_type & Archs & MD5sum & NeedsCompilation & File & Repository\\\\\n\\hline\n\tA3 & A3            & 1.0.0  & NA & R (>= 2.15.0), xtable, pbapply                      & NA                                                                                                                                                          & NA                  & randomForest, e1071                           & NA & GPL (>= 2)                & NA & NA & NA & NA & 027ebdd8affce8f0effaecfcd5f5ade2 & no  & NA & https://cran.rstudio.com/src/contrib\\\\\n\tAalenJohansen & AalenJohansen & 1.0    & NA & NA                                                  & NA                                                                                                                                                          & NA                  & knitr, rmarkdown                              & NA & GPL (>= 2)                & NA & NA & NA & NA & d7eb2a6275daa6af43bf8a980398b312 & no  & NA & https://cran.rstudio.com/src/contrib\\\\\n\tAATtools & AATtools      & 0.0.2  & NA & R (>= 3.6.0)                                        & magrittr, dplyr, doParallel, foreach                                                                                                                        & NA                  & NA                                            & NA & GPL-3                     & NA & NA & NA & NA & bc59207786e9bc49167fd7d8af246b1c & no  & NA & https://cran.rstudio.com/src/contrib\\\\\n\tABACUS & ABACUS        & 1.0.0  & NA & R (>= 3.1.0)                                        & ggplot2 (>= 3.1.0), shiny (>= 1.3.1),                                                                                                                       & NA                  & rmarkdown (>= 1.13), knitr (>= 1.22)          & NA & GPL-3                     & NA & NA & NA & NA & 50c54c4da09307cb95a70aaaa54b9fbd & no  & NA & https://cran.rstudio.com/src/contrib\\\\\n\tabasequence & abasequence   & 0.1.0  & NA & NA                                                  & NA                                                                                                                                                          & NA                  & NA                                            & NA & GPL-3                     & NA & NA & NA & NA & 1392d909eb0f65be94fd4160a371ae21 & no  & NA & https://cran.rstudio.com/src/contrib\\\\\n\tabbreviate & abbreviate    & 0.1    & NA & NA                                                  & NA                                                                                                                                                          & NA                  & testthat (>= 3.0.0)                           & NA & GPL-3                     & NA & NA & NA & NA & 37285eddefb6b0fce95783bf21b32999 & no  & NA & https://cran.rstudio.com/src/contrib\\\\\n\tabc & abc           & 2.2.1  & NA & R (>= 2.10), abc.data, nnet, quantreg, MASS, locfit & NA                                                                                                                                                          & NA                  & NA                                            & NA & GPL (>= 3)                & NA & NA & NA & NA & 21e4c928a8cdd4c6fe3c1c76c99913a9 & no  & NA & https://cran.rstudio.com/src/contrib\\\\\n\tabc.data & abc.data      & 1.1    & NA & R (>= 2.10)                                         & NA                                                                                                                                                          & NA                  & NA                                            & NA & GPL (>= 3)                & NA & NA & NA & NA & 1693d5a243a991f8cf290471972a54f8 & no  & NA & https://cran.rstudio.com/src/contrib\\\\\n\tABC.RAP & ABC.RAP       & 0.9.0  & NA & R (>= 3.1.0)                                        & graphics, stats, utils                                                                                                                                      & NA                  & knitr, rmarkdown                              & NA & GPL-3                     & NA & NA & NA & NA & 38c65a7251d28ef2462ee430ded95700 & no  & NA & https://cran.rstudio.com/src/contrib\\\\\n\tABCanalysis & ABCanalysis   & 1.2.1  & NA & R (>= 2.10)                                         & plotrix                                                                                                                                                     & NA                  & NA                                            & NA & GPL-3                     & NA & NA & NA & NA & 678e03837e25a922bf71bafe1f8de617 & no  & NA & https://cran.rstudio.com/src/contrib\\\\\n\tabclass & abclass       & 0.4.0  & NA & R (>= 3.5.0)                                        & Rcpp, parallel, stats                                                                                                                                       & Rcpp, RcppArmadillo & Matrix, Rglpk, qpmadr, tinytest               & NA & GPL (>= 3)                & NA & NA & NA & NA & dc2d8fbad0e91d3b09d7c2a0a3e65d56 & yes & NA & https://cran.rstudio.com/src/contrib\\\\\n\tABCoptim & ABCoptim      & 0.15.0 & NA & NA                                                  & Rcpp, graphics, stats, utils                                                                                                                                & Rcpp                & testthat, covr                                & NA & MIT + file LICENSE        & NA & NA & NA & NA & a62ed03650273c09899655065437078f & yes & NA & https://cran.rstudio.com/src/contrib\\\\\n\tABCp2 & ABCp2         & 1.2    & NA & MASS                                                & NA                                                                                                                                                          & NA                  & NA                                            & NA & GPL-2                     & NA & NA & NA & NA & e920282d5a369df71e15241be40cb60e & no  & NA & https://cran.rstudio.com/src/contrib\\\\\n\tabcrf & abcrf         & 1.9    & NA & R(>= 3.1)                                           & readr, MASS, matrixStats, ranger, doParallel, parallel,\nforeach, stringr, Rcpp (>= 0.11.2)                                                                 & Rcpp, RcppArmadillo & NA                                            & NA & GPL (>= 2)                & NA & NA & NA & NA & 506f4cc36ae9d66bd174f4b65f8c3bb2 & yes & NA & https://cran.rstudio.com/src/contrib\\\\\n\tabcrlda & abcrlda       & 1.0.3  & NA & NA                                                  & stats                                                                                                                                                       & NA                  & NA                                            & NA & GPL-3                     & NA & NA & NA & NA & 651e6e18e08916b443aaf011b5a63525 & no  & NA & https://cran.rstudio.com/src/contrib\\\\\n\tabctools & abctools      & 1.1.7  & NA & R (>= 2.10), abc, abind, parallel, plyr, Hmisc      & methods                                                                                                                                                     & NA                  & ggplot2, abc.data                             & NA & GPL (>= 2)                & NA & NA & NA & NA & 1715682182f3aa3800f77e6525989a19 & yes & NA & https://cran.rstudio.com/src/contrib\\\\\n\tabd & abd           & 0.2-8  & NA & R (>= 3.0), nlme, lattice, grid, mosaic             & NA                                                                                                                                                          & NA                  & boot, car, ggplot2, plyr, HH, ICC, vcd, Hmisc & NA & GPL-2                     & NA & NA & NA & NA & 1913d76a0fbc44222709381f63f385b9 & no  & NA & https://cran.rstudio.com/src/contrib\\\\\n\tabdiv & abdiv         & 0.2.0  & NA & NA                                                  & ape                                                                                                                                                         & NA                  & testthat (>= 2.1.0), vegan                    & NA & MIT + file LICENSE        & NA & NA & NA & NA & 80931c0ca85ba5386000bf617552c5ce & no  & NA & https://cran.rstudio.com/src/contrib\\\\\n\tabe & abe           & 3.0.1  & NA & NA                                                  & NA                                                                                                                                                          & NA                  & NA                                            & NA & GPL (>= 2)                & NA & NA & NA & NA & 9c151db5397422c8927dee41dabfbfab & no  & NA & https://cran.rstudio.com/src/contrib\\\\\n\taberrance & aberrance     & 0.1.0  & NA & NA                                                  & graphics, grDevices, MASS, stats, utils                                                                                                                     & NA                  & NA                                            & NA & GPL (>= 3)                & NA & NA & NA & NA & b7e95f7cbde7e6e45bd93eb59287b4de & no  & NA & https://cran.rstudio.com/src/contrib\\\\\n\tabess & abess         & 0.4.8  & NA & R (>= 3.1.0)                                        & Rcpp, MASS, methods, Matrix                                                                                                                                 & Rcpp, RcppEigen     & testthat, knitr, rmarkdown                    & NA & GPL (>= 3) \\textbar{} file LICENSE & NA & NA & NA & NA & 6712ac64335bbc2f99129e021b755752 & yes & NA & https://cran.rstudio.com/src/contrib\\\\\n\tabglasso & abglasso      & 0.1.1  & NA & NA                                                  & MASS, pracma, stats, statmod                                                                                                                                & NA                  & testthat                                      & NA & GPL-3                     & NA & NA & NA & NA & 18bd0759cd005c5ac6fb515799b3f3d8 & no  & NA & https://cran.rstudio.com/src/contrib\\\\\n\tABHgenotypeR & ABHgenotypeR  & 1.0.1  & NA & NA                                                  & ggplot2, reshape2, utils                                                                                                                                    & NA                  & knitr, rmarkdown                              & NA & GPL-3                     & NA & NA & NA & NA & ca4397ba7390c0e0a3728c0cda864494 & no  & NA & https://cran.rstudio.com/src/contrib\\\\\n\tabind & abind         & 1.4-5  & NA & R (>= 1.5.0)                                        & methods, utils                                                                                                                                              & NA                  & NA                                            & NA & LGPL (>= 2)               & NA & NA & NA & NA & 136f981e1c4f618b64a87faaa7797c97 & no  & NA & https://cran.rstudio.com/src/contrib\\\\\n\tabjData & abjData       & 1.1.2  & NA & R (>= 3.3.1)                                        & NA                                                                                                                                                          & NA                  & NA                                            & NA & MIT + file LICENSE        & NA & NA & NA & NA & ce34560a5a10c39d49192ffc2ad5cd9b & no  & NA & https://cran.rstudio.com/src/contrib\\\\\n\tabjutils & abjutils      & 0.3.2  & NA & R (>= 3.6)                                          & dplyr, magrittr, purrr, rlang, rstudioapi, stringi, stringr,\ntidyr                                                                                         & NA                  & testthat                                      & NA & MIT + file LICENSE        & NA & NA & NA & NA & 3b2f11ee82ac1ef0bf38de4207213273 & no  & NA & https://cran.rstudio.com/src/contrib\\\\\n\tABM & ABM           & 0.4.1  & NA & NA                                                  & R6, Rcpp                                                                                                                                                    & Rcpp                & NA                                            & NA & GPL (>= 2)                & NA & NA & NA & NA & fefc079e9260c23575ab4576569849c8 & yes & NA & https://cran.rstudio.com/src/contrib\\\\\n\tabmR & abmR          & 1.0.10 & NA & R (>= 3.5)                                          & sp, table1, googledrive, swfscMisc, geosphere, kableExtra,\ngtsummary, ggplot2, gstat, purrr, sf, tmap, raster, utils,\nstats, methods, rnaturalearth, maps & NA                  & jpeg, knitr                                   & NA & GPL (>= 3)                & NA & NA & NA & NA & bb47b010ed03573cea3ad57722d36c30 & no  & NA & https://cran.rstudio.com/src/contrib\\\\\n\tabnormality & abnormality   & 0.1.0  & NA & NA                                                  & MASS (>= 7.3.0), Matrix                                                                                                                                     & NA                  & NA                                            & NA & MIT + file LICENSE        & NA & NA & NA & NA & da052e7d38d02c5c050e7879f2713345 & no  & NA & https://cran.rstudio.com/src/contrib\\\\\n\tabodOutlier & abodOutlier   & 0.1    & NA & cluster, R (>= 3.1.2)                               & NA                                                                                                                                                          & NA                  & NA                                            & NA & MIT + file LICENSE        & NA & NA & NA & NA & e3782e42842fc893d036bdfb7fd86d91 & no  & NA & https://cran.rstudio.com/src/contrib\\\\\n\t⋮ & ⋮ & ⋮ & ⋮ & ⋮ & ⋮ & ⋮ & ⋮ & ⋮ & ⋮ & ⋮ & ⋮ & ⋮ & ⋮ & ⋮ & ⋮ & ⋮ & ⋮\\\\\n\tZIprop & ZIprop         & 0.1.1  & NA & R (>= 3.5.0), rgenoud, purrr, data.table, parallel & NA                                                                                                                                                                                             & NA                                                                                                                                & markdown, knitr, ggplot2, ggrepel, ggthemes, kableExtra,\nstringr                                                                  & NA & GPL-3                & NA & NA & NA & NA & aad4f978f34107fd4d8e412a4c6726ba & no  & NA & https://cran.rstudio.com/src/contrib\\\\\n\tzipsae & zipsae         & 1.0.2  & NA & R (>= 2.10)                                        & stats                                                                                                                                                                                          & NA                                                                                                                                & NA                                                                                                                                 & NA & GPL-3                & NA & NA & NA & NA & 9117389e38f78b005ff4141edf20220e & no  & NA & https://cran.rstudio.com/src/contrib\\\\\n\tZLAvian & ZLAvian        & 0.1.0  & NA & R(>= 4.3.0)                                        & lme4 (>= 1.1-34), performance (>= 0.10.4), doParallel (>=\n1.0.17)                                                                                                                             & NA                                                                                                                                & rmarkdown, knitr                                                                                                                   & NA & CC BY-SA 4.0         & NA & NA & NA & NA & 658b333edf5ffd56b50c2b6e6065fef1 & no  & NA & https://cran.rstudio.com/src/contrib\\\\\n\tzlib & zlib           & 1.0.3  & NA & R (>= 3.6.0)                                       & Rcpp                                                                                                                                                                                           & Rcpp                                                                                                                              & testthat (>= 3.0.0)                                                                                                                & NA & MIT + file LICENSE   & NA & NA & NA & NA & 3a6b28fec504f984098746ff0beb5bce & yes & NA & https://cran.rstudio.com/src/contrib\\\\\n\tzlog & zlog           & 1.0.2  & NA & R (>= 3.6.0)                                       & NA                                                                                                                                                                                             & NA                                                                                                                                & kableExtra, knitr, rmarkdown, survival, testthat                                                                                   & NA & GPL (>= 3)           & NA & NA & NA & NA & 197282401f07eb9bcde77379526f4a54 & no  & NA & https://cran.rstudio.com/src/contrib\\\\\n\tzmisc & zmisc          & 0.2.3  & NA & NA                                                 & NA                                                                                                                                                                                             & NA                                                                                                                                & desc, dplyr, haven, knitr, labelled, purrr, rmarkdown,\nroxygen2, rprojroot, stringr, testthat, tibble                             & NA & MIT + file LICENSE   & NA & NA & NA & NA & 55f1a7179aae849204826de37bb72b83 & no  & NA & https://cran.rstudio.com/src/contrib\\\\\n\tzoeppritz & zoeppritz      & 1.0-9  & NA & NA                                                 & NA                                                                                                                                                                                             & NA                                                                                                                                & NA                                                                                                                                 & NA & GPL (>= 2)           & NA & NA & NA & NA & 8c23655416dc0e33a7dd8a0b6654c5a7 & no  & NA & https://cran.rstudio.com/src/contrib\\\\\n\tzoib & zoib           & 1.6    & NA & R (>= 3.3.0), rjags, coda, Formula, abind          & NA                                                                                                                                                                                             & NA                                                                                                                                & NA                                                                                                                                 & NA & GPL (>= 3)           & NA & NA & NA & NA & fd726958a45635bc567a234926434997 & no  & NA & https://cran.rstudio.com/src/contrib\\\\\n\tzoid & zoid           & 1.3.1  & NA & R (>= 3.4.0)                                       & gtools, methods, Rcpp (>= 0.12.0), RcppParallel (>= 5.0.1),\nrstan (>= 2.26.0), rstantools (>= 2.1.1)                                                                                          & BH (>= 1.66.0), Rcpp (>= 0.12.0), RcppEigen (>= 0.3.3.3.0),\nRcppParallel (>= 5.0.1), rstan (>= 2.26.0), StanHeaders (>=\n2.26.0) & testthat, knitr, rmarkdown                                                                                                         & NA & GPL (>= 3)           & NA & NA & NA & NA & c191dbea1366b7d3eb708d8c0012274b & yes & NA & https://cran.rstudio.com/src/contrib\\\\\n\tzoltr & zoltr          & 0.5.1  & NA & NA                                                 & httr, jsonlite, readr, mockery, webmockr, base64url, dplyr,\nMMWRweek, utils, rlang, magrittr                                                                                                  & NA                                                                                                                                & testthat, knitr, rmarkdown                                                                                                         & NA & GPL-3                & NA & NA & NA & NA & 5ded4085dcfd841cfbe383d828d0d6d8 & no  & NA & https://cran.rstudio.com/src/contrib\\\\\n\tzonebuilder & zonebuilder    & 0.0.2  & NA & R (>= 2.10)                                        & sf, RColorBrewer, graphics, grDevices                                                                                                                                                          & NA                                                                                                                                & knitr, rmarkdown, tmap, tmaptools, pct, dplyr, lwgeom,\nleaflet, covr, bookdown                                                    & NA & GPL-3                & NA & NA & NA & NA & eb498a4b9f6bc063d90672617d0bd414 & no  & NA & https://cran.rstudio.com/src/contrib\\\\\n\tzonohedra & zonohedra      & 0.2-2  & NA & R (>= 4.0.0)                                       & logger                                                                                                                                                                                         & NA                                                                                                                                & rgl, orientlib, microbenchmark, arrangements, knitr,\nrmarkdown, gifski                                                            & NA & GPL (>= 2)           & NA & NA & NA & NA & 58e3f5510857b13a56a66257f70902a2 & yes & NA & https://cran.rstudio.com/src/contrib\\\\\n\tzoo & zoo            & 1.8-12 & NA & R (>= 3.1.0), stats                                & utils, graphics, grDevices, lattice (>= 0.20-27)                                                                                                                                               & NA                                                                                                                                & AER, coda, chron, ggplot2 (>= 3.0.0), mondate, scales,\nstinepack, strucchange, timeDate, timeSeries, tis, tseries, xts            & NA & GPL-2 \\textbar{} GPL-3        & NA & NA & NA & NA & 9bf826a22610f5a3f8ebd063404e7183 & yes & NA & https://cran.rstudio.com/src/contrib\\\\\n\tZooID & ZooID          & 0.2.0  & NA & NA                                                 & magick                                                                                                                                                                                         & NA                                                                                                                                & NA                                                                                                                                 & NA & GPL (>= 3)           & NA & NA & NA & NA & 8a20bcdb7ecfdca12251cd0d7f9f9a1e & no  & NA & https://cran.rstudio.com/src/contrib\\\\\n\tzooimage & zooimage       & 5.5.2  & NA & R (>= 2.15.0), mlearning                           & svMisc (>= 0.9-67), svDialogs (>= 0.9-53), filehash, jpeg,\npng, tiff, utils, digest, tools, MASS, mda, shiny, DT                                                                              & NA                                                                                                                                & rJava, mlbench                                                                                                                     & NA & GPL (>= 2)           & NA & NA & NA & NA & a2bdb871bb94ea9c863a47b677ff13ad & no  & NA & https://cran.rstudio.com/src/contrib\\\\\n\tzoolog & zoolog         & 1.1.0  & NA & R (>= 3.0)                                         & utils, stringi, Rdpack (>= 0.7)                                                                                                                                                                & NA                                                                                                                                & testthat, knitr, rmarkdown, ggplot2, stats                                                                                         & NA & GPL-3                & NA & NA & NA & NA & 56e72a52f69bc89f793cdf6fa07c5bf2 & no  & NA & https://cran.rstudio.com/src/contrib\\\\\n\tzoom & zoom           & 2.0.6  & NA & R (>= 2.10.0)                                      & NA                                                                                                                                                                                             & NA                                                                                                                                & testthat                                                                                                                           & NA & GPL (>= 3)           & NA & NA & NA & NA & 10971cd4ca0e6df803dd99138f428cb6 & no  & NA & https://cran.rstudio.com/src/contrib\\\\\n\tzoomerjoin & zoomerjoin     & 0.1.4  & NA & R (>= 2.10)                                        & dplyr, tibble, tidyr                                                                                                                                                                           & NA                                                                                                                                & babynames, covr, fuzzyjoin, igraph, knitr, rmarkdown,\nstringdist, testthat (>= 3.0.0), tidyverse, purrr,\nmicrobenchmark, profmem & NA & GPL (>= 3)           & NA & NA & NA & NA & dcc640c2cbce44143a40d3617f1c7aec & yes & NA & https://cran.rstudio.com/src/contrib\\\\\n\tzoomGroupStats & zoomGroupStats & 0.1.0  & NA & R (>= 2.10)                                        & data.table, dplyr, lubridate, magick, openxlsx, paws, pbapply,\nstringr, syuzhet, utils                                                                                                        & NA                                                                                                                                & rmarkdown, knitr, testthat (>= 3.0.0)                                                                                              & NA & MIT + file LICENSE   & NA & NA & NA & NA & 778848d690e8ca81eabe3ad5fe7b9610 & no  & NA & https://cran.rstudio.com/src/contrib\\\\\n\tzoomr & zoomr          & 0.3.0  & NA & NA                                                 & dplyr (>= 1.0.0), magrittr (>= 1.5), jsonlite (>= 1.6.1), httr\n(>= 1.4.1), glue (>= 1.4.2), rlang (>= 1.0.4), tidyr (>=\n1.1.4), janitor (>= 2.1.0), tidyselect (>= 1.1.1), purrr (>=\n0.3.4) & NA                                                                                                                                & NA                                                                                                                                 & NA & CC0                  & NA & NA & NA & NA & be32e694c7ad73fc3ffe4f52bbc61cdf & no  & NA & https://cran.rstudio.com/src/contrib\\\\\n\tZRA & ZRA            & 0.2    & NA & R (>= 3.0.2), forecast, dygraphs, stats            & NA                                                                                                                                                                                             & NA                                                                                                                                & NA                                                                                                                                 & NA & GPL (>= 2)           & NA & NA & NA & NA & 0b7d36c7518b9613db7df10d29d659c1 & no  & NA & https://cran.rstudio.com/src/contrib\\\\\n\tzscorer & zscorer        & 0.3.1  & NA & R (>= 2.10)                                        & shiny                                                                                                                                                                                          & NA                                                                                                                                & testthat, knitr, rmarkdown, shinythemes, covr                                                                                      & NA & AGPL-3               & NA & NA & NA & NA & 3b387940a0bbd6c36a2da7cd5f206d62 & no  & NA & https://cran.rstudio.com/src/contrib\\\\\n\tZseq & Zseq           & 0.2.1  & NA & NA                                                 & gmp, utils                                                                                                                                                                                     & NA                                                                                                                                & NA                                                                                                                                 & NA & MIT + file LICENSE   & NA & NA & NA & NA & 4e8fa0944d2614870d8d5db3774f98d8 & no  & NA & https://cran.rstudio.com/src/contrib\\\\\n\tztable & ztable         & 0.2.3  & NA & R (>= 3.1.2)                                       & stringr, magrittr, RColorBrewer, flextable, officer,\nrstudioapi, scales                                                                                                                       & NA                                                                                                                                & MASS, moonBook, survival, testthat, knitr, rmarkdown                                                                               & NA & GPL-2                & NA & NA & NA & NA & b9f462e4cc1f571d6dc5f621f93ca31a & no  & NA & https://cran.rstudio.com/src/contrib\\\\\n\tztpln & ztpln          & 0.1.2  & NA & R (>= 3.5)                                         & DistributionUtils, Rcpp (>= 0.12.0), mixtools, stats                                                                                                                                           & Rcpp (>= 0.12.0), RcppEigen (>= 0.3.3.3.0), RcppNumerical\n(>= 0.3-2)                                                             & knitr, dplyr, ggplot2, rmarkdown, testthat, tidyr(>= 1.0.0)                                                                        & NA & MIT + file LICENSE   & NA & NA & NA & NA & e263dae0a997badd7292347a2fb699f7 & yes & NA & https://cran.rstudio.com/src/contrib\\\\\n\tzTree & zTree          & 1.0.7  & NA & R (>= 3.1.0)                                       & plyr (>= 1.0)                                                                                                                                                                                  & NA                                                                                                                                & NA                                                                                                                                 & NA & GPL-3 \\textbar{} file LICENSE & NA & NA & NA & NA & ef7ec3d28753f147de892d0b38d5db3e & no  & NA & https://cran.rstudio.com/src/contrib\\\\\n\tztype & ztype          & 0.1.0  & NA & NA                                                 & magrittr, rvest, stats, stringr, utils, dplyr, ggplot2,\nlubridate, assertthat                                                                                                                 & NA                                                                                                                                & NA                                                                                                                                 & NA & GPL-3                & NA & NA & NA & NA & 28d75de6acc106becb6e49fe6a0d7ed7 & no  & NA & https://cran.rstudio.com/src/contrib\\\\\n\tZVCV & ZVCV           & 2.1.2  & NA & NA                                                 & Rcpp (>= 0.11.0), glmnet, abind, mvtnorm, stats, Rlinsolve,\nmagrittr, dplyr                                                                                                                   & Rcpp, RcppArmadillo, BH                                                                                                           & partitions, ggplot2, ggthemes                                                                                                      & NA & GPL (>= 2)           & NA & NA & NA & NA & f2dbdcc1c6510ae621deb2f6cec290c0 & yes & NA & https://cran.rstudio.com/src/contrib\\\\\n\tzyp & zyp            & 0.11-1 & NA & R (>= 2.4.0), Kendall                              & NA                                                                                                                                                                                             & NA                                                                                                                                & NA                                                                                                                                 & NA & LGPL-2.1             & NA & NA & NA & NA & 7dc344086f71cc93d29e80eccd15a588 & no  & NA & https://cran.rstudio.com/src/contrib\\\\\n\tzzlite & zzlite         & 0.1.2  & NA & R (>= 3.2)                                         & httr, jsonlite                                                                                                                                                                                 & NA                                                                                                                                & httptest, roxygen2, testthat, knitr, rmarkdown                                                                                     & NA & GPL-3                & NA & NA & NA & NA & 2698c39a6f1c7e634db063345746e5f8 & no  & NA & https://cran.rstudio.com/src/contrib\\\\\n\\end{tabular}\n",
            "text/plain": [
              "               Package        Version Priority\n",
              "A3             A3             1.0.0   NA      \n",
              "AalenJohansen  AalenJohansen  1.0     NA      \n",
              "AATtools       AATtools       0.0.2   NA      \n",
              "ABACUS         ABACUS         1.0.0   NA      \n",
              "abasequence    abasequence    0.1.0   NA      \n",
              "abbreviate     abbreviate     0.1     NA      \n",
              "abc            abc            2.2.1   NA      \n",
              "abc.data       abc.data       1.1     NA      \n",
              "ABC.RAP        ABC.RAP        0.9.0   NA      \n",
              "ABCanalysis    ABCanalysis    1.2.1   NA      \n",
              "abclass        abclass        0.4.0   NA      \n",
              "ABCoptim       ABCoptim       0.15.0  NA      \n",
              "ABCp2          ABCp2          1.2     NA      \n",
              "abcrf          abcrf          1.9     NA      \n",
              "abcrlda        abcrlda        1.0.3   NA      \n",
              "abctools       abctools       1.1.7   NA      \n",
              "abd            abd            0.2-8   NA      \n",
              "abdiv          abdiv          0.2.0   NA      \n",
              "abe            abe            3.0.1   NA      \n",
              "aberrance      aberrance      0.1.0   NA      \n",
              "abess          abess          0.4.8   NA      \n",
              "abglasso       abglasso       0.1.1   NA      \n",
              "ABHgenotypeR   ABHgenotypeR   1.0.1   NA      \n",
              "abind          abind          1.4-5   NA      \n",
              "abjData        abjData        1.1.2   NA      \n",
              "abjutils       abjutils       0.3.2   NA      \n",
              "ABM            ABM            0.4.1   NA      \n",
              "abmR           abmR           1.0.10  NA      \n",
              "abnormality    abnormality    0.1.0   NA      \n",
              "abodOutlier    abodOutlier    0.1     NA      \n",
              "⋮              ⋮              ⋮       ⋮       \n",
              "ZIprop         ZIprop         0.1.1   NA      \n",
              "zipsae         zipsae         1.0.2   NA      \n",
              "ZLAvian        ZLAvian        0.1.0   NA      \n",
              "zlib           zlib           1.0.3   NA      \n",
              "zlog           zlog           1.0.2   NA      \n",
              "zmisc          zmisc          0.2.3   NA      \n",
              "zoeppritz      zoeppritz      1.0-9   NA      \n",
              "zoib           zoib           1.6     NA      \n",
              "zoid           zoid           1.3.1   NA      \n",
              "zoltr          zoltr          0.5.1   NA      \n",
              "zonebuilder    zonebuilder    0.0.2   NA      \n",
              "zonohedra      zonohedra      0.2-2   NA      \n",
              "zoo            zoo            1.8-12  NA      \n",
              "ZooID          ZooID          0.2.0   NA      \n",
              "zooimage       zooimage       5.5.2   NA      \n",
              "zoolog         zoolog         1.1.0   NA      \n",
              "zoom           zoom           2.0.6   NA      \n",
              "zoomerjoin     zoomerjoin     0.1.4   NA      \n",
              "zoomGroupStats zoomGroupStats 0.1.0   NA      \n",
              "zoomr          zoomr          0.3.0   NA      \n",
              "ZRA            ZRA            0.2     NA      \n",
              "zscorer        zscorer        0.3.1   NA      \n",
              "Zseq           Zseq           0.2.1   NA      \n",
              "ztable         ztable         0.2.3   NA      \n",
              "ztpln          ztpln          0.1.2   NA      \n",
              "zTree          zTree          1.0.7   NA      \n",
              "ztype          ztype          0.1.0   NA      \n",
              "ZVCV           ZVCV           2.1.2   NA      \n",
              "zyp            zyp            0.11-1  NA      \n",
              "zzlite         zzlite         0.1.2   NA      \n",
              "               Depends                                            \n",
              "A3             R (>= 2.15.0), xtable, pbapply                     \n",
              "AalenJohansen  NA                                                 \n",
              "AATtools       R (>= 3.6.0)                                       \n",
              "ABACUS         R (>= 3.1.0)                                       \n",
              "abasequence    NA                                                 \n",
              "abbreviate     NA                                                 \n",
              "abc            R (>= 2.10), abc.data, nnet, quantreg, MASS, locfit\n",
              "abc.data       R (>= 2.10)                                        \n",
              "ABC.RAP        R (>= 3.1.0)                                       \n",
              "ABCanalysis    R (>= 2.10)                                        \n",
              "abclass        R (>= 3.5.0)                                       \n",
              "ABCoptim       NA                                                 \n",
              "ABCp2          MASS                                               \n",
              "abcrf          R(>= 3.1)                                          \n",
              "abcrlda        NA                                                 \n",
              "abctools       R (>= 2.10), abc, abind, parallel, plyr, Hmisc     \n",
              "abd            R (>= 3.0), nlme, lattice, grid, mosaic            \n",
              "abdiv          NA                                                 \n",
              "abe            NA                                                 \n",
              "aberrance      NA                                                 \n",
              "abess          R (>= 3.1.0)                                       \n",
              "abglasso       NA                                                 \n",
              "ABHgenotypeR   NA                                                 \n",
              "abind          R (>= 1.5.0)                                       \n",
              "abjData        R (>= 3.3.1)                                       \n",
              "abjutils       R (>= 3.6)                                         \n",
              "ABM            NA                                                 \n",
              "abmR           R (>= 3.5)                                         \n",
              "abnormality    NA                                                 \n",
              "abodOutlier    cluster, R (>= 3.1.2)                              \n",
              "⋮              ⋮                                                  \n",
              "ZIprop         R (>= 3.5.0), rgenoud, purrr, data.table, parallel \n",
              "zipsae         R (>= 2.10)                                        \n",
              "ZLAvian        R(>= 4.3.0)                                        \n",
              "zlib           R (>= 3.6.0)                                       \n",
              "zlog           R (>= 3.6.0)                                       \n",
              "zmisc          NA                                                 \n",
              "zoeppritz      NA                                                 \n",
              "zoib           R (>= 3.3.0), rjags, coda, Formula, abind          \n",
              "zoid           R (>= 3.4.0)                                       \n",
              "zoltr          NA                                                 \n",
              "zonebuilder    R (>= 2.10)                                        \n",
              "zonohedra      R (>= 4.0.0)                                       \n",
              "zoo            R (>= 3.1.0), stats                                \n",
              "ZooID          NA                                                 \n",
              "zooimage       R (>= 2.15.0), mlearning                           \n",
              "zoolog         R (>= 3.0)                                         \n",
              "zoom           R (>= 2.10.0)                                      \n",
              "zoomerjoin     R (>= 2.10)                                        \n",
              "zoomGroupStats R (>= 2.10)                                        \n",
              "zoomr          NA                                                 \n",
              "ZRA            R (>= 3.0.2), forecast, dygraphs, stats            \n",
              "zscorer        R (>= 2.10)                                        \n",
              "Zseq           NA                                                 \n",
              "ztable         R (>= 3.1.2)                                       \n",
              "ztpln          R (>= 3.5)                                         \n",
              "zTree          R (>= 3.1.0)                                       \n",
              "ztype          NA                                                 \n",
              "ZVCV           NA                                                 \n",
              "zyp            R (>= 2.4.0), Kendall                              \n",
              "zzlite         R (>= 3.2)                                         \n",
              "               Imports                                                                                                                                                                                       \n",
              "A3             NA                                                                                                                                                                                            \n",
              "AalenJohansen  NA                                                                                                                                                                                            \n",
              "AATtools       magrittr, dplyr, doParallel, foreach                                                                                                                                                          \n",
              "ABACUS         ggplot2 (>= 3.1.0), shiny (>= 1.3.1),                                                                                                                                                         \n",
              "abasequence    NA                                                                                                                                                                                            \n",
              "abbreviate     NA                                                                                                                                                                                            \n",
              "abc            NA                                                                                                                                                                                            \n",
              "abc.data       NA                                                                                                                                                                                            \n",
              "ABC.RAP        graphics, stats, utils                                                                                                                                                                        \n",
              "ABCanalysis    plotrix                                                                                                                                                                                       \n",
              "abclass        Rcpp, parallel, stats                                                                                                                                                                         \n",
              "ABCoptim       Rcpp, graphics, stats, utils                                                                                                                                                                  \n",
              "ABCp2          NA                                                                                                                                                                                            \n",
              "abcrf          readr, MASS, matrixStats, ranger, doParallel, parallel,\\nforeach, stringr, Rcpp (>= 0.11.2)                                                                                                   \n",
              "abcrlda        stats                                                                                                                                                                                         \n",
              "abctools       methods                                                                                                                                                                                       \n",
              "abd            NA                                                                                                                                                                                            \n",
              "abdiv          ape                                                                                                                                                                                           \n",
              "abe            NA                                                                                                                                                                                            \n",
              "aberrance      graphics, grDevices, MASS, stats, utils                                                                                                                                                       \n",
              "abess          Rcpp, MASS, methods, Matrix                                                                                                                                                                   \n",
              "abglasso       MASS, pracma, stats, statmod                                                                                                                                                                  \n",
              "ABHgenotypeR   ggplot2, reshape2, utils                                                                                                                                                                      \n",
              "abind          methods, utils                                                                                                                                                                                \n",
              "abjData        NA                                                                                                                                                                                            \n",
              "abjutils       dplyr, magrittr, purrr, rlang, rstudioapi, stringi, stringr,\\ntidyr                                                                                                                           \n",
              "ABM            R6, Rcpp                                                                                                                                                                                      \n",
              "abmR           sp, table1, googledrive, swfscMisc, geosphere, kableExtra,\\ngtsummary, ggplot2, gstat, purrr, sf, tmap, raster, utils,\\nstats, methods, rnaturalearth, maps                                   \n",
              "abnormality    MASS (>= 7.3.0), Matrix                                                                                                                                                                       \n",
              "abodOutlier    NA                                                                                                                                                                                            \n",
              "⋮              ⋮                                                                                                                                                                                             \n",
              "ZIprop         NA                                                                                                                                                                                            \n",
              "zipsae         stats                                                                                                                                                                                         \n",
              "ZLAvian        lme4 (>= 1.1-34), performance (>= 0.10.4), doParallel (>=\\n1.0.17)                                                                                                                            \n",
              "zlib           Rcpp                                                                                                                                                                                          \n",
              "zlog           NA                                                                                                                                                                                            \n",
              "zmisc          NA                                                                                                                                                                                            \n",
              "zoeppritz      NA                                                                                                                                                                                            \n",
              "zoib           NA                                                                                                                                                                                            \n",
              "zoid           gtools, methods, Rcpp (>= 0.12.0), RcppParallel (>= 5.0.1),\\nrstan (>= 2.26.0), rstantools (>= 2.1.1)                                                                                         \n",
              "zoltr          httr, jsonlite, readr, mockery, webmockr, base64url, dplyr,\\nMMWRweek, utils, rlang, magrittr                                                                                                 \n",
              "zonebuilder    sf, RColorBrewer, graphics, grDevices                                                                                                                                                         \n",
              "zonohedra      logger                                                                                                                                                                                        \n",
              "zoo            utils, graphics, grDevices, lattice (>= 0.20-27)                                                                                                                                              \n",
              "ZooID          magick                                                                                                                                                                                        \n",
              "zooimage       svMisc (>= 0.9-67), svDialogs (>= 0.9-53), filehash, jpeg,\\npng, tiff, utils, digest, tools, MASS, mda, shiny, DT                                                                             \n",
              "zoolog         utils, stringi, Rdpack (>= 0.7)                                                                                                                                                               \n",
              "zoom           NA                                                                                                                                                                                            \n",
              "zoomerjoin     dplyr, tibble, tidyr                                                                                                                                                                          \n",
              "zoomGroupStats data.table, dplyr, lubridate, magick, openxlsx, paws, pbapply,\\nstringr, syuzhet, utils                                                                                                       \n",
              "zoomr          dplyr (>= 1.0.0), magrittr (>= 1.5), jsonlite (>= 1.6.1), httr\\n(>= 1.4.1), glue (>= 1.4.2), rlang (>= 1.0.4), tidyr (>=\\n1.1.4), janitor (>= 2.1.0), tidyselect (>= 1.1.1), purrr (>=\\n0.3.4)\n",
              "ZRA            NA                                                                                                                                                                                            \n",
              "zscorer        shiny                                                                                                                                                                                         \n",
              "Zseq           gmp, utils                                                                                                                                                                                    \n",
              "ztable         stringr, magrittr, RColorBrewer, flextable, officer,\\nrstudioapi, scales                                                                                                                      \n",
              "ztpln          DistributionUtils, Rcpp (>= 0.12.0), mixtools, stats                                                                                                                                          \n",
              "zTree          plyr (>= 1.0)                                                                                                                                                                                 \n",
              "ztype          magrittr, rvest, stats, stringr, utils, dplyr, ggplot2,\\nlubridate, assertthat                                                                                                                \n",
              "ZVCV           Rcpp (>= 0.11.0), glmnet, abind, mvtnorm, stats, Rlinsolve,\\nmagrittr, dplyr                                                                                                                  \n",
              "zyp            NA                                                                                                                                                                                            \n",
              "zzlite         httr, jsonlite                                                                                                                                                                                \n",
              "               LinkingTo                                                                                                                        \n",
              "A3             NA                                                                                                                               \n",
              "AalenJohansen  NA                                                                                                                               \n",
              "AATtools       NA                                                                                                                               \n",
              "ABACUS         NA                                                                                                                               \n",
              "abasequence    NA                                                                                                                               \n",
              "abbreviate     NA                                                                                                                               \n",
              "abc            NA                                                                                                                               \n",
              "abc.data       NA                                                                                                                               \n",
              "ABC.RAP        NA                                                                                                                               \n",
              "ABCanalysis    NA                                                                                                                               \n",
              "abclass        Rcpp, RcppArmadillo                                                                                                              \n",
              "ABCoptim       Rcpp                                                                                                                             \n",
              "ABCp2          NA                                                                                                                               \n",
              "abcrf          Rcpp, RcppArmadillo                                                                                                              \n",
              "abcrlda        NA                                                                                                                               \n",
              "abctools       NA                                                                                                                               \n",
              "abd            NA                                                                                                                               \n",
              "abdiv          NA                                                                                                                               \n",
              "abe            NA                                                                                                                               \n",
              "aberrance      NA                                                                                                                               \n",
              "abess          Rcpp, RcppEigen                                                                                                                  \n",
              "abglasso       NA                                                                                                                               \n",
              "ABHgenotypeR   NA                                                                                                                               \n",
              "abind          NA                                                                                                                               \n",
              "abjData        NA                                                                                                                               \n",
              "abjutils       NA                                                                                                                               \n",
              "ABM            Rcpp                                                                                                                             \n",
              "abmR           NA                                                                                                                               \n",
              "abnormality    NA                                                                                                                               \n",
              "abodOutlier    NA                                                                                                                               \n",
              "⋮              ⋮                                                                                                                                \n",
              "ZIprop         NA                                                                                                                               \n",
              "zipsae         NA                                                                                                                               \n",
              "ZLAvian        NA                                                                                                                               \n",
              "zlib           Rcpp                                                                                                                             \n",
              "zlog           NA                                                                                                                               \n",
              "zmisc          NA                                                                                                                               \n",
              "zoeppritz      NA                                                                                                                               \n",
              "zoib           NA                                                                                                                               \n",
              "zoid           BH (>= 1.66.0), Rcpp (>= 0.12.0), RcppEigen (>= 0.3.3.3.0),\\nRcppParallel (>= 5.0.1), rstan (>= 2.26.0), StanHeaders (>=\\n2.26.0)\n",
              "zoltr          NA                                                                                                                               \n",
              "zonebuilder    NA                                                                                                                               \n",
              "zonohedra      NA                                                                                                                               \n",
              "zoo            NA                                                                                                                               \n",
              "ZooID          NA                                                                                                                               \n",
              "zooimage       NA                                                                                                                               \n",
              "zoolog         NA                                                                                                                               \n",
              "zoom           NA                                                                                                                               \n",
              "zoomerjoin     NA                                                                                                                               \n",
              "zoomGroupStats NA                                                                                                                               \n",
              "zoomr          NA                                                                                                                               \n",
              "ZRA            NA                                                                                                                               \n",
              "zscorer        NA                                                                                                                               \n",
              "Zseq           NA                                                                                                                               \n",
              "ztable         NA                                                                                                                               \n",
              "ztpln          Rcpp (>= 0.12.0), RcppEigen (>= 0.3.3.3.0), RcppNumerical\\n(>= 0.3-2)                                                            \n",
              "zTree          NA                                                                                                                               \n",
              "ztype          NA                                                                                                                               \n",
              "ZVCV           Rcpp, RcppArmadillo, BH                                                                                                          \n",
              "zyp            NA                                                                                                                               \n",
              "zzlite         NA                                                                                                                               \n",
              "               Suggests                                                                                                                          \n",
              "A3             randomForest, e1071                                                                                                               \n",
              "AalenJohansen  knitr, rmarkdown                                                                                                                  \n",
              "AATtools       NA                                                                                                                                \n",
              "ABACUS         rmarkdown (>= 1.13), knitr (>= 1.22)                                                                                              \n",
              "abasequence    NA                                                                                                                                \n",
              "abbreviate     testthat (>= 3.0.0)                                                                                                               \n",
              "abc            NA                                                                                                                                \n",
              "abc.data       NA                                                                                                                                \n",
              "ABC.RAP        knitr, rmarkdown                                                                                                                  \n",
              "ABCanalysis    NA                                                                                                                                \n",
              "abclass        Matrix, Rglpk, qpmadr, tinytest                                                                                                   \n",
              "ABCoptim       testthat, covr                                                                                                                    \n",
              "ABCp2          NA                                                                                                                                \n",
              "abcrf          NA                                                                                                                                \n",
              "abcrlda        NA                                                                                                                                \n",
              "abctools       ggplot2, abc.data                                                                                                                 \n",
              "abd            boot, car, ggplot2, plyr, HH, ICC, vcd, Hmisc                                                                                     \n",
              "abdiv          testthat (>= 2.1.0), vegan                                                                                                        \n",
              "abe            NA                                                                                                                                \n",
              "aberrance      NA                                                                                                                                \n",
              "abess          testthat, knitr, rmarkdown                                                                                                        \n",
              "abglasso       testthat                                                                                                                          \n",
              "ABHgenotypeR   knitr, rmarkdown                                                                                                                  \n",
              "abind          NA                                                                                                                                \n",
              "abjData        NA                                                                                                                                \n",
              "abjutils       testthat                                                                                                                          \n",
              "ABM            NA                                                                                                                                \n",
              "abmR           jpeg, knitr                                                                                                                       \n",
              "abnormality    NA                                                                                                                                \n",
              "abodOutlier    NA                                                                                                                                \n",
              "⋮              ⋮                                                                                                                                 \n",
              "ZIprop         markdown, knitr, ggplot2, ggrepel, ggthemes, kableExtra,\\nstringr                                                                 \n",
              "zipsae         NA                                                                                                                                \n",
              "ZLAvian        rmarkdown, knitr                                                                                                                  \n",
              "zlib           testthat (>= 3.0.0)                                                                                                               \n",
              "zlog           kableExtra, knitr, rmarkdown, survival, testthat                                                                                  \n",
              "zmisc          desc, dplyr, haven, knitr, labelled, purrr, rmarkdown,\\nroxygen2, rprojroot, stringr, testthat, tibble                            \n",
              "zoeppritz      NA                                                                                                                                \n",
              "zoib           NA                                                                                                                                \n",
              "zoid           testthat, knitr, rmarkdown                                                                                                        \n",
              "zoltr          testthat, knitr, rmarkdown                                                                                                        \n",
              "zonebuilder    knitr, rmarkdown, tmap, tmaptools, pct, dplyr, lwgeom,\\nleaflet, covr, bookdown                                                   \n",
              "zonohedra      rgl, orientlib, microbenchmark, arrangements, knitr,\\nrmarkdown, gifski                                                           \n",
              "zoo            AER, coda, chron, ggplot2 (>= 3.0.0), mondate, scales,\\nstinepack, strucchange, timeDate, timeSeries, tis, tseries, xts           \n",
              "ZooID          NA                                                                                                                                \n",
              "zooimage       rJava, mlbench                                                                                                                    \n",
              "zoolog         testthat, knitr, rmarkdown, ggplot2, stats                                                                                        \n",
              "zoom           testthat                                                                                                                          \n",
              "zoomerjoin     babynames, covr, fuzzyjoin, igraph, knitr, rmarkdown,\\nstringdist, testthat (>= 3.0.0), tidyverse, purrr,\\nmicrobenchmark, profmem\n",
              "zoomGroupStats rmarkdown, knitr, testthat (>= 3.0.0)                                                                                             \n",
              "zoomr          NA                                                                                                                                \n",
              "ZRA            NA                                                                                                                                \n",
              "zscorer        testthat, knitr, rmarkdown, shinythemes, covr                                                                                     \n",
              "Zseq           NA                                                                                                                                \n",
              "ztable         MASS, moonBook, survival, testthat, knitr, rmarkdown                                                                              \n",
              "ztpln          knitr, dplyr, ggplot2, rmarkdown, testthat, tidyr(>= 1.0.0)                                                                       \n",
              "zTree          NA                                                                                                                                \n",
              "ztype          NA                                                                                                                                \n",
              "ZVCV           partitions, ggplot2, ggthemes                                                                                                     \n",
              "zyp            NA                                                                                                                                \n",
              "zzlite         httptest, roxygen2, testthat, knitr, rmarkdown                                                                                    \n",
              "               Enhances License                   License_is_FOSS\n",
              "A3             NA       GPL (>= 2)                NA             \n",
              "AalenJohansen  NA       GPL (>= 2)                NA             \n",
              "AATtools       NA       GPL-3                     NA             \n",
              "ABACUS         NA       GPL-3                     NA             \n",
              "abasequence    NA       GPL-3                     NA             \n",
              "abbreviate     NA       GPL-3                     NA             \n",
              "abc            NA       GPL (>= 3)                NA             \n",
              "abc.data       NA       GPL (>= 3)                NA             \n",
              "ABC.RAP        NA       GPL-3                     NA             \n",
              "ABCanalysis    NA       GPL-3                     NA             \n",
              "abclass        NA       GPL (>= 3)                NA             \n",
              "ABCoptim       NA       MIT + file LICENSE        NA             \n",
              "ABCp2          NA       GPL-2                     NA             \n",
              "abcrf          NA       GPL (>= 2)                NA             \n",
              "abcrlda        NA       GPL-3                     NA             \n",
              "abctools       NA       GPL (>= 2)                NA             \n",
              "abd            NA       GPL-2                     NA             \n",
              "abdiv          NA       MIT + file LICENSE        NA             \n",
              "abe            NA       GPL (>= 2)                NA             \n",
              "aberrance      NA       GPL (>= 3)                NA             \n",
              "abess          NA       GPL (>= 3) | file LICENSE NA             \n",
              "abglasso       NA       GPL-3                     NA             \n",
              "ABHgenotypeR   NA       GPL-3                     NA             \n",
              "abind          NA       LGPL (>= 2)               NA             \n",
              "abjData        NA       MIT + file LICENSE        NA             \n",
              "abjutils       NA       MIT + file LICENSE        NA             \n",
              "ABM            NA       GPL (>= 2)                NA             \n",
              "abmR           NA       GPL (>= 3)                NA             \n",
              "abnormality    NA       MIT + file LICENSE        NA             \n",
              "abodOutlier    NA       MIT + file LICENSE        NA             \n",
              "⋮              ⋮        ⋮                         ⋮              \n",
              "ZIprop         NA       GPL-3                     NA             \n",
              "zipsae         NA       GPL-3                     NA             \n",
              "ZLAvian        NA       CC BY-SA 4.0              NA             \n",
              "zlib           NA       MIT + file LICENSE        NA             \n",
              "zlog           NA       GPL (>= 3)                NA             \n",
              "zmisc          NA       MIT + file LICENSE        NA             \n",
              "zoeppritz      NA       GPL (>= 2)                NA             \n",
              "zoib           NA       GPL (>= 3)                NA             \n",
              "zoid           NA       GPL (>= 3)                NA             \n",
              "zoltr          NA       GPL-3                     NA             \n",
              "zonebuilder    NA       GPL-3                     NA             \n",
              "zonohedra      NA       GPL (>= 2)                NA             \n",
              "zoo            NA       GPL-2 | GPL-3             NA             \n",
              "ZooID          NA       GPL (>= 3)                NA             \n",
              "zooimage       NA       GPL (>= 2)                NA             \n",
              "zoolog         NA       GPL-3                     NA             \n",
              "zoom           NA       GPL (>= 3)                NA             \n",
              "zoomerjoin     NA       GPL (>= 3)                NA             \n",
              "zoomGroupStats NA       MIT + file LICENSE        NA             \n",
              "zoomr          NA       CC0                       NA             \n",
              "ZRA            NA       GPL (>= 2)                NA             \n",
              "zscorer        NA       AGPL-3                    NA             \n",
              "Zseq           NA       MIT + file LICENSE        NA             \n",
              "ztable         NA       GPL-2                     NA             \n",
              "ztpln          NA       MIT + file LICENSE        NA             \n",
              "zTree          NA       GPL-3 | file LICENSE      NA             \n",
              "ztype          NA       GPL-3                     NA             \n",
              "ZVCV           NA       GPL (>= 2)                NA             \n",
              "zyp            NA       LGPL-2.1                  NA             \n",
              "zzlite         NA       GPL-3                     NA             \n",
              "               License_restricts_use OS_type Archs\n",
              "A3             NA                    NA      NA   \n",
              "AalenJohansen  NA                    NA      NA   \n",
              "AATtools       NA                    NA      NA   \n",
              "ABACUS         NA                    NA      NA   \n",
              "abasequence    NA                    NA      NA   \n",
              "abbreviate     NA                    NA      NA   \n",
              "abc            NA                    NA      NA   \n",
              "abc.data       NA                    NA      NA   \n",
              "ABC.RAP        NA                    NA      NA   \n",
              "ABCanalysis    NA                    NA      NA   \n",
              "abclass        NA                    NA      NA   \n",
              "ABCoptim       NA                    NA      NA   \n",
              "ABCp2          NA                    NA      NA   \n",
              "abcrf          NA                    NA      NA   \n",
              "abcrlda        NA                    NA      NA   \n",
              "abctools       NA                    NA      NA   \n",
              "abd            NA                    NA      NA   \n",
              "abdiv          NA                    NA      NA   \n",
              "abe            NA                    NA      NA   \n",
              "aberrance      NA                    NA      NA   \n",
              "abess          NA                    NA      NA   \n",
              "abglasso       NA                    NA      NA   \n",
              "ABHgenotypeR   NA                    NA      NA   \n",
              "abind          NA                    NA      NA   \n",
              "abjData        NA                    NA      NA   \n",
              "abjutils       NA                    NA      NA   \n",
              "ABM            NA                    NA      NA   \n",
              "abmR           NA                    NA      NA   \n",
              "abnormality    NA                    NA      NA   \n",
              "abodOutlier    NA                    NA      NA   \n",
              "⋮              ⋮                     ⋮       ⋮    \n",
              "ZIprop         NA                    NA      NA   \n",
              "zipsae         NA                    NA      NA   \n",
              "ZLAvian        NA                    NA      NA   \n",
              "zlib           NA                    NA      NA   \n",
              "zlog           NA                    NA      NA   \n",
              "zmisc          NA                    NA      NA   \n",
              "zoeppritz      NA                    NA      NA   \n",
              "zoib           NA                    NA      NA   \n",
              "zoid           NA                    NA      NA   \n",
              "zoltr          NA                    NA      NA   \n",
              "zonebuilder    NA                    NA      NA   \n",
              "zonohedra      NA                    NA      NA   \n",
              "zoo            NA                    NA      NA   \n",
              "ZooID          NA                    NA      NA   \n",
              "zooimage       NA                    NA      NA   \n",
              "zoolog         NA                    NA      NA   \n",
              "zoom           NA                    NA      NA   \n",
              "zoomerjoin     NA                    NA      NA   \n",
              "zoomGroupStats NA                    NA      NA   \n",
              "zoomr          NA                    NA      NA   \n",
              "ZRA            NA                    NA      NA   \n",
              "zscorer        NA                    NA      NA   \n",
              "Zseq           NA                    NA      NA   \n",
              "ztable         NA                    NA      NA   \n",
              "ztpln          NA                    NA      NA   \n",
              "zTree          NA                    NA      NA   \n",
              "ztype          NA                    NA      NA   \n",
              "ZVCV           NA                    NA      NA   \n",
              "zyp            NA                    NA      NA   \n",
              "zzlite         NA                    NA      NA   \n",
              "               MD5sum                           NeedsCompilation File\n",
              "A3             027ebdd8affce8f0effaecfcd5f5ade2 no               NA  \n",
              "AalenJohansen  d7eb2a6275daa6af43bf8a980398b312 no               NA  \n",
              "AATtools       bc59207786e9bc49167fd7d8af246b1c no               NA  \n",
              "ABACUS         50c54c4da09307cb95a70aaaa54b9fbd no               NA  \n",
              "abasequence    1392d909eb0f65be94fd4160a371ae21 no               NA  \n",
              "abbreviate     37285eddefb6b0fce95783bf21b32999 no               NA  \n",
              "abc            21e4c928a8cdd4c6fe3c1c76c99913a9 no               NA  \n",
              "abc.data       1693d5a243a991f8cf290471972a54f8 no               NA  \n",
              "ABC.RAP        38c65a7251d28ef2462ee430ded95700 no               NA  \n",
              "ABCanalysis    678e03837e25a922bf71bafe1f8de617 no               NA  \n",
              "abclass        dc2d8fbad0e91d3b09d7c2a0a3e65d56 yes              NA  \n",
              "ABCoptim       a62ed03650273c09899655065437078f yes              NA  \n",
              "ABCp2          e920282d5a369df71e15241be40cb60e no               NA  \n",
              "abcrf          506f4cc36ae9d66bd174f4b65f8c3bb2 yes              NA  \n",
              "abcrlda        651e6e18e08916b443aaf011b5a63525 no               NA  \n",
              "abctools       1715682182f3aa3800f77e6525989a19 yes              NA  \n",
              "abd            1913d76a0fbc44222709381f63f385b9 no               NA  \n",
              "abdiv          80931c0ca85ba5386000bf617552c5ce no               NA  \n",
              "abe            9c151db5397422c8927dee41dabfbfab no               NA  \n",
              "aberrance      b7e95f7cbde7e6e45bd93eb59287b4de no               NA  \n",
              "abess          6712ac64335bbc2f99129e021b755752 yes              NA  \n",
              "abglasso       18bd0759cd005c5ac6fb515799b3f3d8 no               NA  \n",
              "ABHgenotypeR   ca4397ba7390c0e0a3728c0cda864494 no               NA  \n",
              "abind          136f981e1c4f618b64a87faaa7797c97 no               NA  \n",
              "abjData        ce34560a5a10c39d49192ffc2ad5cd9b no               NA  \n",
              "abjutils       3b2f11ee82ac1ef0bf38de4207213273 no               NA  \n",
              "ABM            fefc079e9260c23575ab4576569849c8 yes              NA  \n",
              "abmR           bb47b010ed03573cea3ad57722d36c30 no               NA  \n",
              "abnormality    da052e7d38d02c5c050e7879f2713345 no               NA  \n",
              "abodOutlier    e3782e42842fc893d036bdfb7fd86d91 no               NA  \n",
              "⋮              ⋮                                ⋮                ⋮   \n",
              "ZIprop         aad4f978f34107fd4d8e412a4c6726ba no               NA  \n",
              "zipsae         9117389e38f78b005ff4141edf20220e no               NA  \n",
              "ZLAvian        658b333edf5ffd56b50c2b6e6065fef1 no               NA  \n",
              "zlib           3a6b28fec504f984098746ff0beb5bce yes              NA  \n",
              "zlog           197282401f07eb9bcde77379526f4a54 no               NA  \n",
              "zmisc          55f1a7179aae849204826de37bb72b83 no               NA  \n",
              "zoeppritz      8c23655416dc0e33a7dd8a0b6654c5a7 no               NA  \n",
              "zoib           fd726958a45635bc567a234926434997 no               NA  \n",
              "zoid           c191dbea1366b7d3eb708d8c0012274b yes              NA  \n",
              "zoltr          5ded4085dcfd841cfbe383d828d0d6d8 no               NA  \n",
              "zonebuilder    eb498a4b9f6bc063d90672617d0bd414 no               NA  \n",
              "zonohedra      58e3f5510857b13a56a66257f70902a2 yes              NA  \n",
              "zoo            9bf826a22610f5a3f8ebd063404e7183 yes              NA  \n",
              "ZooID          8a20bcdb7ecfdca12251cd0d7f9f9a1e no               NA  \n",
              "zooimage       a2bdb871bb94ea9c863a47b677ff13ad no               NA  \n",
              "zoolog         56e72a52f69bc89f793cdf6fa07c5bf2 no               NA  \n",
              "zoom           10971cd4ca0e6df803dd99138f428cb6 no               NA  \n",
              "zoomerjoin     dcc640c2cbce44143a40d3617f1c7aec yes              NA  \n",
              "zoomGroupStats 778848d690e8ca81eabe3ad5fe7b9610 no               NA  \n",
              "zoomr          be32e694c7ad73fc3ffe4f52bbc61cdf no               NA  \n",
              "ZRA            0b7d36c7518b9613db7df10d29d659c1 no               NA  \n",
              "zscorer        3b387940a0bbd6c36a2da7cd5f206d62 no               NA  \n",
              "Zseq           4e8fa0944d2614870d8d5db3774f98d8 no               NA  \n",
              "ztable         b9f462e4cc1f571d6dc5f621f93ca31a no               NA  \n",
              "ztpln          e263dae0a997badd7292347a2fb699f7 yes              NA  \n",
              "zTree          ef7ec3d28753f147de892d0b38d5db3e no               NA  \n",
              "ztype          28d75de6acc106becb6e49fe6a0d7ed7 no               NA  \n",
              "ZVCV           f2dbdcc1c6510ae621deb2f6cec290c0 yes              NA  \n",
              "zyp            7dc344086f71cc93d29e80eccd15a588 no               NA  \n",
              "zzlite         2698c39a6f1c7e634db063345746e5f8 no               NA  \n",
              "               Repository                          \n",
              "A3             https://cran.rstudio.com/src/contrib\n",
              "AalenJohansen  https://cran.rstudio.com/src/contrib\n",
              "AATtools       https://cran.rstudio.com/src/contrib\n",
              "ABACUS         https://cran.rstudio.com/src/contrib\n",
              "abasequence    https://cran.rstudio.com/src/contrib\n",
              "abbreviate     https://cran.rstudio.com/src/contrib\n",
              "abc            https://cran.rstudio.com/src/contrib\n",
              "abc.data       https://cran.rstudio.com/src/contrib\n",
              "ABC.RAP        https://cran.rstudio.com/src/contrib\n",
              "ABCanalysis    https://cran.rstudio.com/src/contrib\n",
              "abclass        https://cran.rstudio.com/src/contrib\n",
              "ABCoptim       https://cran.rstudio.com/src/contrib\n",
              "ABCp2          https://cran.rstudio.com/src/contrib\n",
              "abcrf          https://cran.rstudio.com/src/contrib\n",
              "abcrlda        https://cran.rstudio.com/src/contrib\n",
              "abctools       https://cran.rstudio.com/src/contrib\n",
              "abd            https://cran.rstudio.com/src/contrib\n",
              "abdiv          https://cran.rstudio.com/src/contrib\n",
              "abe            https://cran.rstudio.com/src/contrib\n",
              "aberrance      https://cran.rstudio.com/src/contrib\n",
              "abess          https://cran.rstudio.com/src/contrib\n",
              "abglasso       https://cran.rstudio.com/src/contrib\n",
              "ABHgenotypeR   https://cran.rstudio.com/src/contrib\n",
              "abind          https://cran.rstudio.com/src/contrib\n",
              "abjData        https://cran.rstudio.com/src/contrib\n",
              "abjutils       https://cran.rstudio.com/src/contrib\n",
              "ABM            https://cran.rstudio.com/src/contrib\n",
              "abmR           https://cran.rstudio.com/src/contrib\n",
              "abnormality    https://cran.rstudio.com/src/contrib\n",
              "abodOutlier    https://cran.rstudio.com/src/contrib\n",
              "⋮              ⋮                                   \n",
              "ZIprop         https://cran.rstudio.com/src/contrib\n",
              "zipsae         https://cran.rstudio.com/src/contrib\n",
              "ZLAvian        https://cran.rstudio.com/src/contrib\n",
              "zlib           https://cran.rstudio.com/src/contrib\n",
              "zlog           https://cran.rstudio.com/src/contrib\n",
              "zmisc          https://cran.rstudio.com/src/contrib\n",
              "zoeppritz      https://cran.rstudio.com/src/contrib\n",
              "zoib           https://cran.rstudio.com/src/contrib\n",
              "zoid           https://cran.rstudio.com/src/contrib\n",
              "zoltr          https://cran.rstudio.com/src/contrib\n",
              "zonebuilder    https://cran.rstudio.com/src/contrib\n",
              "zonohedra      https://cran.rstudio.com/src/contrib\n",
              "zoo            https://cran.rstudio.com/src/contrib\n",
              "ZooID          https://cran.rstudio.com/src/contrib\n",
              "zooimage       https://cran.rstudio.com/src/contrib\n",
              "zoolog         https://cran.rstudio.com/src/contrib\n",
              "zoom           https://cran.rstudio.com/src/contrib\n",
              "zoomerjoin     https://cran.rstudio.com/src/contrib\n",
              "zoomGroupStats https://cran.rstudio.com/src/contrib\n",
              "zoomr          https://cran.rstudio.com/src/contrib\n",
              "ZRA            https://cran.rstudio.com/src/contrib\n",
              "zscorer        https://cran.rstudio.com/src/contrib\n",
              "Zseq           https://cran.rstudio.com/src/contrib\n",
              "ztable         https://cran.rstudio.com/src/contrib\n",
              "ztpln          https://cran.rstudio.com/src/contrib\n",
              "zTree          https://cran.rstudio.com/src/contrib\n",
              "ztype          https://cran.rstudio.com/src/contrib\n",
              "ZVCV           https://cran.rstudio.com/src/contrib\n",
              "zyp            https://cran.rstudio.com/src/contrib\n",
              "zzlite         https://cran.rstudio.com/src/contrib"
            ]
          },
          "metadata": {}
        }
      ]
    },
    {
      "cell_type": "code",
      "source": [
        "\"Hello again!\"\n",
        "print(\"Goodbye!\")"
      ],
      "metadata": {
        "colab": {
          "base_uri": "https://localhost:8080/",
          "height": 52
        },
        "id": "YPBSvO2vOpUM",
        "outputId": "b94f5932-6141-4662-d094-128f82eaaa2a"
      },
      "execution_count": null,
      "outputs": [
        {
          "output_type": "display_data",
          "data": {
            "text/html": [
              "'Hello again!'"
            ],
            "text/markdown": "'Hello again!'",
            "text/latex": "'Hello again!'",
            "text/plain": [
              "[1] \"Hello again!\""
            ]
          },
          "metadata": {}
        },
        {
          "output_type": "stream",
          "name": "stdout",
          "text": [
            "[1] \"Goodbye!\"\n"
          ]
        }
      ]
    },
    {
      "cell_type": "code",
      "source": [
        "5 * 5"
      ],
      "metadata": {
        "colab": {
          "base_uri": "https://localhost:8080/",
          "height": 34
        },
        "id": "kicGWcgyOxwh",
        "outputId": "78f25cd3-d693-4c82-e296-09c8554ee209"
      },
      "execution_count": null,
      "outputs": [
        {
          "output_type": "display_data",
          "data": {
            "text/html": [
              "25"
            ],
            "text/markdown": "25",
            "text/latex": "25",
            "text/plain": [
              "[1] 25"
            ]
          },
          "metadata": {}
        }
      ]
    },
    {
      "cell_type": "code",
      "source": [
        "print(5 + 10)"
      ],
      "metadata": {
        "colab": {
          "base_uri": "https://localhost:8080/"
        },
        "id": "iuxurr43O_de",
        "outputId": "d7643aa1-53d9-42e8-d76a-ed8e34258fb5"
      },
      "execution_count": null,
      "outputs": [
        {
          "output_type": "stream",
          "name": "stdout",
          "text": [
            "[1] 15\n"
          ]
        }
      ]
    },
    {
      "cell_type": "markdown",
      "source": [
        "**Loops**"
      ],
      "metadata": {
        "id": "EIHUzhylWE56"
      }
    },
    {
      "cell_type": "code",
      "source": [
        "for (i in 1:5) {\n",
        "  print(i)\n",
        "}"
      ],
      "metadata": {
        "colab": {
          "base_uri": "https://localhost:8080/"
        },
        "id": "5Kh_JgD8PFyd",
        "outputId": "ad5daaea-a71d-488b-99c5-e2667d3777c0"
      },
      "execution_count": null,
      "outputs": [
        {
          "output_type": "stream",
          "name": "stdout",
          "text": [
            "[1] 1\n",
            "[1] 2\n",
            "[1] 3\n",
            "[1] 4\n",
            "[1] 5\n"
          ]
        }
      ]
    },
    {
      "cell_type": "markdown",
      "source": [
        "Challenge"
      ],
      "metadata": {
        "id": "O4xI5dbLWoXs"
      }
    },
    {
      "cell_type": "code",
      "source": [
        "\"My name is Lee Hembling\"\n",
        "# or\n",
        "print('My name is Lee Hembling')\n",
        "# or\n",
        "my_name <- \"Lee Hembling\"\n",
        "print(my_name)\n",
        "\n",
        "for (a in 1:10) {\n",
        "  print(a)\n",
        "}"
      ],
      "metadata": {
        "colab": {
          "base_uri": "https://localhost:8080/",
          "height": 225
        },
        "id": "0Aeu3mxNWpxt",
        "outputId": "b3c24847-c113-484a-ac53-b7d17191eb85"
      },
      "execution_count": null,
      "outputs": [
        {
          "output_type": "display_data",
          "data": {
            "text/html": [
              "'My name is Lee Hembling'"
            ],
            "text/markdown": "'My name is Lee Hembling'",
            "text/latex": "'My name is Lee Hembling'",
            "text/plain": [
              "[1] \"My name is Lee Hembling\""
            ]
          },
          "metadata": {}
        },
        {
          "output_type": "stream",
          "name": "stdout",
          "text": [
            "[1] \"My name is Lee Hembling\"\n",
            "[1] \"Lee Hembling\"\n",
            "[1] 2\n",
            "[1] 3\n",
            "[1] 4\n",
            "[1] 5\n",
            "[1] 6\n",
            "[1] 7\n",
            "[1] 8\n",
            "[1] 9\n",
            "[1] 10\n"
          ]
        }
      ]
    },
    {
      "cell_type": "code",
      "source": [
        "width <- 10\n",
        "height <- 5\n",
        "area <- width * height\n",
        "print(paste0(\"The area of the rectangle is \", area, \" square units.\"))"
      ],
      "metadata": {
        "colab": {
          "base_uri": "https://localhost:8080/"
        },
        "id": "qoBR8RLqXPVa",
        "outputId": "323b6470-c96c-444c-ded0-3e58ccdf7cbb"
      },
      "execution_count": null,
      "outputs": [
        {
          "output_type": "stream",
          "name": "stdout",
          "text": [
            "[1] \"The area of the rectangle is 50 square units.\"\n"
          ]
        }
      ]
    },
    {
      "cell_type": "markdown",
      "source": [
        "**Lesson 2 - Creating Variables in R**\n",
        "\n",
        "---\n",
        "\n"
      ],
      "metadata": {
        "id": "gMKfpZYTYq2P"
      }
    },
    {
      "cell_type": "code",
      "source": [
        "name <- \"Lee\"\n",
        "age <- 40\n",
        "\n",
        "name\n",
        "age"
      ],
      "metadata": {
        "colab": {
          "base_uri": "https://localhost:8080/",
          "height": 52
        },
        "id": "rLC6zL9oYw7D",
        "outputId": "5ad6440d-5462-42b6-b660-110b5a797f55"
      },
      "execution_count": null,
      "outputs": [
        {
          "output_type": "display_data",
          "data": {
            "text/html": [
              "'Lee'"
            ],
            "text/markdown": "'Lee'",
            "text/latex": "'Lee'",
            "text/plain": [
              "[1] \"Lee\""
            ]
          },
          "metadata": {}
        },
        {
          "output_type": "display_data",
          "data": {
            "text/html": [
              "40"
            ],
            "text/markdown": "40",
            "text/latex": "40",
            "text/plain": [
              "[1] 40"
            ]
          },
          "metadata": {}
        }
      ]
    },
    {
      "cell_type": "code",
      "source": [
        "# Or\n",
        "name = \"Lee\"\n",
        "age = 40\n",
        "\n",
        "paste(name, \"is\", age)"
      ],
      "metadata": {
        "colab": {
          "base_uri": "https://localhost:8080/",
          "height": 34
        },
        "id": "tqfQmPvzZkR3",
        "outputId": "bbc6f41f-5835-4484-b293-0598a07e2395"
      },
      "execution_count": null,
      "outputs": [
        {
          "output_type": "display_data",
          "data": {
            "text/html": [
              "'Lee is 40'"
            ],
            "text/markdown": "'Lee is 40'",
            "text/latex": "'Lee is 40'",
            "text/plain": [
              "[1] \"Lee is 40\""
            ]
          },
          "metadata": {}
        }
      ]
    },
    {
      "cell_type": "markdown",
      "source": [
        "Multiple variables"
      ],
      "metadata": {
        "id": "d3tzxe_naa5q"
      }
    },
    {
      "cell_type": "code",
      "source": [
        "# Assign the same value to multiple variables in one line\n",
        "var1 <- var2 <- var3 <- \"Orange\"\n",
        "\n",
        "# Print variable values\n",
        "var1\n",
        "var2\n",
        "var3"
      ],
      "metadata": {
        "colab": {
          "base_uri": "https://localhost:8080/",
          "height": 69
        },
        "id": "-3umwjPmaEd-",
        "outputId": "1fb422e3-93a5-4c88-9394-61e0860878a3"
      },
      "execution_count": null,
      "outputs": [
        {
          "output_type": "display_data",
          "data": {
            "text/html": [
              "'Orange'"
            ],
            "text/markdown": "'Orange'",
            "text/latex": "'Orange'",
            "text/plain": [
              "[1] \"Orange\""
            ]
          },
          "metadata": {}
        },
        {
          "output_type": "display_data",
          "data": {
            "text/html": [
              "'Orange'"
            ],
            "text/markdown": "'Orange'",
            "text/latex": "'Orange'",
            "text/plain": [
              "[1] \"Orange\""
            ]
          },
          "metadata": {}
        },
        {
          "output_type": "display_data",
          "data": {
            "text/html": [
              "'Orange'"
            ],
            "text/markdown": "'Orange'",
            "text/latex": "'Orange'",
            "text/plain": [
              "[1] \"Orange\""
            ]
          },
          "metadata": {}
        }
      ]
    },
    {
      "cell_type": "code",
      "source": [
        "a <- 40\n",
        "class(a)\n",
        "\n",
        "b <- \"13th October 1983\"\n",
        "class(b)\n",
        "\n",
        "c <- 9i + 3\n",
        "class(c)\n",
        "\n",
        "d <- \"R isn't so bad\"\n",
        "class(d)\n",
        "\n",
        "e <- TRUE\n",
        "class(e)"
      ],
      "metadata": {
        "colab": {
          "base_uri": "https://localhost:8080/",
          "height": 104
        },
        "id": "wDdziNMba4g4",
        "outputId": "fdf5c387-78f9-41ce-c7b4-cc2b867dbb41"
      },
      "execution_count": null,
      "outputs": [
        {
          "output_type": "display_data",
          "data": {
            "text/html": [
              "'numeric'"
            ],
            "text/markdown": "'numeric'",
            "text/latex": "'numeric'",
            "text/plain": [
              "[1] \"numeric\""
            ]
          },
          "metadata": {}
        },
        {
          "output_type": "display_data",
          "data": {
            "text/html": [
              "'character'"
            ],
            "text/markdown": "'character'",
            "text/latex": "'character'",
            "text/plain": [
              "[1] \"character\""
            ]
          },
          "metadata": {}
        },
        {
          "output_type": "display_data",
          "data": {
            "text/html": [
              "'complex'"
            ],
            "text/markdown": "'complex'",
            "text/latex": "'complex'",
            "text/plain": [
              "[1] \"complex\""
            ]
          },
          "metadata": {}
        },
        {
          "output_type": "display_data",
          "data": {
            "text/html": [
              "'character'"
            ],
            "text/markdown": "'character'",
            "text/latex": "'character'",
            "text/plain": [
              "[1] \"character\""
            ]
          },
          "metadata": {}
        },
        {
          "output_type": "display_data",
          "data": {
            "text/html": [
              "'logical'"
            ],
            "text/markdown": "'logical'",
            "text/latex": "'logical'",
            "text/plain": [
              "[1] \"logical\""
            ]
          },
          "metadata": {}
        }
      ]
    },
    {
      "cell_type": "code",
      "source": [
        "x <- 10.5 # numeric\n",
        "y <- 10L # integer (Long)\n",
        "z <- 1i # complex"
      ],
      "metadata": {
        "id": "orxDv7QNbmsA"
      },
      "execution_count": null,
      "outputs": []
    },
    {
      "cell_type": "code",
      "source": [
        "class(x)\n",
        "class(y)\n",
        "class(z)"
      ],
      "metadata": {
        "colab": {
          "base_uri": "https://localhost:8080/",
          "height": 69
        },
        "id": "iokuPQHibzI_",
        "outputId": "bac78524-8728-4e0d-ddef-02842c3dc76e"
      },
      "execution_count": null,
      "outputs": [
        {
          "output_type": "display_data",
          "data": {
            "text/html": [
              "'numeric'"
            ],
            "text/markdown": "'numeric'",
            "text/latex": "'numeric'",
            "text/plain": [
              "[1] \"numeric\""
            ]
          },
          "metadata": {}
        },
        {
          "output_type": "display_data",
          "data": {
            "text/html": [
              "'integer'"
            ],
            "text/markdown": "'integer'",
            "text/latex": "'integer'",
            "text/plain": [
              "[1] \"integer\""
            ]
          },
          "metadata": {}
        },
        {
          "output_type": "display_data",
          "data": {
            "text/html": [
              "'complex'"
            ],
            "text/markdown": "'complex'",
            "text/latex": "'complex'",
            "text/plain": [
              "[1] \"complex\""
            ]
          },
          "metadata": {}
        }
      ]
    },
    {
      "cell_type": "markdown",
      "source": [
        "Type conversion"
      ],
      "metadata": {
        "id": "vnEf-s1QcKd-"
      }
    },
    {
      "cell_type": "code",
      "source": [
        "x <- 1L # integer\n",
        "y <- 2 # numeric\n",
        "\n",
        "# convert from integer to numeric:\n",
        "a <- as.numeric(x)\n",
        "\n",
        "# convert from numeric to integer:\n",
        "b <- as.integer(y)\n",
        "\n",
        "# print values of x and y\n",
        "x\n",
        "y\n",
        "\n",
        "# print the class name of a and b\n",
        "class(a)\n",
        "class(b)"
      ],
      "metadata": {
        "colab": {
          "base_uri": "https://localhost:8080/",
          "height": 86
        },
        "id": "wDNptfFQcL_w",
        "outputId": "aa58129c-0223-4008-ddc5-96cae76b1584"
      },
      "execution_count": null,
      "outputs": [
        {
          "output_type": "display_data",
          "data": {
            "text/html": [
              "1"
            ],
            "text/markdown": "1",
            "text/latex": "1",
            "text/plain": [
              "[1] 1"
            ]
          },
          "metadata": {}
        },
        {
          "output_type": "display_data",
          "data": {
            "text/html": [
              "2"
            ],
            "text/markdown": "2",
            "text/latex": "2",
            "text/plain": [
              "[1] 2"
            ]
          },
          "metadata": {}
        },
        {
          "output_type": "display_data",
          "data": {
            "text/html": [
              "'numeric'"
            ],
            "text/markdown": "'numeric'",
            "text/latex": "'numeric'",
            "text/plain": [
              "[1] \"numeric\""
            ]
          },
          "metadata": {}
        },
        {
          "output_type": "display_data",
          "data": {
            "text/html": [
              "'integer'"
            ],
            "text/markdown": "'integer'",
            "text/latex": "'integer'",
            "text/plain": [
              "[1] \"integer\""
            ]
          },
          "metadata": {}
        }
      ]
    },
    {
      "cell_type": "markdown",
      "source": [
        "Exercises"
      ],
      "metadata": {
        "id": "tSuvxymfcrPB"
      }
    },
    {
      "cell_type": "code",
      "source": [
        "name <- \"Lee\"\n",
        "age <- 40\n",
        "weight <- 70\n",
        "is_student <- TRUE"
      ],
      "metadata": {
        "id": "ajbnOm-tctAO"
      },
      "execution_count": null,
      "outputs": []
    },
    {
      "cell_type": "code",
      "source": [
        "class(name)\n",
        "class(age)\n",
        "class(weight)\n",
        "class(is_student)"
      ],
      "metadata": {
        "colab": {
          "base_uri": "https://localhost:8080/",
          "height": 86
        },
        "id": "4juqp-90dAGX",
        "outputId": "6cf9b78b-9100-40e1-ca60-e19ed8adaf9e"
      },
      "execution_count": null,
      "outputs": [
        {
          "output_type": "display_data",
          "data": {
            "text/html": [
              "'character'"
            ],
            "text/markdown": "'character'",
            "text/latex": "'character'",
            "text/plain": [
              "[1] \"character\""
            ]
          },
          "metadata": {}
        },
        {
          "output_type": "display_data",
          "data": {
            "text/html": [
              "'numeric'"
            ],
            "text/markdown": "'numeric'",
            "text/latex": "'numeric'",
            "text/plain": [
              "[1] \"numeric\""
            ]
          },
          "metadata": {}
        },
        {
          "output_type": "display_data",
          "data": {
            "text/html": [
              "'character'"
            ],
            "text/markdown": "'character'",
            "text/latex": "'character'",
            "text/plain": [
              "[1] \"character\""
            ]
          },
          "metadata": {}
        },
        {
          "output_type": "display_data",
          "data": {
            "text/html": [
              "'logical'"
            ],
            "text/markdown": "'logical'",
            "text/latex": "'logical'",
            "text/plain": [
              "[1] \"logical\""
            ]
          },
          "metadata": {}
        }
      ]
    },
    {
      "cell_type": "code",
      "source": [
        "age <- 40"
      ],
      "metadata": {
        "id": "7b3rtcxLdH-2"
      },
      "execution_count": null,
      "outputs": []
    },
    {
      "cell_type": "code",
      "source": [
        "class(name)\n",
        "class(age)\n",
        "class(weight)\n",
        "class(is_student)"
      ],
      "metadata": {
        "colab": {
          "base_uri": "https://localhost:8080/",
          "height": 86
        },
        "outputId": "e07ef080-bba2-4dd7-c886-295a5c680d90",
        "id": "5lzR13LEdTiL"
      },
      "execution_count": null,
      "outputs": [
        {
          "output_type": "display_data",
          "data": {
            "text/html": [
              "'character'"
            ],
            "text/markdown": "'character'",
            "text/latex": "'character'",
            "text/plain": [
              "[1] \"character\""
            ]
          },
          "metadata": {}
        },
        {
          "output_type": "display_data",
          "data": {
            "text/html": [
              "'numeric'"
            ],
            "text/markdown": "'numeric'",
            "text/latex": "'numeric'",
            "text/plain": [
              "[1] \"numeric\""
            ]
          },
          "metadata": {}
        },
        {
          "output_type": "display_data",
          "data": {
            "text/html": [
              "'numeric'"
            ],
            "text/markdown": "'numeric'",
            "text/latex": "'numeric'",
            "text/plain": [
              "[1] \"numeric\""
            ]
          },
          "metadata": {}
        },
        {
          "output_type": "display_data",
          "data": {
            "text/html": [
              "'logical'"
            ],
            "text/markdown": "'logical'",
            "text/latex": "'logical'",
            "text/plain": [
              "[1] \"logical\""
            ]
          },
          "metadata": {}
        }
      ]
    },
    {
      "cell_type": "code",
      "source": [
        "weight <- as.character(weight)"
      ],
      "metadata": {
        "id": "2xWI7xu5dc3J"
      },
      "execution_count": null,
      "outputs": []
    },
    {
      "cell_type": "code",
      "source": [
        "class(name)\n",
        "class(age)\n",
        "class(weight)\n",
        "class(is_student)"
      ],
      "metadata": {
        "colab": {
          "base_uri": "https://localhost:8080/",
          "height": 86
        },
        "outputId": "2b41bbe1-e00d-4afe-888a-f786484617ce",
        "id": "lAXPoxWRdkHo"
      },
      "execution_count": null,
      "outputs": [
        {
          "output_type": "display_data",
          "data": {
            "text/html": [
              "'character'"
            ],
            "text/markdown": "'character'",
            "text/latex": "'character'",
            "text/plain": [
              "[1] \"character\""
            ]
          },
          "metadata": {}
        },
        {
          "output_type": "display_data",
          "data": {
            "text/html": [
              "'numeric'"
            ],
            "text/markdown": "'numeric'",
            "text/latex": "'numeric'",
            "text/plain": [
              "[1] \"numeric\""
            ]
          },
          "metadata": {}
        },
        {
          "output_type": "display_data",
          "data": {
            "text/html": [
              "'numeric'"
            ],
            "text/markdown": "'numeric'",
            "text/latex": "'numeric'",
            "text/plain": [
              "[1] \"numeric\""
            ]
          },
          "metadata": {}
        },
        {
          "output_type": "display_data",
          "data": {
            "text/html": [
              "'logical'"
            ],
            "text/markdown": "'logical'",
            "text/latex": "'logical'",
            "text/plain": [
              "[1] \"logical\""
            ]
          },
          "metadata": {}
        }
      ]
    },
    {
      "cell_type": "code",
      "source": [
        "height_estimate <- age + weight\n",
        "print(height_estimate)"
      ],
      "metadata": {
        "colab": {
          "base_uri": "https://localhost:8080/"
        },
        "id": "ByGQw9F5d8R_",
        "outputId": "8f0d80cd-a240-4c58-8847-689962f3af92"
      },
      "execution_count": null,
      "outputs": [
        {
          "output_type": "stream",
          "name": "stdout",
          "text": [
            "[1] 110\n"
          ]
        }
      ]
    },
    {
      "cell_type": "code",
      "source": [
        "circumference <- 2 * pi * weight / 2\n",
        "print(circumference)"
      ],
      "metadata": {
        "colab": {
          "base_uri": "https://localhost:8080/"
        },
        "id": "K4paUq4tfBjN",
        "outputId": "16b36db5-0464-4096-826d-bb8de8eb9289"
      },
      "execution_count": null,
      "outputs": [
        {
          "output_type": "stream",
          "name": "stdout",
          "text": [
            "[1] 219.9115\n"
          ]
        }
      ]
    },
    {
      "cell_type": "markdown",
      "source": [
        "**Strings**"
      ],
      "metadata": {
        "id": "FVX_OfBZfTKY"
      }
    },
    {
      "cell_type": "code",
      "source": [
        "color <- \"Blue\"\n",
        "food <- \"Tapas\"\n",
        "\n",
        "paste(\"My favourite colour is\", color, \"and my favourite food is\", food)"
      ],
      "metadata": {
        "colab": {
          "base_uri": "https://localhost:8080/",
          "height": 34
        },
        "id": "fGrcrALqfM1-",
        "outputId": "11a95518-8c48-43f0-d21a-9d3ba3a1c8b8"
      },
      "execution_count": null,
      "outputs": [
        {
          "output_type": "display_data",
          "data": {
            "text/html": [
              "'My favourite colour is Blue and my favourite food is Tapas'"
            ],
            "text/markdown": "'My favourite colour is Blue and my favourite food is Tapas'",
            "text/latex": "'My favourite colour is Blue and my favourite food is Tapas'",
            "text/plain": [
              "[1] \"My favourite colour is Blue and my favourite food is Tapas\""
            ]
          },
          "metadata": {}
        }
      ]
    },
    {
      "cell_type": "code",
      "source": [],
      "metadata": {
        "id": "6VpMDV-rHps5"
      },
      "execution_count": null,
      "outputs": []
    },
    {
      "cell_type": "markdown",
      "source": [
        "**Conditional Statements**\n",
        "\n",
        "---\n",
        "\n"
      ],
      "metadata": {
        "id": "IEYmoLQJgDw5"
      }
    },
    {
      "cell_type": "code",
      "source": [
        "if (age > 18) {\n",
        "  print(\"You are an adult\")\n",
        "  }     else if (age > 39) {\n",
        "    print(\"You are old\")\n",
        "  } else {\n",
        "    print(\"You are not yet an adult, make the most of it\")\n",
        "  }"
      ],
      "metadata": {
        "colab": {
          "base_uri": "https://localhost:8080/"
        },
        "id": "EFplXIonfvS5",
        "outputId": "7e5b2a42-10a1-4bd9-a419-0ec2ccd5b005"
      },
      "execution_count": null,
      "outputs": [
        {
          "output_type": "stream",
          "name": "stdout",
          "text": [
            "[1] \"You are an adult\"\n"
          ]
        }
      ]
    },
    {
      "cell_type": "code",
      "source": [
        "names <- c(\"Alice\", \"Bob\", \"Charlie\")\n",
        "for (name in names) {\n",
        "    print(paste0(\"Hello, \", name, \"!\"))\n",
        "}"
      ],
      "metadata": {
        "colab": {
          "base_uri": "https://localhost:8080/"
        },
        "id": "gXU74yARiaS0",
        "outputId": "86e93851-739d-4b15-a951-0f9e7a9f0e5f"
      },
      "execution_count": null,
      "outputs": [
        {
          "output_type": "stream",
          "name": "stdout",
          "text": [
            "[1] \"Hello, Alice!\"\n",
            "[1] \"Hello, Bob!\"\n",
            "[1] \"Hello, Charlie!\"\n"
          ]
        }
      ]
    },
    {
      "cell_type": "markdown",
      "source": [
        "**Built-in Math Functions**"
      ],
      "metadata": {
        "id": "AKslvmm0imWe"
      }
    },
    {
      "cell_type": "code",
      "source": [
        "sqrt(4)"
      ],
      "metadata": {
        "colab": {
          "base_uri": "https://localhost:8080/",
          "height": 34
        },
        "id": "zTd8Lc7simmo",
        "outputId": "6d0585cb-3f06-4c79-eeb7-bd29a2bb1fa7"
      },
      "execution_count": null,
      "outputs": [
        {
          "output_type": "display_data",
          "data": {
            "text/html": [
              "2"
            ],
            "text/markdown": "2",
            "text/latex": "2",
            "text/plain": [
              "[1] 2"
            ]
          },
          "metadata": {}
        }
      ]
    },
    {
      "cell_type": "code",
      "source": [
        "abs(-99.9)"
      ],
      "metadata": {
        "colab": {
          "base_uri": "https://localhost:8080/",
          "height": 34
        },
        "id": "AkfE5u4sisee",
        "outputId": "a9f927a8-3231-4a96-b774-a2dbe751c2fe"
      },
      "execution_count": null,
      "outputs": [
        {
          "output_type": "display_data",
          "data": {
            "text/html": [
              "99.9"
            ],
            "text/markdown": "99.9",
            "text/latex": "99.9",
            "text/plain": [
              "[1] 99.9"
            ]
          },
          "metadata": {}
        }
      ]
    },
    {
      "cell_type": "code",
      "source": [
        "ceiling(3.4)\n",
        "floor(3.4)"
      ],
      "metadata": {
        "colab": {
          "base_uri": "https://localhost:8080/",
          "height": 52
        },
        "id": "Hxf3IhOti0Ci",
        "outputId": "bcb647b1-0ba3-4074-a649-523e08983102"
      },
      "execution_count": null,
      "outputs": [
        {
          "output_type": "display_data",
          "data": {
            "text/html": [
              "4"
            ],
            "text/markdown": "4",
            "text/latex": "4",
            "text/plain": [
              "[1] 4"
            ]
          },
          "metadata": {}
        },
        {
          "output_type": "display_data",
          "data": {
            "text/html": [
              "3"
            ],
            "text/markdown": "3",
            "text/latex": "3",
            "text/plain": [
              "[1] 3"
            ]
          },
          "metadata": {}
        }
      ]
    },
    {
      "cell_type": "code",
      "source": [
        "str <- \"I am a so called \\\"Hipster\\\".\"\n",
        "\n",
        "str\n",
        "cat(str)"
      ],
      "metadata": {
        "colab": {
          "base_uri": "https://localhost:8080/",
          "height": 52
        },
        "id": "Gz61lxvxjI9F",
        "outputId": "d7ae1a7e-0d59-4587-fc49-84da51f9b7ef"
      },
      "execution_count": null,
      "outputs": [
        {
          "output_type": "display_data",
          "data": {
            "text/html": [
              "'I am a so called \"Hipster\".'"
            ],
            "text/markdown": "'I am a so called \"Hipster\".'",
            "text/latex": "'I am a so called \"Hipster\".'",
            "text/plain": [
              "[1] \"I am a so called \\\"Hipster\\\".\""
            ]
          },
          "metadata": {}
        },
        {
          "output_type": "stream",
          "name": "stdout",
          "text": [
            "I am a so called \"Hipster\"."
          ]
        }
      ]
    },
    {
      "cell_type": "markdown",
      "source": [
        "**Booleans**"
      ],
      "metadata": {
        "id": "0_P7Kqjqj0zs"
      }
    },
    {
      "cell_type": "code",
      "source": [
        "10 > 9\n",
        "10 == 9\n",
        "10 < 9"
      ],
      "metadata": {
        "colab": {
          "base_uri": "https://localhost:8080/",
          "height": 69
        },
        "id": "gzSGjQDyj_wI",
        "outputId": "f0d3d8dd-4ad0-414f-d450-cf040a58479f"
      },
      "execution_count": null,
      "outputs": [
        {
          "output_type": "display_data",
          "data": {
            "text/html": [
              "TRUE"
            ],
            "text/markdown": "TRUE",
            "text/latex": "TRUE",
            "text/plain": [
              "[1] TRUE"
            ]
          },
          "metadata": {}
        },
        {
          "output_type": "display_data",
          "data": {
            "text/html": [
              "FALSE"
            ],
            "text/markdown": "FALSE",
            "text/latex": "FALSE",
            "text/plain": [
              "[1] FALSE"
            ]
          },
          "metadata": {}
        },
        {
          "output_type": "display_data",
          "data": {
            "text/html": [
              "FALSE"
            ],
            "text/markdown": "FALSE",
            "text/latex": "FALSE",
            "text/plain": [
              "[1] FALSE"
            ]
          },
          "metadata": {}
        }
      ]
    },
    {
      "cell_type": "code",
      "source": [
        "a <- 10\n",
        "b <- 9\n",
        "\n",
        "a > b"
      ],
      "metadata": {
        "colab": {
          "base_uri": "https://localhost:8080/",
          "height": 34
        },
        "id": "tKz4wbbakB86",
        "outputId": "a7e1d884-c224-42bb-d4bb-550a9fbd0e07"
      },
      "execution_count": null,
      "outputs": [
        {
          "output_type": "display_data",
          "data": {
            "text/html": [
              "TRUE"
            ],
            "text/markdown": "TRUE",
            "text/latex": "TRUE",
            "text/plain": [
              "[1] TRUE"
            ]
          },
          "metadata": {}
        }
      ]
    },
    {
      "cell_type": "code",
      "source": [
        "a <- 200\n",
        "b <- 33\n",
        "\n",
        "if (b > a) {\n",
        "  print (\"be is greater than a\")\n",
        "} else {\n",
        "  print(\"b is not greater than a\")\n",
        "}"
      ],
      "metadata": {
        "colab": {
          "base_uri": "https://localhost:8080/"
        },
        "id": "Fv3F3Gdbkb5G",
        "outputId": "0fe37b5c-3627-47b3-d89c-fcc7696c23e4"
      },
      "execution_count": null,
      "outputs": [
        {
          "output_type": "stream",
          "name": "stdout",
          "text": [
            "[1] \"b is not greater than a\"\n"
          ]
        }
      ]
    },
    {
      "cell_type": "code",
      "source": [
        "Misc1 <- 1:10\n",
        "print(Misc1)"
      ],
      "metadata": {
        "colab": {
          "base_uri": "https://localhost:8080/"
        },
        "id": "sjG1ntUTlhPz",
        "outputId": "1c173c7f-1f74-40d7-9dcf-8557e6e2e10f"
      },
      "execution_count": null,
      "outputs": [
        {
          "output_type": "stream",
          "name": "stdout",
          "text": [
            " [1]  1  2  3  4  5  6  7  8  9 10\n"
          ]
        }
      ]
    },
    {
      "cell_type": "markdown",
      "source": [
        "\n",
        "\n",
        "---\n",
        "\n",
        "**Lesson 3**\n",
        "\n",
        "---\n",
        "\n"
      ],
      "metadata": {
        "id": "3h56XOEuzQ71"
      }
    },
    {
      "cell_type": "code",
      "source": [
        "a <- 200\n",
        "b <- 199\n",
        "\n",
        "if (b > a) {\n",
        "  print(\"b is greater than a\")\n",
        "} else if (a == b) {\n",
        "  print(\"a and b are equal\")\n",
        "} else {\n",
        "  print(\"a is greater than b\")\n",
        "}"
      ],
      "metadata": {
        "colab": {
          "base_uri": "https://localhost:8080/"
        },
        "id": "vYib2MjDzWsb",
        "outputId": "42b3444f-7dd2-48c3-9695-095c2d28df79"
      },
      "execution_count": null,
      "outputs": [
        {
          "output_type": "stream",
          "name": "stdout",
          "text": [
            "[1] \"a is greater than b\"\n"
          ]
        }
      ]
    },
    {
      "cell_type": "code",
      "source": [
        "x <- 41\n",
        "\n",
        "if (x > 10) {\n",
        "  print(\"Above ten\")\n",
        "  if (x > 20) {\n",
        "    print(\"and also above 20!\")\n",
        "  } else {\n",
        "    print(\"but not above 20.\")\n",
        "  }\n",
        "} else {\n",
        "  print(\"below 10.\")\n",
        "}"
      ],
      "metadata": {
        "colab": {
          "base_uri": "https://localhost:8080/"
        },
        "id": "VgrkTVdYz3FW",
        "outputId": "78ee55b5-8dd3-4108-c1b3-65d18416cd7a"
      },
      "execution_count": null,
      "outputs": [
        {
          "output_type": "stream",
          "name": "stdout",
          "text": [
            "[1] \"Above ten\"\n",
            "[1] \"and also above 20!\"\n"
          ]
        }
      ]
    },
    {
      "cell_type": "markdown",
      "source": [
        "School assignment grading example"
      ],
      "metadata": {
        "id": "CsWJtcmC2Zoy"
      }
    },
    {
      "cell_type": "code",
      "source": [
        "grade <- 79\n",
        "\n",
        "if (grade >= 90) {\n",
        "  print(\"Your grade is A.\")\n",
        "  } else if (grade >=80) {\n",
        "    print(\"Your grade is B.\")\n",
        "  } else if (grade >=70) {\n",
        "    print(\"Your grade is C.\")\n",
        "  } else if (grade >=60) {\n",
        "    print(\"Your grade is D.\")\n",
        "  } else {\n",
        "    print(\"Your grade is U.\")\n",
        "  }\n"
      ],
      "metadata": {
        "colab": {
          "base_uri": "https://localhost:8080/"
        },
        "id": "-sBwCPJg1C4F",
        "outputId": "031f26b5-b8de-4490-f069-f9971c4bf5ff"
      },
      "execution_count": null,
      "outputs": [
        {
          "output_type": "stream",
          "name": "stdout",
          "text": [
            "[1] \"Your grade is C.\"\n"
          ]
        }
      ]
    },
    {
      "cell_type": "markdown",
      "source": [
        "Movie ticket discount"
      ],
      "metadata": {
        "id": "7jGw4LkY2zN_"
      }
    },
    {
      "cell_type": "code",
      "source": [
        "# Set variables\n",
        "age <- 40\n",
        "day <- \"Saturday\"  # Replace with the actual day\n",
        "\n",
        "#check age and day\n",
        "if (age >= 65) {\n",
        "  discount <- 20\n",
        "} else if (age >= 13 & age <= 18) { #check if teenager and day\n",
        "  if (day %in% c(\"Friday\", \"Saturday\", \"Sunday\")) {\n",
        "    discount <- 15\n",
        "  } else {\n",
        "    discount <- 0\n",
        "  }\n",
        "} else if (age >= 3 & age <= 12) { #check if child\n",
        "  discount <- 10\n",
        "} else {\n",
        "  discount <- 0\n",
        "}\n",
        "# Print appropriate discount message\n",
        "if (discount > 0) {\n",
        "  print(paste0(\"You are eligible for a \", discount, \"% discount!\"))\n",
        "} else {\n",
        "  print(\"No discount applies.\")\n",
        "}"
      ],
      "metadata": {
        "colab": {
          "base_uri": "https://localhost:8080/"
        },
        "id": "wAcANkNv21mx",
        "outputId": "65311cc7-b49a-45a0-8e7b-60f8e46bb694"
      },
      "execution_count": null,
      "outputs": [
        {
          "output_type": "stream",
          "name": "stdout",
          "text": [
            "[1] \"No discount applies.\"\n"
          ]
        }
      ]
    },
    {
      "cell_type": "code",
      "source": [
        "#While loop that stops once i reaches 6\n",
        "i <- 1\n",
        "while (i < 6) {\n",
        "  print(i)\n",
        "  i <- i + 1\n",
        "}"
      ],
      "metadata": {
        "colab": {
          "base_uri": "https://localhost:8080/"
        },
        "id": "k-CRAhXp5AnB",
        "outputId": "927406e1-c288-46a3-9c45-a4543fa15104"
      },
      "execution_count": null,
      "outputs": [
        {
          "output_type": "stream",
          "name": "stdout",
          "text": [
            "[1] 1\n",
            "[1] 3\n",
            "[1] 5\n"
          ]
        }
      ]
    },
    {
      "cell_type": "code",
      "source": [
        "# A break statement ends the count the number before the break\n",
        "i <- 1\n",
        "while (i < 6) {\n",
        "  print(i)\n",
        "  i <- i + 1\n",
        "  if (i == 4) {\n",
        "    break\n",
        "  }\n",
        "}"
      ],
      "metadata": {
        "colab": {
          "base_uri": "https://localhost:8080/"
        },
        "id": "stcLD5kB5X88",
        "outputId": "2a5934a0-0ed8-4a3d-8870-7166d4d30546"
      },
      "execution_count": null,
      "outputs": [
        {
          "output_type": "stream",
          "name": "stdout",
          "text": [
            "[1] 1\n",
            "[1] 2\n",
            "[1] 3\n"
          ]
        }
      ]
    },
    {
      "cell_type": "code",
      "source": [
        "#next statement, skips an iteration (in this case 3)\n",
        "i <- 0\n",
        "while (i < 6) {\n",
        "  i <- i + 1\n",
        "  if (i ==3) {\n",
        "    next\n",
        "  }\n",
        "  print(i)\n",
        "}"
      ],
      "metadata": {
        "colab": {
          "base_uri": "https://localhost:8080/"
        },
        "id": "TlAK9NOz5qhk",
        "outputId": "9f63a748-f760-4781-e7af-f3f4766a18f2"
      },
      "execution_count": null,
      "outputs": [
        {
          "output_type": "stream",
          "name": "stdout",
          "text": [
            "[1] 1\n",
            "[1] 2\n",
            "[1] 4\n",
            "[1] 5\n",
            "[1] 6\n"
          ]
        }
      ]
    },
    {
      "cell_type": "code",
      "source": [
        "# Generate secret number (between 1 and 10)\n",
        "secret_number <- sample(1:10, 1)\n",
        "\n",
        "# Initialize guess and attempts\n",
        "guess <- NA\n",
        "attempts <- 0\n",
        "\n",
        "# Start guessing loop (continues until guess is correct)\n",
        "while (guess != secret_number) {\n",
        "  # Prompt for guess\n",
        "  guess <- as.numeric(readline(\"Guess a number between 1 and 10: \"))\n",
        "\n",
        "  # Validate guess (within 1-10 range)\n",
        "  if (is.na(guess) | guess < 1 | guess > 10) {\n",
        "    cat(\"Invalid guess. Please enter a number between 1 and 10.\\n\")\n",
        "    next  # Skip to the next iteration\n",
        "  }\n",
        "\n",
        "  # Compare guess and provide feedback\n",
        "  if (guess == secret_number) {\n",
        "    cat(\"Congratulations! You guessed the number in \", attempts, \" attempts.\\n\")\n",
        "    break  # Exit the loop\n",
        "  } else if (guess < secret_number) {\n",
        "    cat(\"Your guess is too low. Try again.\\n\")\n",
        "  } else {\n",
        "    cat(\"Your guess is too high. Try again.\\n\")\n",
        "  }\n",
        "\n",
        "  # Increment attempts for incorrect guesses\n",
        "  attempts <- attempts + 1\n",
        "}\n",
        "\n",
        "# Outside the loop (if guess wasn't correct)\n",
        "if (guess != secret_number) {\n",
        "  cat(\"You couldn't guess the number. It was \", secret_number, \".\\n\")\n",
        "}"
      ],
      "metadata": {
        "colab": {
          "base_uri": "https://localhost:8080/",
          "height": 72
        },
        "id": "gkrK6Oeh6Prb",
        "outputId": "5d29bedb-9221-47b3-93ca-4fc706426065"
      },
      "execution_count": null,
      "outputs": [
        {
          "output_type": "error",
          "ename": "ERROR",
          "evalue": "Error in while (guess != secret_number) {: missing value where TRUE/FALSE needed\n",
          "traceback": [
            "Error in while (guess != secret_number) {: missing value where TRUE/FALSE needed\nTraceback:\n"
          ]
        }
      ]
    },
    {
      "cell_type": "code",
      "source": [
        "# Get user input\n",
        "number <- as.numeric(readline(\"Enter a number to generate the multiplication table: \"))\n",
        "\n",
        "# Validate input\n",
        "if (is.na(number)) {\n",
        "  stop(\"Invalid input. Please enter a number.\\n\")\n",
        "}\n",
        "\n",
        "# Start multiplication table loop\n",
        "for (i in 1:10) {\n",
        "  for (j in 1:number) {\n",
        "    product <- i * j\n",
        "    cat(paste0(i, \" * \", j, \" = \", product, \"\\t\"))  # Tab for spacing\n",
        "  }\n",
        "  cat(\"\\n\")  # Move to a new line for each row\n",
        "}"
      ],
      "metadata": {
        "colab": {
          "base_uri": "https://localhost:8080/"
        },
        "id": "qbDNCzjJARg2",
        "outputId": "0769fb22-e39a-4681-d728-4ba51957e7a0"
      },
      "execution_count": null,
      "outputs": [
        {
          "output_type": "stream",
          "name": "stdout",
          "text": [
            "Enter a number to generate the multiplication table: 5.5\n",
            "1 * 1 = 1\t1 * 2 = 2\t1 * 3 = 3\t1 * 4 = 4\t1 * 5 = 5\t\n",
            "2 * 1 = 2\t2 * 2 = 4\t2 * 3 = 6\t2 * 4 = 8\t2 * 5 = 10\t\n",
            "3 * 1 = 3\t3 * 2 = 6\t3 * 3 = 9\t3 * 4 = 12\t3 * 5 = 15\t\n",
            "4 * 1 = 4\t4 * 2 = 8\t4 * 3 = 12\t4 * 4 = 16\t4 * 5 = 20\t\n",
            "5 * 1 = 5\t5 * 2 = 10\t5 * 3 = 15\t5 * 4 = 20\t5 * 5 = 25\t\n",
            "6 * 1 = 6\t6 * 2 = 12\t6 * 3 = 18\t6 * 4 = 24\t6 * 5 = 30\t\n",
            "7 * 1 = 7\t7 * 2 = 14\t7 * 3 = 21\t7 * 4 = 28\t7 * 5 = 35\t\n",
            "8 * 1 = 8\t8 * 2 = 16\t8 * 3 = 24\t8 * 4 = 32\t8 * 5 = 40\t\n",
            "9 * 1 = 9\t9 * 2 = 18\t9 * 3 = 27\t9 * 4 = 36\t9 * 5 = 45\t\n",
            "10 * 1 = 10\t10 * 2 = 20\t10 * 3 = 30\t10 * 4 = 40\t10 * 5 = 50\t\n"
          ]
        }
      ]
    },
    {
      "cell_type": "markdown",
      "source": [
        "# **R Day 2**\n",
        "\n",
        "---\n"
      ],
      "metadata": {
        "id": "WOcSVrlf2o_t"
      }
    },
    {
      "cell_type": "code",
      "source": [
        "i <- 1\n",
        "while (i < 6) {\n",
        "  print(i)\n",
        "  i <- i + 1\n",
        "  if (i == 4) {\n",
        "  break\n",
        "  }\n",
        "}"
      ],
      "metadata": {
        "colab": {
          "base_uri": "https://localhost:8080/"
        },
        "id": "8ijXZb2k2vqQ",
        "outputId": "c9a047a5-284a-425b-e824-0d1f92346c02"
      },
      "execution_count": null,
      "outputs": [
        {
          "output_type": "stream",
          "name": "stdout",
          "text": [
            "[1] 1\n",
            "[1] 2\n",
            "[1] 3\n"
          ]
        }
      ]
    },
    {
      "cell_type": "code",
      "source": [],
      "metadata": {
        "id": "enHtRS9U4y9C"
      },
      "execution_count": null,
      "outputs": []
    },
    {
      "cell_type": "markdown",
      "source": [
        "**List and loops**"
      ],
      "metadata": {
        "id": "5VulSqjDE7yH"
      }
    },
    {
      "cell_type": "code",
      "source": [
        "# Create two lists: \"adj\" and \"fruits\"\n",
        "adj <- list(\"red\", \"big\", \"tasty\")\n",
        "fruits <- list(\"apple\", \"banana\", \"cherry\")\n",
        "\n",
        "# Nested loops to combine each adjective with each fruit\n",
        "for (x in adj) {\n",
        "  for (y in fruits) { # the inner loop finishes first, then back to outer loop\n",
        "    # Concatenate the adjective and fruit, then print the result\n",
        "    print(paste(x, y))\n",
        "  }\n",
        "}\n"
      ],
      "metadata": {
        "colab": {
          "base_uri": "https://localhost:8080/"
        },
        "id": "u0XALLtPX4YY",
        "outputId": "e2ab9f5a-9156-4bd2-d5b5-88447afe959c"
      },
      "execution_count": null,
      "outputs": [
        {
          "output_type": "stream",
          "name": "stdout",
          "text": [
            "[1] \"red apple\"\n",
            "[1] \"red banana\"\n",
            "[1] \"red cherry\"\n",
            "[1] \"big apple\"\n",
            "[1] \"big banana\"\n",
            "[1] \"big cherry\"\n",
            "[1] \"tasty apple\"\n",
            "[1] \"tasty banana\"\n",
            "[1] \"tasty cherry\"\n"
          ]
        }
      ]
    },
    {
      "cell_type": "markdown",
      "source": [
        "# **5 - Vectors**\n",
        "A vector is simply a list of items that are of the same type.\n",
        "\n",
        "To combine the list of items to a vector, use the c() function and separate the items by a comma.\n",
        "\n",
        "---\n",
        "\n"
      ],
      "metadata": {
        "id": "k7u_PziMGYDo"
      }
    },
    {
      "cell_type": "code",
      "source": [
        "# Vector of strings\n",
        "fruits <- c(\"banana\", \"apple\", \"orange\")\n",
        "\n",
        "#print fruits\n",
        "fruits"
      ],
      "metadata": {
        "colab": {
          "base_uri": "https://localhost:8080/",
          "height": 34
        },
        "id": "LQsxd1TtGkHD",
        "outputId": "ec6611ab-86de-4fef-f7c6-adea2a8ca850"
      },
      "execution_count": null,
      "outputs": [
        {
          "output_type": "display_data",
          "data": {
            "text/html": [
              "<style>\n",
              ".list-inline {list-style: none; margin:0; padding: 0}\n",
              ".list-inline>li {display: inline-block}\n",
              ".list-inline>li:not(:last-child)::after {content: \"\\00b7\"; padding: 0 .5ex}\n",
              "</style>\n",
              "<ol class=list-inline><li>'banana'</li><li>'apple'</li><li>'orange'</li></ol>\n"
            ],
            "text/markdown": "1. 'banana'\n2. 'apple'\n3. 'orange'\n\n\n",
            "text/latex": "\\begin{enumerate*}\n\\item 'banana'\n\\item 'apple'\n\\item 'orange'\n\\end{enumerate*}\n",
            "text/plain": [
              "[1] \"banana\" \"apple\"  \"orange\""
            ]
          },
          "metadata": {}
        }
      ]
    },
    {
      "cell_type": "code",
      "source": [
        "# Vector of numerical values\n",
        "numbers <- c(1, 2, 3)\n",
        "\n",
        "# Print numbers\n",
        "numbers"
      ],
      "metadata": {
        "colab": {
          "base_uri": "https://localhost:8080/",
          "height": 34
        },
        "id": "DTo9G3N7G65p",
        "outputId": "109c1179-dcf0-4df7-a549-567e11ca8404"
      },
      "execution_count": null,
      "outputs": [
        {
          "output_type": "display_data",
          "data": {
            "text/html": [
              "<style>\n",
              ".list-inline {list-style: none; margin:0; padding: 0}\n",
              ".list-inline>li {display: inline-block}\n",
              ".list-inline>li:not(:last-child)::after {content: \"\\00b7\"; padding: 0 .5ex}\n",
              "</style>\n",
              "<ol class=list-inline><li>1</li><li>2</li><li>3</li></ol>\n"
            ],
            "text/markdown": "1. 1\n2. 2\n3. 3\n\n\n",
            "text/latex": "\\begin{enumerate*}\n\\item 1\n\\item 2\n\\item 3\n\\end{enumerate*}\n",
            "text/plain": [
              "[1] 1 2 3"
            ]
          },
          "metadata": {}
        }
      ]
    },
    {
      "cell_type": "code",
      "source": [
        "# Vector with numerical values in a sequence\n",
        "numbers <- 1:10\n",
        "\n",
        "numbers"
      ],
      "metadata": {
        "colab": {
          "base_uri": "https://localhost:8080/",
          "height": 34
        },
        "id": "jCPXl5m8HF-h",
        "outputId": "87ff4cc3-c3fa-4cef-d405-cd40a6cae00e"
      },
      "execution_count": null,
      "outputs": [
        {
          "output_type": "display_data",
          "data": {
            "text/html": [
              "<style>\n",
              ".list-inline {list-style: none; margin:0; padding: 0}\n",
              ".list-inline>li {display: inline-block}\n",
              ".list-inline>li:not(:last-child)::after {content: \"\\00b7\"; padding: 0 .5ex}\n",
              "</style>\n",
              "<ol class=list-inline><li>1</li><li>2</li><li>3</li><li>4</li><li>5</li><li>6</li><li>7</li><li>8</li><li>9</li><li>10</li></ol>\n"
            ],
            "text/markdown": "1. 1\n2. 2\n3. 3\n4. 4\n5. 5\n6. 6\n7. 7\n8. 8\n9. 9\n10. 10\n\n\n",
            "text/latex": "\\begin{enumerate*}\n\\item 1\n\\item 2\n\\item 3\n\\item 4\n\\item 5\n\\item 6\n\\item 7\n\\item 8\n\\item 9\n\\item 10\n\\end{enumerate*}\n",
            "text/plain": [
              " [1]  1  2  3  4  5  6  7  8  9 10"
            ]
          },
          "metadata": {}
        }
      ]
    },
    {
      "cell_type": "code",
      "source": [
        "# Vector with numerical decimals in a sequence\n",
        "numbers1 <- 1.5:6.5\n",
        "numbers1"
      ],
      "metadata": {
        "colab": {
          "base_uri": "https://localhost:8080/",
          "height": 34
        },
        "id": "KmTnBmQxHHHI",
        "outputId": "608f3730-4ed2-482a-b332-df2e7da82732"
      },
      "execution_count": null,
      "outputs": [
        {
          "output_type": "display_data",
          "data": {
            "text/html": [
              "<style>\n",
              ".list-inline {list-style: none; margin:0; padding: 0}\n",
              ".list-inline>li {display: inline-block}\n",
              ".list-inline>li:not(:last-child)::after {content: \"\\00b7\"; padding: 0 .5ex}\n",
              "</style>\n",
              "<ol class=list-inline><li>1.5</li><li>2.5</li><li>3.5</li><li>4.5</li><li>5.5</li><li>6.5</li></ol>\n"
            ],
            "text/markdown": "1. 1.5\n2. 2.5\n3. 3.5\n4. 4.5\n5. 5.5\n6. 6.5\n\n\n",
            "text/latex": "\\begin{enumerate*}\n\\item 1.5\n\\item 2.5\n\\item 3.5\n\\item 4.5\n\\item 5.5\n\\item 6.5\n\\end{enumerate*}\n",
            "text/plain": [
              "[1] 1.5 2.5 3.5 4.5 5.5 6.5"
            ]
          },
          "metadata": {}
        }
      ]
    },
    {
      "cell_type": "code",
      "source": [
        "# Vector of logical values\n",
        "log_values <- c(TRUE, FALSE, TRUE, FALSE)\n",
        "log_values"
      ],
      "metadata": {
        "colab": {
          "base_uri": "https://localhost:8080/",
          "height": 34
        },
        "id": "IojhXIe_ZksS",
        "outputId": "8c55e1e6-1b96-4ebb-ab20-a0b65f953d79"
      },
      "execution_count": null,
      "outputs": [
        {
          "output_type": "display_data",
          "data": {
            "text/html": [
              "<style>\n",
              ".list-inline {list-style: none; margin:0; padding: 0}\n",
              ".list-inline>li {display: inline-block}\n",
              ".list-inline>li:not(:last-child)::after {content: \"\\00b7\"; padding: 0 .5ex}\n",
              "</style>\n",
              "<ol class=list-inline><li>TRUE</li><li>FALSE</li><li>TRUE</li><li>FALSE</li></ol>\n"
            ],
            "text/markdown": "1. TRUE\n2. FALSE\n3. TRUE\n4. FALSE\n\n\n",
            "text/latex": "\\begin{enumerate*}\n\\item TRUE\n\\item FALSE\n\\item TRUE\n\\item FALSE\n\\end{enumerate*}\n",
            "text/plain": [
              "[1]  TRUE FALSE  TRUE FALSE"
            ]
          },
          "metadata": {}
        }
      ]
    },
    {
      "cell_type": "code",
      "source": [
        "#Check how many items a vector has\n",
        "\n",
        "fruits <- c(\"apple\", \"orange\", \"banana\")\n",
        "length(fruits)"
      ],
      "metadata": {
        "colab": {
          "base_uri": "https://localhost:8080/",
          "height": 34
        },
        "id": "jSai6InuZvYy",
        "outputId": "7fe5b0c3-bb68-4419-97b0-7bb44af283a7"
      },
      "execution_count": null,
      "outputs": [
        {
          "output_type": "display_data",
          "data": {
            "text/html": [
              "3"
            ],
            "text/markdown": "3",
            "text/latex": "3",
            "text/plain": [
              "[1] 3"
            ]
          },
          "metadata": {}
        }
      ]
    },
    {
      "cell_type": "code",
      "source": [
        "#sorting\n",
        "\n",
        "fruits <- c(\"apple\", \"orange\", \"banana\")\n",
        "numbers <- c(13, 5, 76, 4, 12)\n",
        "\n",
        "sort(fruits)\n",
        "sort(numbers)"
      ],
      "metadata": {
        "colab": {
          "base_uri": "https://localhost:8080/",
          "height": 52
        },
        "id": "EjM4MCj8aIPj",
        "outputId": "6bbae4b4-011c-4a13-ab88-22da86c7c6c7"
      },
      "execution_count": null,
      "outputs": [
        {
          "output_type": "display_data",
          "data": {
            "text/html": [
              "<style>\n",
              ".list-inline {list-style: none; margin:0; padding: 0}\n",
              ".list-inline>li {display: inline-block}\n",
              ".list-inline>li:not(:last-child)::after {content: \"\\00b7\"; padding: 0 .5ex}\n",
              "</style>\n",
              "<ol class=list-inline><li>'apple'</li><li>'banana'</li><li>'orange'</li></ol>\n"
            ],
            "text/markdown": "1. 'apple'\n2. 'banana'\n3. 'orange'\n\n\n",
            "text/latex": "\\begin{enumerate*}\n\\item 'apple'\n\\item 'banana'\n\\item 'orange'\n\\end{enumerate*}\n",
            "text/plain": [
              "[1] \"apple\"  \"banana\" \"orange\""
            ]
          },
          "metadata": {}
        },
        {
          "output_type": "display_data",
          "data": {
            "text/html": [
              "<style>\n",
              ".list-inline {list-style: none; margin:0; padding: 0}\n",
              ".list-inline>li {display: inline-block}\n",
              ".list-inline>li:not(:last-child)::after {content: \"\\00b7\"; padding: 0 .5ex}\n",
              "</style>\n",
              "<ol class=list-inline><li>4</li><li>5</li><li>12</li><li>13</li><li>76</li></ol>\n"
            ],
            "text/markdown": "1. 4\n2. 5\n3. 12\n4. 13\n5. 76\n\n\n",
            "text/latex": "\\begin{enumerate*}\n\\item 4\n\\item 5\n\\item 12\n\\item 13\n\\item 76\n\\end{enumerate*}\n",
            "text/plain": [
              "[1]  4  5 12 13 76"
            ]
          },
          "metadata": {}
        }
      ]
    },
    {
      "cell_type": "code",
      "source": [
        "# Access an item from a vector\n",
        "\n",
        "fruits <- c(\"apple\", \"orange\", \"banana\")\n",
        "numbers <- c(13, 5, 76, 4, 12)\n",
        "\n",
        "fruits[2]\n",
        "numbers[4]"
      ],
      "metadata": {
        "colab": {
          "base_uri": "https://localhost:8080/",
          "height": 52
        },
        "id": "1udpBXClalBh",
        "outputId": "3fdab50c-c428-49c9-f37a-220b08e2ad92"
      },
      "execution_count": null,
      "outputs": [
        {
          "output_type": "display_data",
          "data": {
            "text/html": [
              "'orange'"
            ],
            "text/markdown": "'orange'",
            "text/latex": "'orange'",
            "text/plain": [
              "[1] \"orange\""
            ]
          },
          "metadata": {}
        },
        {
          "output_type": "display_data",
          "data": {
            "text/html": [
              "4"
            ],
            "text/markdown": "4",
            "text/latex": "4",
            "text/plain": [
              "[1] 4"
            ]
          },
          "metadata": {}
        }
      ]
    },
    {
      "cell_type": "code",
      "source": [
        "# Change an item\n",
        "\n",
        "fruits <- c(\"apple\", \"orange\", \"banana\")\n",
        "numbers <- c(13, 5, 76, 4, 12)\n",
        "\n",
        "fruits[2] <- \"peach\"\n",
        "fruits # print"
      ],
      "metadata": {
        "colab": {
          "base_uri": "https://localhost:8080/",
          "height": 34
        },
        "id": "grLqA0fbaxYY",
        "outputId": "49b78990-6667-443d-a1d4-fc227836e50f"
      },
      "execution_count": null,
      "outputs": [
        {
          "output_type": "display_data",
          "data": {
            "text/html": [
              "<style>\n",
              ".list-inline {list-style: none; margin:0; padding: 0}\n",
              ".list-inline>li {display: inline-block}\n",
              ".list-inline>li:not(:last-child)::after {content: \"\\00b7\"; padding: 0 .5ex}\n",
              "</style>\n",
              "<ol class=list-inline><li>'apple'</li><li>'peach'</li><li>'banana'</li></ol>\n"
            ],
            "text/markdown": "1. 'apple'\n2. 'peach'\n3. 'banana'\n\n\n",
            "text/latex": "\\begin{enumerate*}\n\\item 'apple'\n\\item 'peach'\n\\item 'banana'\n\\end{enumerate*}\n",
            "text/plain": [
              "[1] \"apple\"  \"peach\"  \"banana\""
            ]
          },
          "metadata": {}
        }
      ]
    },
    {
      "cell_type": "code",
      "source": [
        "#Repeating\n",
        "repeat_each <- rep(c(\"oggy\",\"oi\"), each = 3)\n",
        "# or\n",
        "repeat_numbers <- rep(c(1,2,3), each = 3)\n",
        "\n",
        "repeat_each\n",
        "# or\n",
        "repeat_numbers"
      ],
      "metadata": {
        "colab": {
          "base_uri": "https://localhost:8080/",
          "height": 52
        },
        "id": "0S9bVBvIbKcs",
        "outputId": "579e209e-62dc-42ad-f73e-0492a0916240"
      },
      "execution_count": null,
      "outputs": [
        {
          "output_type": "display_data",
          "data": {
            "text/html": [
              "<style>\n",
              ".list-inline {list-style: none; margin:0; padding: 0}\n",
              ".list-inline>li {display: inline-block}\n",
              ".list-inline>li:not(:last-child)::after {content: \"\\00b7\"; padding: 0 .5ex}\n",
              "</style>\n",
              "<ol class=list-inline><li>'oggy'</li><li>'oggy'</li><li>'oggy'</li><li>'oi'</li><li>'oi'</li><li>'oi'</li></ol>\n"
            ],
            "text/markdown": "1. 'oggy'\n2. 'oggy'\n3. 'oggy'\n4. 'oi'\n5. 'oi'\n6. 'oi'\n\n\n",
            "text/latex": "\\begin{enumerate*}\n\\item 'oggy'\n\\item 'oggy'\n\\item 'oggy'\n\\item 'oi'\n\\item 'oi'\n\\item 'oi'\n\\end{enumerate*}\n",
            "text/plain": [
              "[1] \"oggy\" \"oggy\" \"oggy\" \"oi\"   \"oi\"   \"oi\"  "
            ]
          },
          "metadata": {}
        },
        {
          "output_type": "display_data",
          "data": {
            "text/html": [
              "<style>\n",
              ".list-inline {list-style: none; margin:0; padding: 0}\n",
              ".list-inline>li {display: inline-block}\n",
              ".list-inline>li:not(:last-child)::after {content: \"\\00b7\"; padding: 0 .5ex}\n",
              "</style>\n",
              "<ol class=list-inline><li>1</li><li>1</li><li>1</li><li>2</li><li>2</li><li>2</li><li>3</li><li>3</li><li>3</li></ol>\n"
            ],
            "text/markdown": "1. 1\n2. 1\n3. 1\n4. 2\n5. 2\n6. 2\n7. 3\n8. 3\n9. 3\n\n\n",
            "text/latex": "\\begin{enumerate*}\n\\item 1\n\\item 1\n\\item 1\n\\item 2\n\\item 2\n\\item 2\n\\item 3\n\\item 3\n\\item 3\n\\end{enumerate*}\n",
            "text/plain": [
              "[1] 1 1 1 2 2 2 3 3 3"
            ]
          },
          "metadata": {}
        }
      ]
    },
    {
      "cell_type": "code",
      "source": [
        "#Sequences (from, to)\n",
        "seq(from = 1, to = 20)\n"
      ],
      "metadata": {
        "colab": {
          "base_uri": "https://localhost:8080/",
          "height": 34
        },
        "id": "rNMnrDmYbxoq",
        "outputId": "ffc6fc90-8add-41e1-f878-9548e999105d"
      },
      "execution_count": null,
      "outputs": [
        {
          "output_type": "display_data",
          "data": {
            "text/html": [
              "<style>\n",
              ".list-inline {list-style: none; margin:0; padding: 0}\n",
              ".list-inline>li {display: inline-block}\n",
              ".list-inline>li:not(:last-child)::after {content: \"\\00b7\"; padding: 0 .5ex}\n",
              "</style>\n",
              "<ol class=list-inline><li>1</li><li>2</li><li>3</li><li>4</li><li>5</li><li>6</li><li>7</li><li>8</li><li>9</li><li>10</li><li>11</li><li>12</li><li>13</li><li>14</li><li>15</li><li>16</li><li>17</li><li>18</li><li>19</li><li>20</li></ol>\n"
            ],
            "text/markdown": "1. 1\n2. 2\n3. 3\n4. 4\n5. 5\n6. 6\n7. 7\n8. 8\n9. 9\n10. 10\n11. 11\n12. 12\n13. 13\n14. 14\n15. 15\n16. 16\n17. 17\n18. 18\n19. 19\n20. 20\n\n\n",
            "text/latex": "\\begin{enumerate*}\n\\item 1\n\\item 2\n\\item 3\n\\item 4\n\\item 5\n\\item 6\n\\item 7\n\\item 8\n\\item 9\n\\item 10\n\\item 11\n\\item 12\n\\item 13\n\\item 14\n\\item 15\n\\item 16\n\\item 17\n\\item 18\n\\item 19\n\\item 20\n\\end{enumerate*}\n",
            "text/plain": [
              " [1]  1  2  3  4  5  6  7  8  9 10 11 12 13 14 15 16 17 18 19 20"
            ]
          },
          "metadata": {}
        }
      ]
    },
    {
      "cell_type": "code",
      "source": [
        "#Sequences (from, to, by)\n",
        "seq(from = 1, to = 20, by = 2)"
      ],
      "metadata": {
        "colab": {
          "base_uri": "https://localhost:8080/",
          "height": 34
        },
        "id": "65_-BGBpcBFN",
        "outputId": "0836173e-2a5c-4ea6-97b3-b1513f07a458"
      },
      "execution_count": null,
      "outputs": [
        {
          "output_type": "display_data",
          "data": {
            "text/html": [
              "<style>\n",
              ".list-inline {list-style: none; margin:0; padding: 0}\n",
              ".list-inline>li {display: inline-block}\n",
              ".list-inline>li:not(:last-child)::after {content: \"\\00b7\"; padding: 0 .5ex}\n",
              "</style>\n",
              "<ol class=list-inline><li>1</li><li>3</li><li>5</li><li>7</li><li>9</li><li>11</li><li>13</li><li>15</li><li>17</li><li>19</li></ol>\n"
            ],
            "text/markdown": "1. 1\n2. 3\n3. 5\n4. 7\n5. 9\n6. 11\n7. 13\n8. 15\n9. 17\n10. 19\n\n\n",
            "text/latex": "\\begin{enumerate*}\n\\item 1\n\\item 3\n\\item 5\n\\item 7\n\\item 9\n\\item 11\n\\item 13\n\\item 15\n\\item 17\n\\item 19\n\\end{enumerate*}\n",
            "text/plain": [
              " [1]  1  3  5  7  9 11 13 15 17 19"
            ]
          },
          "metadata": {}
        }
      ]
    },
    {
      "cell_type": "code",
      "source": [
        "fruits <- c(\"apple\", \"orange\", \"banana\")\n",
        "\n",
        "fruits[c(-1)] # Access all items except the [first]"
      ],
      "metadata": {
        "colab": {
          "base_uri": "https://localhost:8080/",
          "height": 34
        },
        "id": "e3xBencRdj2E",
        "outputId": "c544913e-3180-4cdb-b9bd-4a3b96be0acc"
      },
      "execution_count": null,
      "outputs": [
        {
          "output_type": "display_data",
          "data": {
            "text/html": [
              "<style>\n",
              ".list-inline {list-style: none; margin:0; padding: 0}\n",
              ".list-inline>li {display: inline-block}\n",
              ".list-inline>li:not(:last-child)::after {content: \"\\00b7\"; padding: 0 .5ex}\n",
              "</style>\n",
              "<ol class=list-inline><li>'orange'</li><li>'banana'</li></ol>\n"
            ],
            "text/markdown": "1. 'orange'\n2. 'banana'\n\n\n",
            "text/latex": "\\begin{enumerate*}\n\\item 'orange'\n\\item 'banana'\n\\end{enumerate*}\n",
            "text/plain": [
              "[1] \"orange\" \"banana\""
            ]
          },
          "metadata": {}
        }
      ]
    },
    {
      "cell_type": "markdown",
      "source": [
        "Exercises"
      ],
      "metadata": {
        "id": "otUjNJPRcQYe"
      }
    },
    {
      "cell_type": "code",
      "source": [
        "# Vector of favourite fruits\n",
        "fav_fruits <- c(\"banana\",\"raspberry\",\"papaya\")\n",
        "fav_fruits"
      ],
      "metadata": {
        "colab": {
          "base_uri": "https://localhost:8080/",
          "height": 34
        },
        "id": "gnnEbWLkcR5d",
        "outputId": "3aae244f-3442-43df-d2bb-c381195ce65e"
      },
      "execution_count": null,
      "outputs": [
        {
          "output_type": "display_data",
          "data": {
            "text/html": [
              "<style>\n",
              ".list-inline {list-style: none; margin:0; padding: 0}\n",
              ".list-inline>li {display: inline-block}\n",
              ".list-inline>li:not(:last-child)::after {content: \"\\00b7\"; padding: 0 .5ex}\n",
              "</style>\n",
              "<ol class=list-inline><li>'banana'</li><li>'raspberry'</li><li>'papaya'</li></ol>\n"
            ],
            "text/markdown": "1. 'banana'\n2. 'raspberry'\n3. 'papaya'\n\n\n",
            "text/latex": "\\begin{enumerate*}\n\\item 'banana'\n\\item 'raspberry'\n\\item 'papaya'\n\\end{enumerate*}\n",
            "text/plain": [
              "[1] \"banana\"    \"raspberry\" \"papaya\"   "
            ]
          },
          "metadata": {}
        }
      ]
    },
    {
      "cell_type": "code",
      "source": [
        "# Create a vector of numbers representing your age, shoe size, and favorite number. Print the vector using numbers.\n",
        "numbers <- c(40,9,17)\n",
        "numbers"
      ],
      "metadata": {
        "colab": {
          "base_uri": "https://localhost:8080/",
          "height": 34
        },
        "id": "hWa4vXIecjjt",
        "outputId": "f99b3fa0-9ef2-4299-9f2b-11a312449b09"
      },
      "execution_count": null,
      "outputs": [
        {
          "output_type": "display_data",
          "data": {
            "text/html": [
              "<style>\n",
              ".list-inline {list-style: none; margin:0; padding: 0}\n",
              ".list-inline>li {display: inline-block}\n",
              ".list-inline>li:not(:last-child)::after {content: \"\\00b7\"; padding: 0 .5ex}\n",
              "</style>\n",
              "<ol class=list-inline><li>40</li><li>9</li><li>17</li></ol>\n"
            ],
            "text/markdown": "1. 40\n2. 9\n3. 17\n\n\n",
            "text/latex": "\\begin{enumerate*}\n\\item 40\n\\item 9\n\\item 17\n\\end{enumerate*}\n",
            "text/plain": [
              "[1] 40  9 17"
            ]
          },
          "metadata": {}
        }
      ]
    },
    {
      "cell_type": "code",
      "source": [
        "# Create a vector with the numbers 1 to 10. Use 1:10.\n",
        "numbers <- (1:10)\n",
        "numbers"
      ],
      "metadata": {
        "colab": {
          "base_uri": "https://localhost:8080/",
          "height": 34
        },
        "id": "Jo_j97kcct9u",
        "outputId": "59bba5d0-c9ef-4668-eb55-82399b6c83dd"
      },
      "execution_count": null,
      "outputs": [
        {
          "output_type": "display_data",
          "data": {
            "text/html": [
              "<style>\n",
              ".list-inline {list-style: none; margin:0; padding: 0}\n",
              ".list-inline>li {display: inline-block}\n",
              ".list-inline>li:not(:last-child)::after {content: \"\\00b7\"; padding: 0 .5ex}\n",
              "</style>\n",
              "<ol class=list-inline><li>1</li><li>2</li><li>3</li><li>4</li><li>5</li><li>6</li><li>7</li><li>8</li><li>9</li><li>10</li></ol>\n"
            ],
            "text/markdown": "1. 1\n2. 2\n3. 3\n4. 4\n5. 5\n6. 6\n7. 7\n8. 8\n9. 9\n10. 10\n\n\n",
            "text/latex": "\\begin{enumerate*}\n\\item 1\n\\item 2\n\\item 3\n\\item 4\n\\item 5\n\\item 6\n\\item 7\n\\item 8\n\\item 9\n\\item 10\n\\end{enumerate*}\n",
            "text/plain": [
              " [1]  1  2  3  4  5  6  7  8  9 10"
            ]
          },
          "metadata": {}
        }
      ]
    },
    {
      "cell_type": "code",
      "source": [
        "# Create a vector with the numbers 2.5 to 7.5, increasing by 0.5. Use 1.5:6.5.\n",
        "decimal_numbers <- seq(from = 2.5,to = 7.5, by = 0.5)\n",
        "decimal_numbers"
      ],
      "metadata": {
        "colab": {
          "base_uri": "https://localhost:8080/",
          "height": 34
        },
        "id": "RCl7e_NZc2Pf",
        "outputId": "db73e737-c519-4cbe-8a9c-57e10088f37b"
      },
      "execution_count": null,
      "outputs": [
        {
          "output_type": "display_data",
          "data": {
            "text/html": [
              "<style>\n",
              ".list-inline {list-style: none; margin:0; padding: 0}\n",
              ".list-inline>li {display: inline-block}\n",
              ".list-inline>li:not(:last-child)::after {content: \"\\00b7\"; padding: 0 .5ex}\n",
              "</style>\n",
              "<ol class=list-inline><li>2.5</li><li>3</li><li>3.5</li><li>4</li><li>4.5</li><li>5</li><li>5.5</li><li>6</li><li>6.5</li><li>7</li><li>7.5</li></ol>\n"
            ],
            "text/markdown": "1. 2.5\n2. 3\n3. 3.5\n4. 4\n5. 4.5\n6. 5\n7. 5.5\n8. 6\n9. 6.5\n10. 7\n11. 7.5\n\n\n",
            "text/latex": "\\begin{enumerate*}\n\\item 2.5\n\\item 3\n\\item 3.5\n\\item 4\n\\item 4.5\n\\item 5\n\\item 5.5\n\\item 6\n\\item 6.5\n\\item 7\n\\item 7.5\n\\end{enumerate*}\n",
            "text/plain": [
              " [1] 2.5 3.0 3.5 4.0 4.5 5.0 5.5 6.0 6.5 7.0 7.5"
            ]
          },
          "metadata": {}
        }
      ]
    },
    {
      "cell_type": "code",
      "source": [
        "quick_boolean <- c(TRUE, FALSE, TRUE)\n",
        "quick_boolean"
      ],
      "metadata": {
        "colab": {
          "base_uri": "https://localhost:8080/",
          "height": 34
        },
        "id": "qUJ69NjXdK5K",
        "outputId": "77f46425-4346-42ae-d216-99170b03d4fe"
      },
      "execution_count": null,
      "outputs": [
        {
          "output_type": "display_data",
          "data": {
            "text/html": [
              "<style>\n",
              ".list-inline {list-style: none; margin:0; padding: 0}\n",
              ".list-inline>li {display: inline-block}\n",
              ".list-inline>li:not(:last-child)::after {content: \"\\00b7\"; padding: 0 .5ex}\n",
              "</style>\n",
              "<ol class=list-inline><li>TRUE</li><li>FALSE</li><li>TRUE</li></ol>\n"
            ],
            "text/markdown": "1. TRUE\n2. FALSE\n3. TRUE\n\n\n",
            "text/latex": "\\begin{enumerate*}\n\\item TRUE\n\\item FALSE\n\\item TRUE\n\\end{enumerate*}\n",
            "text/plain": [
              "[1]  TRUE FALSE  TRUE"
            ]
          },
          "metadata": {}
        }
      ]
    },
    {
      "cell_type": "code",
      "source": [
        "# Find the length of a vector of your classmates' names. Use length(names).\n",
        "\n",
        "names <- c(\"Lee\", \"Hardeep\", \"Zahida\", \"Frank\")\n",
        "\n",
        "length(names)"
      ],
      "metadata": {
        "colab": {
          "base_uri": "https://localhost:8080/",
          "height": 34
        },
        "id": "0GC0OEY6dTGt",
        "outputId": "8517b528-3290-4f29-a255-a34344c55748"
      },
      "execution_count": null,
      "outputs": [
        {
          "output_type": "display_data",
          "data": {
            "text/html": [
              "4"
            ],
            "text/markdown": "4",
            "text/latex": "4",
            "text/plain": [
              "[1] 4"
            ]
          },
          "metadata": {}
        }
      ]
    },
    {
      "cell_type": "code",
      "source": [
        "# Sort a vector of your favorite colors alphabetically. Use sort(colors).\n",
        "\n",
        "fav_colours <- c(\"blue\", \"orange\", \"green\")\n",
        "\n",
        "sort(fav_colours)"
      ],
      "metadata": {
        "colab": {
          "base_uri": "https://localhost:8080/",
          "height": 34
        },
        "id": "0ISy0Lp6eF9e",
        "outputId": "1a50c120-587b-4511-c047-437f4c544222"
      },
      "execution_count": null,
      "outputs": [
        {
          "output_type": "display_data",
          "data": {
            "text/html": [
              "<style>\n",
              ".list-inline {list-style: none; margin:0; padding: 0}\n",
              ".list-inline>li {display: inline-block}\n",
              ".list-inline>li:not(:last-child)::after {content: \"\\00b7\"; padding: 0 .5ex}\n",
              "</style>\n",
              "<ol class=list-inline><li>'blue'</li><li>'green'</li><li>'orange'</li></ol>\n"
            ],
            "text/markdown": "1. 'blue'\n2. 'green'\n3. 'orange'\n\n\n",
            "text/latex": "\\begin{enumerate*}\n\\item 'blue'\n\\item 'green'\n\\item 'orange'\n\\end{enumerate*}\n",
            "text/plain": [
              "[1] \"blue\"   \"green\"  \"orange\""
            ]
          },
          "metadata": {}
        }
      ]
    },
    {
      "cell_type": "code",
      "source": [
        "# Access the second item of a vector of your hobbies. Use hobbies[2].\n",
        "hobbies <- c(\"running\", \"xbox\", \"coffee\")\n",
        "\n",
        "hobbies[2]"
      ],
      "metadata": {
        "colab": {
          "base_uri": "https://localhost:8080/",
          "height": 34
        },
        "id": "8JnrCjGjfAdX",
        "outputId": "6481f1f6-5c8e-4065-a235-173367771185"
      },
      "execution_count": null,
      "outputs": [
        {
          "output_type": "display_data",
          "data": {
            "text/html": [
              "'xbox'"
            ],
            "text/markdown": "'xbox'",
            "text/latex": "'xbox'",
            "text/plain": [
              "[1] \"xbox\""
            ]
          },
          "metadata": {}
        }
      ]
    },
    {
      "cell_type": "code",
      "source": [
        "# Change the third item of a vector of your siblings' ages to your current age. Use siblings_ages[3] <- your_age.\n",
        "\n",
        "siblings_ages <- c(11,7,9)\n",
        "\n",
        "siblings_ages[3] <- 10\n",
        "siblings_ages"
      ],
      "metadata": {
        "colab": {
          "base_uri": "https://localhost:8080/",
          "height": 34
        },
        "id": "XZ9prVMafMej",
        "outputId": "0749098d-3174-4f79-9681-5111046de6cb"
      },
      "execution_count": null,
      "outputs": [
        {
          "output_type": "display_data",
          "data": {
            "text/html": [
              "<style>\n",
              ".list-inline {list-style: none; margin:0; padding: 0}\n",
              ".list-inline>li {display: inline-block}\n",
              ".list-inline>li:not(:last-child)::after {content: \"\\00b7\"; padding: 0 .5ex}\n",
              "</style>\n",
              "<ol class=list-inline><li>11</li><li>7</li><li>10</li></ol>\n"
            ],
            "text/markdown": "1. 11\n2. 7\n3. 10\n\n\n",
            "text/latex": "\\begin{enumerate*}\n\\item 11\n\\item 7\n\\item 10\n\\end{enumerate*}\n",
            "text/plain": [
              "[1] 11  7 10"
            ]
          },
          "metadata": {}
        }
      ]
    },
    {
      "cell_type": "code",
      "source": [
        "# Repeat a vector of your favorite animals 3 times. Use rep(animals, each = 3).\n",
        "\n",
        "fav_animals <- c(\"dog\", \"guinea pig\", \"cat\")\n",
        "\n",
        "rep(fav_animals, each = 3)"
      ],
      "metadata": {
        "colab": {
          "base_uri": "https://localhost:8080/",
          "height": 34
        },
        "id": "ptopNAqIfs5i",
        "outputId": "2186b1ae-26d0-4508-98bd-78967d9a5f30"
      },
      "execution_count": null,
      "outputs": [
        {
          "output_type": "display_data",
          "data": {
            "text/html": [
              "<style>\n",
              ".list-inline {list-style: none; margin:0; padding: 0}\n",
              ".list-inline>li {display: inline-block}\n",
              ".list-inline>li:not(:last-child)::after {content: \"\\00b7\"; padding: 0 .5ex}\n",
              "</style>\n",
              "<ol class=list-inline><li>'dog'</li><li>'dog'</li><li>'dog'</li><li>'guinea pig'</li><li>'guinea pig'</li><li>'guinea pig'</li><li>'cat'</li><li>'cat'</li><li>'cat'</li></ol>\n"
            ],
            "text/markdown": "1. 'dog'\n2. 'dog'\n3. 'dog'\n4. 'guinea pig'\n5. 'guinea pig'\n6. 'guinea pig'\n7. 'cat'\n8. 'cat'\n9. 'cat'\n\n\n",
            "text/latex": "\\begin{enumerate*}\n\\item 'dog'\n\\item 'dog'\n\\item 'dog'\n\\item 'guinea pig'\n\\item 'guinea pig'\n\\item 'guinea pig'\n\\item 'cat'\n\\item 'cat'\n\\item 'cat'\n\\end{enumerate*}\n",
            "text/plain": [
              "[1] \"dog\"        \"dog\"        \"dog\"        \"guinea pig\" \"guinea pig\"\n",
              "[6] \"guinea pig\" \"cat\"        \"cat\"        \"cat\"       "
            ]
          },
          "metadata": {}
        }
      ]
    },
    {
      "cell_type": "markdown",
      "source": [
        "Level 2"
      ],
      "metadata": {
        "id": "hjpig8iagY5K"
      }
    },
    {
      "cell_type": "code",
      "source": [
        "# Create a vector containing the first letters of your friends' names. Use string manipulation (e.g., substr()).\n",
        "\n",
        "friends_names <- c(\"John\", \"Steve\", \"Sean\")\n",
        "first_letters <- substr(friends_names, 1, 1)\n",
        "print(first_letters)"
      ],
      "metadata": {
        "colab": {
          "base_uri": "https://localhost:8080/"
        },
        "id": "VlQXOibAgU_8",
        "outputId": "c8033388-84bf-4ed9-b015-d2c0ed0920a6"
      },
      "execution_count": null,
      "outputs": [
        {
          "output_type": "stream",
          "name": "stdout",
          "text": [
            "[1] \"J\" \"S\" \"S\"\n"
          ]
        }
      ]
    },
    {
      "cell_type": "code",
      "source": [
        "# Calculate the sum of all elements in a vector of your test scores. Use sum(scores).\n",
        "scores <- c(5, 6, 14, 20, 14, 16)\n",
        "sum(scores)"
      ],
      "metadata": {
        "colab": {
          "base_uri": "https://localhost:8080/",
          "height": 34
        },
        "id": "lOKYeGMOiLtQ",
        "outputId": "828a7861-395f-4aa5-9a05-3d60d6f12e81"
      },
      "execution_count": null,
      "outputs": [
        {
          "output_type": "display_data",
          "data": {
            "text/html": [
              "75"
            ],
            "text/markdown": "75",
            "text/latex": "75",
            "text/plain": [
              "[1] 75"
            ]
          },
          "metadata": {}
        }
      ]
    },
    {
      "cell_type": "code",
      "source": [
        "# Mean scores\n",
        "scores <- c(5, 6, 14, 20, 14, 16)\n",
        "mean(scores)"
      ],
      "metadata": {
        "colab": {
          "base_uri": "https://localhost:8080/",
          "height": 34
        },
        "id": "J4VvieCFifbU",
        "outputId": "5a1076da-753b-41f3-8afd-e357be730df4"
      },
      "execution_count": null,
      "outputs": [
        {
          "output_type": "display_data",
          "data": {
            "text/html": [
              "12.5"
            ],
            "text/markdown": "12.5",
            "text/latex": "12.5",
            "text/plain": [
              "[1] 12.5"
            ]
          },
          "metadata": {}
        }
      ]
    },
    {
      "cell_type": "code",
      "source": [
        "# Create a new vector containing only the even numbers from a vector of your shoe sizes.\n",
        "\n",
        "shoe_sizes <- c(5,6,7,8,9,10,11,12,13)\n",
        "\n",
        "even_sizes <- shoe_sizes[shoe_sizes %% 2 == 0]\n",
        "print(even_sizes)"
      ],
      "metadata": {
        "colab": {
          "base_uri": "https://localhost:8080/"
        },
        "id": "4e8m27Gtis_h",
        "outputId": "9b3074de-ac16-44f8-94c5-57a4e46072cb"
      },
      "execution_count": null,
      "outputs": [
        {
          "output_type": "stream",
          "name": "stdout",
          "text": [
            "[1]  6  8 10 12\n"
          ]
        }
      ]
    },
    {
      "cell_type": "code",
      "source": [
        "# Combine two vectors of your favorite foods and your friends' favorite foods into a single vector.\n",
        "\n",
        "my_foods <- c(\"Mexican\",\"Tapas\",\"Indian\")\n",
        "friends_foods <- c(\"Chocolate\",\"Pasta\",\"Cheese\")\n",
        "\n",
        "our_foods <- c(my_foods,friends_foods)\n",
        "print(our_foods)"
      ],
      "metadata": {
        "colab": {
          "base_uri": "https://localhost:8080/"
        },
        "id": "eq-dGoqYjWBh",
        "outputId": "97c481d3-a1ac-47ff-d66d-05d51850d1f2"
      },
      "execution_count": null,
      "outputs": [
        {
          "output_type": "stream",
          "name": "stdout",
          "text": [
            "[1] \"Mexican\"   \"Tapas\"     \"Indian\"    \"Chocolate\" \"Pasta\"     \"Cheese\"   \n"
          ]
        }
      ]
    },
    {
      "cell_type": "code",
      "source": [
        "# Generate a sequence of numbers starting from your birth year and ending with the current year, with steps of 2\n",
        "\n",
        "numbers <- seq(from = 1983, to = 2024, by = 2)\n",
        "numbers"
      ],
      "metadata": {
        "colab": {
          "base_uri": "https://localhost:8080/",
          "height": 34
        },
        "id": "O6kJtNUIlK6v",
        "outputId": "911f56ae-21ab-40a0-b47d-b48417728815"
      },
      "execution_count": null,
      "outputs": [
        {
          "output_type": "display_data",
          "data": {
            "text/html": [
              "<style>\n",
              ".list-inline {list-style: none; margin:0; padding: 0}\n",
              ".list-inline>li {display: inline-block}\n",
              ".list-inline>li:not(:last-child)::after {content: \"\\00b7\"; padding: 0 .5ex}\n",
              "</style>\n",
              "<ol class=list-inline><li>1983</li><li>1985</li><li>1987</li><li>1989</li><li>1991</li><li>1993</li><li>1995</li><li>1997</li><li>1999</li><li>2001</li><li>2003</li><li>2005</li><li>2007</li><li>2009</li><li>2011</li><li>2013</li><li>2015</li><li>2017</li><li>2019</li><li>2021</li><li>2023</li></ol>\n"
            ],
            "text/markdown": "1. 1983\n2. 1985\n3. 1987\n4. 1989\n5. 1991\n6. 1993\n7. 1995\n8. 1997\n9. 1999\n10. 2001\n11. 2003\n12. 2005\n13. 2007\n14. 2009\n15. 2011\n16. 2013\n17. 2015\n18. 2017\n19. 2019\n20. 2021\n21. 2023\n\n\n",
            "text/latex": "\\begin{enumerate*}\n\\item 1983\n\\item 1985\n\\item 1987\n\\item 1989\n\\item 1991\n\\item 1993\n\\item 1995\n\\item 1997\n\\item 1999\n\\item 2001\n\\item 2003\n\\item 2005\n\\item 2007\n\\item 2009\n\\item 2011\n\\item 2013\n\\item 2015\n\\item 2017\n\\item 2019\n\\item 2021\n\\item 2023\n\\end{enumerate*}\n",
            "text/plain": [
              " [1] 1983 1985 1987 1989 1991 1993 1995 1997 1999 2001 2003 2005 2007 2009 2011\n",
              "[16] 2013 2015 2017 2019 2021 2023"
            ]
          },
          "metadata": {}
        }
      ]
    },
    {
      "cell_type": "code",
      "source": [],
      "metadata": {
        "id": "lXzBLv4ou1TQ"
      },
      "execution_count": null,
      "outputs": []
    },
    {
      "cell_type": "markdown",
      "source": [
        "# **Matrices**\n",
        "\n",
        "---\n",
        "\n"
      ],
      "metadata": {
        "id": "USFWzZ2zznZN"
      }
    },
    {
      "cell_type": "code",
      "source": [
        "# Create a matrix\n",
        "thismatrix <- matrix(c(1,2,3,4,5,6), nrow = 3, ncol = 2)\n",
        "\n",
        "#print\n",
        "thismatrix"
      ],
      "metadata": {
        "colab": {
          "base_uri": "https://localhost:8080/",
          "height": 198
        },
        "id": "EoGCNnolzvEA",
        "outputId": "c82d6603-b246-4e1e-d6a4-77abe6a643d6"
      },
      "execution_count": null,
      "outputs": [
        {
          "output_type": "display_data",
          "data": {
            "text/html": [
              "<table class=\"dataframe\">\n",
              "<caption>A matrix: 3 × 2 of type dbl</caption>\n",
              "<tbody>\n",
              "\t<tr><td>1</td><td>4</td></tr>\n",
              "\t<tr><td>2</td><td>5</td></tr>\n",
              "\t<tr><td>3</td><td>6</td></tr>\n",
              "</tbody>\n",
              "</table>\n"
            ],
            "text/markdown": "\nA matrix: 3 × 2 of type dbl\n\n| 1 | 4 |\n| 2 | 5 |\n| 3 | 6 |\n\n",
            "text/latex": "A matrix: 3 × 2 of type dbl\n\\begin{tabular}{ll}\n\t 1 & 4\\\\\n\t 2 & 5\\\\\n\t 3 & 6\\\\\n\\end{tabular}\n",
            "text/plain": [
              "     [,1] [,2]\n",
              "[1,] 1    4   \n",
              "[2,] 2    5   \n",
              "[3,] 3    6   "
            ]
          },
          "metadata": {}
        }
      ]
    },
    {
      "cell_type": "code",
      "source": [
        "#Access items (row, then column - in this case 'cherry')\n",
        "thismatrix <- matrix(c(\"apple\", \"banana\", \"cherry\", \"orange\"), nrow = 2, ncol = 2)\n",
        "\n",
        "thismatrix[1, 2]"
      ],
      "metadata": {
        "colab": {
          "base_uri": "https://localhost:8080/",
          "height": 34
        },
        "id": "lPtNG-ou4WWM",
        "outputId": "2066108f-eeb4-4f85-fbb8-8f85d59c3625"
      },
      "execution_count": null,
      "outputs": [
        {
          "output_type": "display_data",
          "data": {
            "text/html": [
              "'cherry'"
            ],
            "text/markdown": "'cherry'",
            "text/latex": "'cherry'",
            "text/plain": [
              "[1] \"cherry\""
            ]
          },
          "metadata": {}
        }
      ]
    },
    {
      "cell_type": "code",
      "source": [
        "#More than one row can be accessed if you use the c() function:\n",
        "thismatrix <- matrix(c(\"apple\", \"banana\", \"cherry\", \"orange\",\"grape\", \"pineapple\", \"pear\", \"melon\", \"fig\"), nrow = 3, ncol = 3)\n",
        "\n",
        "thismatrix[c(1,2),] # Rows first"
      ],
      "metadata": {
        "colab": {
          "base_uri": "https://localhost:8080/",
          "height": 97
        },
        "id": "DPjjuMmY4ieY",
        "outputId": "fec74c97-3384-4a41-d3f1-02d362e77e75"
      },
      "execution_count": null,
      "outputs": [
        {
          "output_type": "display_data",
          "data": {
            "text/html": [
              "<table class=\"dataframe\">\n",
              "<caption>A matrix: 2 × 3 of type chr</caption>\n",
              "<tbody>\n",
              "\t<tr><td>apple </td><td>orange</td><td>pear </td></tr>\n",
              "\t<tr><td>banana</td><td>grape </td><td>melon</td></tr>\n",
              "</tbody>\n",
              "</table>\n"
            ],
            "text/markdown": "\nA matrix: 2 × 3 of type chr\n\n| apple  | orange | pear  |\n| banana | grape  | melon |\n\n",
            "text/latex": "A matrix: 2 × 3 of type chr\n\\begin{tabular}{lll}\n\t apple  & orange & pear \\\\\n\t banana & grape  & melon\\\\\n\\end{tabular}\n",
            "text/plain": [
              "     [,1]   [,2]   [,3] \n",
              "[1,] apple  orange pear \n",
              "[2,] banana grape  melon"
            ]
          },
          "metadata": {}
        }
      ]
    },
    {
      "cell_type": "code",
      "source": [
        "# More than one column can be accessed if you use the c() function:\n",
        "thismatrix <- matrix(c(\"apple\", \"banana\", \"cherry\", \"orange\",\"grape\", \"pineapple\", \"pear\", \"melon\", \"fig\"), nrow = 3, ncol = 3)\n",
        "\n",
        "thismatrix[, c(1,2)] #Rows first, hence empty space before comma"
      ],
      "metadata": {
        "colab": {
          "base_uri": "https://localhost:8080/",
          "height": 146
        },
        "id": "uOALB2_54x7m",
        "outputId": "f86268c1-910c-40f4-9194-36887c353a38"
      },
      "execution_count": null,
      "outputs": [
        {
          "output_type": "display_data",
          "data": {
            "text/html": [
              "<table class=\"dataframe\">\n",
              "<caption>A matrix: 3 × 2 of type chr</caption>\n",
              "<tbody>\n",
              "\t<tr><td>apple </td><td>orange   </td></tr>\n",
              "\t<tr><td>banana</td><td>grape    </td></tr>\n",
              "\t<tr><td>cherry</td><td>pineapple</td></tr>\n",
              "</tbody>\n",
              "</table>\n"
            ],
            "text/markdown": "\nA matrix: 3 × 2 of type chr\n\n| apple  | orange    |\n| banana | grape     |\n| cherry | pineapple |\n\n",
            "text/latex": "A matrix: 3 × 2 of type chr\n\\begin{tabular}{ll}\n\t apple  & orange   \\\\\n\t banana & grape    \\\\\n\t cherry & pineapple\\\\\n\\end{tabular}\n",
            "text/plain": [
              "     [,1]   [,2]     \n",
              "[1,] apple  orange   \n",
              "[2,] banana grape    \n",
              "[3,] cherry pineapple"
            ]
          },
          "metadata": {}
        }
      ]
    },
    {
      "cell_type": "code",
      "source": [
        "# use cbind() to add columns\n",
        "thismatrix <- matrix(c(\"apple\", \"banana\", \"cherry\", \"orange\",\"grape\", \"pineapple\", \"pear\", \"melon\", \"fig\"), nrow = 3, ncol = 3)\n",
        "\n",
        "# adds three new add new column with entries in the brackets\n",
        "newmatrix <- cbind(thismatrix, c(\"strawberry\", \"blueberry\", \"raspberry\"))\n",
        "\n",
        "# Print the new matrix\n",
        "newmatrix"
      ],
      "metadata": {
        "colab": {
          "base_uri": "https://localhost:8080/",
          "height": 165
        },
        "id": "38MOOAJu5iXr",
        "outputId": "c84a8306-fde9-4b7e-d56e-a945aee1e8c1"
      },
      "execution_count": null,
      "outputs": [
        {
          "output_type": "stream",
          "name": "stderr",
          "text": [
            "Warning message in cbind(thismatrix, c(\"strawberry\", \"raspberry\")):\n",
            "“number of rows of result is not a multiple of vector length (arg 2)”\n"
          ]
        },
        {
          "output_type": "display_data",
          "data": {
            "text/html": [
              "<table class=\"dataframe\">\n",
              "<caption>A matrix: 3 × 4 of type chr</caption>\n",
              "<tbody>\n",
              "\t<tr><td>apple </td><td>orange   </td><td>pear </td><td>strawberry</td></tr>\n",
              "\t<tr><td>banana</td><td>grape    </td><td>melon</td><td>raspberry </td></tr>\n",
              "\t<tr><td>cherry</td><td>pineapple</td><td>fig  </td><td>strawberry</td></tr>\n",
              "</tbody>\n",
              "</table>\n"
            ],
            "text/markdown": "\nA matrix: 3 × 4 of type chr\n\n| apple  | orange    | pear  | strawberry |\n| banana | grape     | melon | raspberry  |\n| cherry | pineapple | fig   | strawberry |\n\n",
            "text/latex": "A matrix: 3 × 4 of type chr\n\\begin{tabular}{llll}\n\t apple  & orange    & pear  & strawberry\\\\\n\t banana & grape     & melon & raspberry \\\\\n\t cherry & pineapple & fig   & strawberry\\\\\n\\end{tabular}\n",
            "text/plain": [
              "     [,1]   [,2]      [,3]  [,4]      \n",
              "[1,] apple  orange    pear  strawberry\n",
              "[2,] banana grape     melon raspberry \n",
              "[3,] cherry pineapple fig   strawberry"
            ]
          },
          "metadata": {}
        }
      ]
    },
    {
      "cell_type": "markdown",
      "source": [
        "# **DataFrames**\n",
        "\n",
        "---\n",
        "\n"
      ],
      "metadata": {
        "id": "8hLpPa2g6_He"
      }
    },
    {
      "cell_type": "markdown",
      "source": [
        "Creating a Data Frame (Data_Frame):\n",
        "\n",
        "We create a data frame called Data_Frame.\n",
        "The data frame has three columns:\n",
        "Training: Contains the values \"Strength\", \"Stamina\", and \"Other\".\n",
        "Pulse: Contains the numeric values 100, 150, and 120.\n",
        "Duration: Contains the numeric values 60, 30, and 45.\n",
        "Printing the Data Frame:\n",
        "\n",
        "The Data_Frame is printed to the console.\n",
        "\n",
        "The output will display the data frame with column names and corresponding values:\n",
        "\n",
        "  Training Pulse Duration\n",
        "1 Strength   100       60\n",
        "2  Stamina   150       30\n",
        "3    Other   120       45"
      ],
      "metadata": {
        "id": "19TxTt1h7cdG"
      }
    },
    {
      "cell_type": "code",
      "source": [
        "# Create a data frame called \"Data_Frame\"\n",
        "Data_Frame <- data.frame(\n",
        "  Training = c(\"Strength\", \"Stamina\", \"Other\"),\n",
        "  Pulse = c(100, 150, 120),\n",
        "  Duration = c(60, 30, 45)\n",
        ")\n",
        "\n",
        "# Print the data frame\n",
        "Data_Frame"
      ],
      "metadata": {
        "colab": {
          "base_uri": "https://localhost:8080/",
          "height": 192
        },
        "id": "Q_iLEkav7Eqb",
        "outputId": "c86ce393-c425-4e75-8ea6-bf8d5cbb5999"
      },
      "execution_count": null,
      "outputs": [
        {
          "output_type": "display_data",
          "data": {
            "text/html": [
              "<table class=\"dataframe\">\n",
              "<caption>A data.frame: 3 × 3</caption>\n",
              "<thead>\n",
              "\t<tr><th scope=col>Training</th><th scope=col>Pulse</th><th scope=col>Duration</th></tr>\n",
              "\t<tr><th scope=col>&lt;chr&gt;</th><th scope=col>&lt;dbl&gt;</th><th scope=col>&lt;dbl&gt;</th></tr>\n",
              "</thead>\n",
              "<tbody>\n",
              "\t<tr><td>Strength</td><td>100</td><td>60</td></tr>\n",
              "\t<tr><td>Stamina </td><td>150</td><td>30</td></tr>\n",
              "\t<tr><td>Other   </td><td>120</td><td>45</td></tr>\n",
              "</tbody>\n",
              "</table>\n"
            ],
            "text/markdown": "\nA data.frame: 3 × 3\n\n| Training &lt;chr&gt; | Pulse &lt;dbl&gt; | Duration &lt;dbl&gt; |\n|---|---|---|\n| Strength | 100 | 60 |\n| Stamina  | 150 | 30 |\n| Other    | 120 | 45 |\n\n",
            "text/latex": "A data.frame: 3 × 3\n\\begin{tabular}{lll}\n Training & Pulse & Duration\\\\\n <chr> & <dbl> & <dbl>\\\\\n\\hline\n\t Strength & 100 & 60\\\\\n\t Stamina  & 150 & 30\\\\\n\t Other    & 120 & 45\\\\\n\\end{tabular}\n",
            "text/plain": [
              "  Training Pulse Duration\n",
              "1 Strength 100   60      \n",
              "2 Stamina  150   30      \n",
              "3 Other    120   45      "
            ]
          },
          "metadata": {}
        }
      ]
    },
    {
      "cell_type": "code",
      "source": [
        "# Create a data frame called \"Data_Frame\"\n",
        "Data_Frame <- data.frame(\n",
        "  Training = c(\"Strength\", \"Stamina\", \"Other\"),\n",
        "  Pulse = c(100, 150, 120),\n",
        "  Duration = c(60, 30, 45)\n",
        ")\n",
        "\n",
        "# Print the data frame\n",
        "Data_Frame"
      ],
      "metadata": {
        "colab": {
          "base_uri": "https://localhost:8080/",
          "height": 192
        },
        "id": "-i10QoZe7d9f",
        "outputId": "7b0a94fc-dc85-427b-9773-85e690160701"
      },
      "execution_count": null,
      "outputs": [
        {
          "output_type": "display_data",
          "data": {
            "text/html": [
              "<table class=\"dataframe\">\n",
              "<caption>A data.frame: 3 × 3</caption>\n",
              "<thead>\n",
              "\t<tr><th scope=col>Training</th><th scope=col>Pulse</th><th scope=col>Duration</th></tr>\n",
              "\t<tr><th scope=col>&lt;chr&gt;</th><th scope=col>&lt;dbl&gt;</th><th scope=col>&lt;dbl&gt;</th></tr>\n",
              "</thead>\n",
              "<tbody>\n",
              "\t<tr><td>Strength</td><td>100</td><td>60</td></tr>\n",
              "\t<tr><td>Stamina </td><td>150</td><td>30</td></tr>\n",
              "\t<tr><td>Other   </td><td>120</td><td>45</td></tr>\n",
              "</tbody>\n",
              "</table>\n"
            ],
            "text/markdown": "\nA data.frame: 3 × 3\n\n| Training &lt;chr&gt; | Pulse &lt;dbl&gt; | Duration &lt;dbl&gt; |\n|---|---|---|\n| Strength | 100 | 60 |\n| Stamina  | 150 | 30 |\n| Other    | 120 | 45 |\n\n",
            "text/latex": "A data.frame: 3 × 3\n\\begin{tabular}{lll}\n Training & Pulse & Duration\\\\\n <chr> & <dbl> & <dbl>\\\\\n\\hline\n\t Strength & 100 & 60\\\\\n\t Stamina  & 150 & 30\\\\\n\t Other    & 120 & 45\\\\\n\\end{tabular}\n",
            "text/plain": [
              "  Training Pulse Duration\n",
              "1 Strength 100   60      \n",
              "2 Stamina  150   30      \n",
              "3 Other    120   45      "
            ]
          },
          "metadata": {}
        }
      ]
    },
    {
      "cell_type": "code",
      "source": [
        "#Access first column - gives summary of column\n",
        "Data_Frame[\"Training\"]"
      ],
      "metadata": {
        "colab": {
          "base_uri": "https://localhost:8080/",
          "height": 227
        },
        "id": "-GfZOGml8JQx",
        "outputId": "09d7a0c3-2ede-418f-d356-23930a787683"
      },
      "execution_count": null,
      "outputs": [
        {
          "output_type": "display_data",
          "data": {
            "text/html": [
              "<table class=\"dataframe\">\n",
              "<caption>A data.frame: 3 × 1</caption>\n",
              "<thead>\n",
              "\t<tr><th scope=col>Training</th></tr>\n",
              "\t<tr><th scope=col>&lt;chr&gt;</th></tr>\n",
              "</thead>\n",
              "<tbody>\n",
              "\t<tr><td>Strength</td></tr>\n",
              "\t<tr><td>Stamina </td></tr>\n",
              "\t<tr><td>Other   </td></tr>\n",
              "</tbody>\n",
              "</table>\n"
            ],
            "text/markdown": "\nA data.frame: 3 × 1\n\n| Training &lt;chr&gt; |\n|---|\n| Strength |\n| Stamina  |\n| Other    |\n\n",
            "text/latex": "A data.frame: 3 × 1\n\\begin{tabular}{l}\n Training\\\\\n <chr>\\\\\n\\hline\n\t Strength\\\\\n\t Stamina \\\\\n\t Other   \\\\\n\\end{tabular}\n",
            "text/plain": [
              "  Training\n",
              "1 Strength\n",
              "2 Stamina \n",
              "3 Other   "
            ]
          },
          "metadata": {}
        }
      ]
    },
    {
      "cell_type": "code",
      "source": [
        "#Access first column #note double []\n",
        "Data_Frame[[\"Training\"]]\n",
        "# or\n",
        "Data_Frame$Training"
      ],
      "metadata": {
        "colab": {
          "base_uri": "https://localhost:8080/",
          "height": 52
        },
        "id": "AvfyQh5b8Hfu",
        "outputId": "ce990651-36e2-420f-d3af-b28e883f11d9"
      },
      "execution_count": null,
      "outputs": [
        {
          "output_type": "display_data",
          "data": {
            "text/html": [
              "<style>\n",
              ".list-inline {list-style: none; margin:0; padding: 0}\n",
              ".list-inline>li {display: inline-block}\n",
              ".list-inline>li:not(:last-child)::after {content: \"\\00b7\"; padding: 0 .5ex}\n",
              "</style>\n",
              "<ol class=list-inline><li>'Strength'</li><li>'Stamina'</li><li>'Other'</li></ol>\n"
            ],
            "text/markdown": "1. 'Strength'\n2. 'Stamina'\n3. 'Other'\n\n\n",
            "text/latex": "\\begin{enumerate*}\n\\item 'Strength'\n\\item 'Stamina'\n\\item 'Other'\n\\end{enumerate*}\n",
            "text/plain": [
              "[1] \"Strength\" \"Stamina\"  \"Other\"   "
            ]
          },
          "metadata": {}
        },
        {
          "output_type": "display_data",
          "data": {
            "text/html": [
              "<style>\n",
              ".list-inline {list-style: none; margin:0; padding: 0}\n",
              ".list-inline>li {display: inline-block}\n",
              ".list-inline>li:not(:last-child)::after {content: \"\\00b7\"; padding: 0 .5ex}\n",
              "</style>\n",
              "<ol class=list-inline><li>'Strength'</li><li>'Stamina'</li><li>'Other'</li></ol>\n"
            ],
            "text/markdown": "1. 'Strength'\n2. 'Stamina'\n3. 'Other'\n\n\n",
            "text/latex": "\\begin{enumerate*}\n\\item 'Strength'\n\\item 'Stamina'\n\\item 'Other'\n\\end{enumerate*}\n",
            "text/plain": [
              "[1] \"Strength\" \"Stamina\"  \"Other\"   "
            ]
          },
          "metadata": {}
        }
      ]
    },
    {
      "cell_type": "code",
      "source": [
        "#Summary\n",
        "summary(Data_Frame)"
      ],
      "metadata": {
        "colab": {
          "base_uri": "https://localhost:8080/",
          "height": 145
        },
        "id": "DQgsAfhj8ZgR",
        "outputId": "57ef6a78-698c-4157-fbf1-0b8dde7c472e"
      },
      "execution_count": null,
      "outputs": [
        {
          "output_type": "display_data",
          "data": {
            "text/plain": [
              "   Training             Pulse          Duration   \n",
              " Length:3           Min.   :100.0   Min.   :30.0  \n",
              " Class :character   1st Qu.:110.0   1st Qu.:37.5  \n",
              " Mode  :character   Median :120.0   Median :45.0  \n",
              "                    Mean   :123.3   Mean   :45.0  \n",
              "                    3rd Qu.:135.0   3rd Qu.:52.5  \n",
              "                    Max.   :150.0   Max.   :60.0  "
            ]
          },
          "metadata": {}
        }
      ]
    },
    {
      "cell_type": "code",
      "source": [
        "#Add rows using rbind()\n",
        "# Create a data frame called \"Data_Frame\"\n",
        "Data_Frame <- data.frame(\n",
        "  Training = c(\"Strength\", \"Stamina\", \"Other\"),  # Create a column named \"Training\" with character values\n",
        "  Pulse = c(100, 150, 120),                      # Create a column named \"Pulse\" with numeric values\n",
        "  Duration = c(60, 30, 45)                       # Create a column named \"Duration\" with numeric values\n",
        ")\n",
        "\n",
        "# Add a new row to the data frame\n",
        "New_row_DF <- rbind(Data_Frame, c(\"Cardio\", 150, 60))\n",
        "# The new row contains values \"Strength\", 110, and 110 for the columns \"Training\", \"Pulse\", and \"Duration\", respectively.\n",
        "\n",
        "# Print the new data frame with the added row\n",
        "New_row_DF"
      ],
      "metadata": {
        "colab": {
          "base_uri": "https://localhost:8080/",
          "height": 223
        },
        "id": "Sf4SFOH68tkt",
        "outputId": "0e6552f2-bfa3-423d-faf5-936cd7c5a4b1"
      },
      "execution_count": null,
      "outputs": [
        {
          "output_type": "display_data",
          "data": {
            "text/html": [
              "<table class=\"dataframe\">\n",
              "<caption>A data.frame: 4 × 3</caption>\n",
              "<thead>\n",
              "\t<tr><th scope=col>Training</th><th scope=col>Pulse</th><th scope=col>Duration</th></tr>\n",
              "\t<tr><th scope=col>&lt;chr&gt;</th><th scope=col>&lt;chr&gt;</th><th scope=col>&lt;chr&gt;</th></tr>\n",
              "</thead>\n",
              "<tbody>\n",
              "\t<tr><td>Strength</td><td>100</td><td>60</td></tr>\n",
              "\t<tr><td>Stamina </td><td>150</td><td>30</td></tr>\n",
              "\t<tr><td>Other   </td><td>120</td><td>45</td></tr>\n",
              "\t<tr><td>Cardio  </td><td>150</td><td>60</td></tr>\n",
              "</tbody>\n",
              "</table>\n"
            ],
            "text/markdown": "\nA data.frame: 4 × 3\n\n| Training &lt;chr&gt; | Pulse &lt;chr&gt; | Duration &lt;chr&gt; |\n|---|---|---|\n| Strength | 100 | 60 |\n| Stamina  | 150 | 30 |\n| Other    | 120 | 45 |\n| Cardio   | 150 | 60 |\n\n",
            "text/latex": "A data.frame: 4 × 3\n\\begin{tabular}{lll}\n Training & Pulse & Duration\\\\\n <chr> & <chr> & <chr>\\\\\n\\hline\n\t Strength & 100 & 60\\\\\n\t Stamina  & 150 & 30\\\\\n\t Other    & 120 & 45\\\\\n\t Cardio   & 150 & 60\\\\\n\\end{tabular}\n",
            "text/plain": [
              "  Training Pulse Duration\n",
              "1 Strength 100   60      \n",
              "2 Stamina  150   30      \n",
              "3 Other    120   45      \n",
              "4 Cardio   150   60      "
            ]
          },
          "metadata": {}
        }
      ]
    },
    {
      "cell_type": "code",
      "source": [
        "plot(Data_Frame)"
      ],
      "metadata": {
        "colab": {
          "base_uri": "https://localhost:8080/",
          "height": 437
        },
        "id": "nxq8xntUAlGp",
        "outputId": "d95e9862-eeac-456e-e6a0-9c4aff28f2b6"
      },
      "execution_count": null,
      "outputs": [
        {
          "output_type": "display_data",
          "data": {
            "text/plain": [
              "plot without title"
            ],
            "image/png": "[encoded data removed]"
          },
          "metadata": {
            "image/png": {
              "width": 420,
              "height": 420
            }
          }
        }
      ]
    },
    {
      "cell_type": "markdown",
      "source": [
        "# **Graphs & Visualisations**\n",
        "\n",
        "---\n",
        "\n"
      ],
      "metadata": {
        "id": "nEQmGEiTA-aa"
      }
    },
    {
      "cell_type": "code",
      "source": [
        "# Create a simple scatter plot with a single point at coordinates (1, 3)\n",
        "plot(1, 3)\n",
        "# x axis first, then y axis\n"
      ],
      "metadata": {
        "colab": {
          "base_uri": "https://localhost:8080/",
          "height": 437
        },
        "id": "W8zFhu3RBLjU",
        "outputId": "2f462fd0-9834-4af0-e34d-7e3dcfebc087"
      },
      "execution_count": null,
      "outputs": [
        {
          "output_type": "display_data",
          "data": {
            "text/plain": [
              "plot without title"
            ],
            "image/png": "[encoded data removed]"
          },
          "metadata": {
            "image/png": {
              "width": 420,
              "height": 420
            }
          }
        }
      ]
    },
    {
      "cell_type": "code",
      "source": [
        "# Create a scatter plot with two points\n",
        "# The first point has coordinates (1, 3)\n",
        "# The second point has coordinates (8, 10)\n",
        "plot(c(1, 8), c(3, 10))"
      ],
      "metadata": {
        "colab": {
          "base_uri": "https://localhost:8080/",
          "height": 437
        },
        "id": "U4C2a6IrBtHT",
        "outputId": "275f53f1-0a40-4d25-8abb-e11fd795b61b"
      },
      "execution_count": null,
      "outputs": [
        {
          "output_type": "display_data",
          "data": {
            "text/plain": [
              "plot without title"
            ],
            "image/png": "[encoded data removed]"
          },
          "metadata": {
            "image/png": {
              "width": 420,
              "height": 420
            }
          }
        }
      ]
    },
    {
      "cell_type": "code",
      "source": [
        "# Create a scatter plot with two points\n",
        "# The first point has coordinates (1, 3)\n",
        "# The second point has coordinates (2, 7)\n",
        "# The third point has coordinates (3, 8)\n",
        "# The fourth point has coordinates (4, 9)\n",
        "# The fifth point has coordinates (5, 12)\n",
        "plot(c(1, 2, 3, 4, 5), c(3, 7, 8, 9, 12))"
      ],
      "metadata": {
        "colab": {
          "base_uri": "https://localhost:8080/",
          "height": 437
        },
        "id": "pPExd52ZB3hc",
        "outputId": "b6592182-119f-4617-a863-ed9d024afb17"
      },
      "execution_count": null,
      "outputs": [
        {
          "output_type": "display_data",
          "data": {
            "text/plain": [
              "plot without title"
            ],
            "image/png": "[encoded data removed]"
          },
          "metadata": {
            "image/png": {
              "width": 420,
              "height": 420
            }
          }
        }
      ]
    },
    {
      "cell_type": "code",
      "source": [
        "# add a (l)ine\n",
        "plot(1:10, type=\"l\")"
      ],
      "metadata": {
        "colab": {
          "base_uri": "https://localhost:8080/",
          "height": 437
        },
        "id": "kbBN_rXjCCv2",
        "outputId": "5e3145e5-770c-4942-a82f-1f0df596111e"
      },
      "execution_count": null,
      "outputs": [
        {
          "output_type": "display_data",
          "data": {
            "text/plain": [
              "plot without title"
            ],
            "image/png": "[encoded data removed]"
          },
          "metadata": {
            "image/png": {
              "width": 420,
              "height": 420
            }
          }
        }
      ]
    },
    {
      "cell_type": "code",
      "source": [
        "# Create a scatter plot with x-coordinates ranging from 1 to 10\n",
        "# Customize the plot title, x-axis label, and y-axis label\n",
        "\n",
        "# with colour\n",
        "# with larger points (x1.5)\n",
        "\n",
        "plot(1:10, c(8, 8, 6, 7, 2, 2, 2, 2, 6, 7), type=\"l\", col=\"blue\", cex=1.5, main=\"Lee's Bootcamp so far\", xlab=\"Weeks\", ylab=\"Understanding (out of 10)\")"
      ],
      "metadata": {
        "colab": {
          "base_uri": "https://localhost:8080/",
          "height": 437
        },
        "id": "e7MZ3VwoCa4M",
        "outputId": "3dee6c84-4bcc-4074-f4c0-39d1991285f2"
      },
      "execution_count": null,
      "outputs": [
        {
          "output_type": "display_data",
          "data": {
            "text/plain": [
              "Plot with title “Lee's Bootcamp so far”"
            ],
            "image/png": "[encoded data removed]"
          },
          "metadata": {
            "image/png": {
              "width": 420,
              "height": 420
            }
          }
        }
      ]
    },
    {
      "cell_type": "code",
      "source": [
        "# Create a scatter plot with x-coordinates ranging from 1 to 10\n",
        "# Customize the plot title, x-axis label, and y-axis label\n",
        "\n",
        "# with colour\n",
        "# with larger points (x1.5)\n",
        "\n",
        "plot(1:10, c(8, 8, 6, 7, 2, 2, 2, 2, 6, 7), type=\"l\", col=\"blue\", cex=1.5, main=\"Lee's Bootcamp so far\", xlab=\"Weeks\", ylab=\"Understanding (out of 10)\")"
      ],
      "metadata": {
        "colab": {
          "base_uri": "https://localhost:8080/",
          "height": 437
        },
        "id": "tNQMvYTdV6mv",
        "outputId": "0674870f-9a9c-4a4c-d6bd-8cf446f88bb9"
      },
      "execution_count": null,
      "outputs": [
        {
          "output_type": "display_data",
          "data": {
            "text/plain": [
              "Plot with title “Lee's Bootcamp so far”"
            ],
            "image/png": "[encoded data removed]"
          },
          "metadata": {
            "image/png": {
              "width": 420,
              "height": 420
            }
          }
        }
      ]
    },
    {
      "cell_type": "code",
      "source": [
        "# Step 1: Create data (replace with your desired temperatures)\n",
        "Understanding <- c(8, 8, 6, 7, 2, 2, 2, 2, 6, 7)\n",
        "Cups_of_tea_drunk_by_Nick <- (1:10)\n",
        "\n",
        "# Step 2: Plot multiple lines and customize\n",
        "plot(Understanding, type = \"l\", col = \"blue\", lwd = 1.5, main = \"Bootcamp so far\",\n",
        "     xlab = \"Weeks\", ylab = \"Understanding/Tea\")\n",
        "lines(Cups_of_tea_drunk_by_Nick, type = \"b\", col = \"red\", lwd = 1.5, lty = 2)  # Dashed line for city 2\n",
        "legend(\"topright\", c(\"Understanding\", \"Tea & cake consumed by Nick\"), col = c(\"blue\", \"red\"), lty = c(1, 2))\n",
        "\n",
        "# Step 3: Challenge (experiment with lty and lwd)\n",
        "# You can try different line style values (0-6) and width values (e.g., lwd = 2)\n",
        "\n",
        "# Additional customization (optional)\n",
        "grid(TRUE)  # Add gridlines for better readability"
      ],
      "metadata": {
        "colab": {
          "base_uri": "https://localhost:8080/",
          "height": 437
        },
        "id": "BRo--bnyX_Nr",
        "outputId": "3ba9cd2a-9e28-4de3-8a52-55408e9a649c"
      },
      "execution_count": null,
      "outputs": [
        {
          "output_type": "display_data",
          "data": {
            "text/plain": [
              "Plot with title “Bootcamp so far”"
            ],
            "image/png": "[encoded data removed]"
          },
          "metadata": {
            "image/png": {
              "width": 420,
              "height": 420
            }
          }
        }
      ]
    },
    {
      "cell_type": "markdown",
      "source": [
        "**Bar charts**"
      ],
      "metadata": {
        "id": "yKSu0Rpyc46A"
      }
    },
    {
      "cell_type": "code",
      "source": [
        "# Example R code: Creating a bar plot\n",
        "\n",
        "# Create a vector of x-axis labels\n",
        "x <- c(\"Excel\", \"Tableau\", \"SQL\", \"Python\", \"Pandas\", \"Azure\", \"PowerBI\", \"R\")\n",
        "\n",
        "# Create a vector of y-axis values\n",
        "y <- c(8, 0, 3, 3, 4, 3, 7, 6)\n",
        "\n",
        "# Display the bar plot using the barplot() function, names.arg specifies lables for x axis\n",
        "barplot(y, names.arg = x, col=\"blue\")"
      ],
      "metadata": {
        "colab": {
          "base_uri": "https://localhost:8080/",
          "height": 437
        },
        "id": "Byav5hg0cxUa",
        "outputId": "7c837018-eb6b-409c-f5b0-f73f53db2be7"
      },
      "execution_count": null,
      "outputs": [
        {
          "output_type": "display_data",
          "data": {
            "text/plain": [
              "plot without title"
            ],
            "image/png": "[encoded data removed]"
          },
          "metadata": {
            "image/png": {
              "width": 420,
              "height": 420
            }
          }
        }
      ]
    },
    {
      "cell_type": "markdown",
      "source": [
        "**Pie Charts**"
      ],
      "metadata": {
        "id": "H7mgPqUFeYRS"
      }
    },
    {
      "cell_type": "code",
      "source": [
        "# Example R code: Creating a pie chart\n",
        "# We'll use the pie() function to create a simple pie chart\n",
        "\n",
        "# Create a vector of values representing the sizes of pie slices\n",
        "x <- c(2, 98)\n",
        "\n",
        "# labels vector\n",
        "my_labels <- c(\"Yes, but in yellow\", \"Yes\")\n",
        "\n",
        "#set colours\n",
        "colors <- c(\"yellow\", \"blue\")\n",
        "\n",
        "# Display the pie chart using the pie() function\n",
        "pie(x, label = my_labels, main = \"Have I learnt something today?\", init.angle = 270, col = colors)\n"
      ],
      "metadata": {
        "colab": {
          "base_uri": "https://localhost:8080/",
          "height": 437
        },
        "id": "RjlpoEYEeWVD",
        "outputId": "57fb2c90-6755-4289-fd43-62eb526db479"
      },
      "execution_count": null,
      "outputs": [
        {
          "output_type": "display_data",
          "data": {
            "text/plain": [
              "Plot with title “Have I learnt something today?”"
            ],
            "image/png": "[encoded data removed]"
          },
          "metadata": {
            "image/png": {
              "width": 420,
              "height": 420
            }
          }
        }
      ]
    },
    {
      "cell_type": "markdown",
      "source": [
        "# **Statistics**\n",
        "\n",
        "---\n",
        "\n"
      ],
      "metadata": {
        "id": "L4Htaeb9AgjB"
      }
    },
    {
      "cell_type": "code",
      "source": [
        "mtcars"
      ],
      "metadata": {
        "colab": {
          "base_uri": "https://localhost:8080/",
          "height": 1000
        },
        "id": "WUv-6xrsAmXc",
        "outputId": "06cfab18-0c98-44e2-e2ea-238366e89c56"
      },
      "execution_count": null,
      "outputs": [
        {
          "output_type": "display_data",
          "data": {
            "text/html": [
              "<table class=\"dataframe\">\n",
              "<caption>A data.frame: 32 × 11</caption>\n",
              "<thead>\n",
              "\t<tr><th></th><th scope=col>mpg</th><th scope=col>cyl</th><th scope=col>disp</th><th scope=col>hp</th><th scope=col>drat</th><th scope=col>wt</th><th scope=col>qsec</th><th scope=col>vs</th><th scope=col>am</th><th scope=col>gear</th><th scope=col>carb</th></tr>\n",
              "\t<tr><th></th><th scope=col>&lt;dbl&gt;</th><th scope=col>&lt;dbl&gt;</th><th scope=col>&lt;dbl&gt;</th><th scope=col>&lt;dbl&gt;</th><th scope=col>&lt;dbl&gt;</th><th scope=col>&lt;dbl&gt;</th><th scope=col>&lt;dbl&gt;</th><th scope=col>&lt;dbl&gt;</th><th scope=col>&lt;dbl&gt;</th><th scope=col>&lt;dbl&gt;</th><th scope=col>&lt;dbl&gt;</th></tr>\n",
              "</thead>\n",
              "<tbody>\n",
              "\t<tr><th scope=row>Mazda RX4</th><td>21.0</td><td>6</td><td>160.0</td><td>110</td><td>3.90</td><td>2.620</td><td>16.46</td><td>0</td><td>1</td><td>4</td><td>4</td></tr>\n",
              "\t<tr><th scope=row>Mazda RX4 Wag</th><td>21.0</td><td>6</td><td>160.0</td><td>110</td><td>3.90</td><td>2.875</td><td>17.02</td><td>0</td><td>1</td><td>4</td><td>4</td></tr>\n",
              "\t<tr><th scope=row>Datsun 710</th><td>22.8</td><td>4</td><td>108.0</td><td> 93</td><td>3.85</td><td>2.320</td><td>18.61</td><td>1</td><td>1</td><td>4</td><td>1</td></tr>\n",
              "\t<tr><th scope=row>Hornet 4 Drive</th><td>21.4</td><td>6</td><td>258.0</td><td>110</td><td>3.08</td><td>3.215</td><td>19.44</td><td>1</td><td>0</td><td>3</td><td>1</td></tr>\n",
              "\t<tr><th scope=row>Hornet Sportabout</th><td>18.7</td><td>8</td><td>360.0</td><td>175</td><td>3.15</td><td>3.440</td><td>17.02</td><td>0</td><td>0</td><td>3</td><td>2</td></tr>\n",
              "\t<tr><th scope=row>Valiant</th><td>18.1</td><td>6</td><td>225.0</td><td>105</td><td>2.76</td><td>3.460</td><td>20.22</td><td>1</td><td>0</td><td>3</td><td>1</td></tr>\n",
              "\t<tr><th scope=row>Duster 360</th><td>14.3</td><td>8</td><td>360.0</td><td>245</td><td>3.21</td><td>3.570</td><td>15.84</td><td>0</td><td>0</td><td>3</td><td>4</td></tr>\n",
              "\t<tr><th scope=row>Merc 240D</th><td>24.4</td><td>4</td><td>146.7</td><td> 62</td><td>3.69</td><td>3.190</td><td>20.00</td><td>1</td><td>0</td><td>4</td><td>2</td></tr>\n",
              "\t<tr><th scope=row>Merc 230</th><td>22.8</td><td>4</td><td>140.8</td><td> 95</td><td>3.92</td><td>3.150</td><td>22.90</td><td>1</td><td>0</td><td>4</td><td>2</td></tr>\n",
              "\t<tr><th scope=row>Merc 280</th><td>19.2</td><td>6</td><td>167.6</td><td>123</td><td>3.92</td><td>3.440</td><td>18.30</td><td>1</td><td>0</td><td>4</td><td>4</td></tr>\n",
              "\t<tr><th scope=row>Merc 280C</th><td>17.8</td><td>6</td><td>167.6</td><td>123</td><td>3.92</td><td>3.440</td><td>18.90</td><td>1</td><td>0</td><td>4</td><td>4</td></tr>\n",
              "\t<tr><th scope=row>Merc 450SE</th><td>16.4</td><td>8</td><td>275.8</td><td>180</td><td>3.07</td><td>4.070</td><td>17.40</td><td>0</td><td>0</td><td>3</td><td>3</td></tr>\n",
              "\t<tr><th scope=row>Merc 450SL</th><td>17.3</td><td>8</td><td>275.8</td><td>180</td><td>3.07</td><td>3.730</td><td>17.60</td><td>0</td><td>0</td><td>3</td><td>3</td></tr>\n",
              "\t<tr><th scope=row>Merc 450SLC</th><td>15.2</td><td>8</td><td>275.8</td><td>180</td><td>3.07</td><td>3.780</td><td>18.00</td><td>0</td><td>0</td><td>3</td><td>3</td></tr>\n",
              "\t<tr><th scope=row>Cadillac Fleetwood</th><td>10.4</td><td>8</td><td>472.0</td><td>205</td><td>2.93</td><td>5.250</td><td>17.98</td><td>0</td><td>0</td><td>3</td><td>4</td></tr>\n",
              "\t<tr><th scope=row>Lincoln Continental</th><td>10.4</td><td>8</td><td>460.0</td><td>215</td><td>3.00</td><td>5.424</td><td>17.82</td><td>0</td><td>0</td><td>3</td><td>4</td></tr>\n",
              "\t<tr><th scope=row>Chrysler Imperial</th><td>14.7</td><td>8</td><td>440.0</td><td>230</td><td>3.23</td><td>5.345</td><td>17.42</td><td>0</td><td>0</td><td>3</td><td>4</td></tr>\n",
              "\t<tr><th scope=row>Fiat 128</th><td>32.4</td><td>4</td><td> 78.7</td><td> 66</td><td>4.08</td><td>2.200</td><td>19.47</td><td>1</td><td>1</td><td>4</td><td>1</td></tr>\n",
              "\t<tr><th scope=row>Honda Civic</th><td>30.4</td><td>4</td><td> 75.7</td><td> 52</td><td>4.93</td><td>1.615</td><td>18.52</td><td>1</td><td>1</td><td>4</td><td>2</td></tr>\n",
              "\t<tr><th scope=row>Toyota Corolla</th><td>33.9</td><td>4</td><td> 71.1</td><td> 65</td><td>4.22</td><td>1.835</td><td>19.90</td><td>1</td><td>1</td><td>4</td><td>1</td></tr>\n",
              "\t<tr><th scope=row>Toyota Corona</th><td>21.5</td><td>4</td><td>120.1</td><td> 97</td><td>3.70</td><td>2.465</td><td>20.01</td><td>1</td><td>0</td><td>3</td><td>1</td></tr>\n",
              "\t<tr><th scope=row>Dodge Challenger</th><td>15.5</td><td>8</td><td>318.0</td><td>150</td><td>2.76</td><td>3.520</td><td>16.87</td><td>0</td><td>0</td><td>3</td><td>2</td></tr>\n",
              "\t<tr><th scope=row>AMC Javelin</th><td>15.2</td><td>8</td><td>304.0</td><td>150</td><td>3.15</td><td>3.435</td><td>17.30</td><td>0</td><td>0</td><td>3</td><td>2</td></tr>\n",
              "\t<tr><th scope=row>Camaro Z28</th><td>13.3</td><td>8</td><td>350.0</td><td>245</td><td>3.73</td><td>3.840</td><td>15.41</td><td>0</td><td>0</td><td>3</td><td>4</td></tr>\n",
              "\t<tr><th scope=row>Pontiac Firebird</th><td>19.2</td><td>8</td><td>400.0</td><td>175</td><td>3.08</td><td>3.845</td><td>17.05</td><td>0</td><td>0</td><td>3</td><td>2</td></tr>\n",
              "\t<tr><th scope=row>Fiat X1-9</th><td>27.3</td><td>4</td><td> 79.0</td><td> 66</td><td>4.08</td><td>1.935</td><td>18.90</td><td>1</td><td>1</td><td>4</td><td>1</td></tr>\n",
              "\t<tr><th scope=row>Porsche 914-2</th><td>26.0</td><td>4</td><td>120.3</td><td> 91</td><td>4.43</td><td>2.140</td><td>16.70</td><td>0</td><td>1</td><td>5</td><td>2</td></tr>\n",
              "\t<tr><th scope=row>Lotus Europa</th><td>30.4</td><td>4</td><td> 95.1</td><td>113</td><td>3.77</td><td>1.513</td><td>16.90</td><td>1</td><td>1</td><td>5</td><td>2</td></tr>\n",
              "\t<tr><th scope=row>Ford Pantera L</th><td>15.8</td><td>8</td><td>351.0</td><td>264</td><td>4.22</td><td>3.170</td><td>14.50</td><td>0</td><td>1</td><td>5</td><td>4</td></tr>\n",
              "\t<tr><th scope=row>Ferrari Dino</th><td>19.7</td><td>6</td><td>145.0</td><td>175</td><td>3.62</td><td>2.770</td><td>15.50</td><td>0</td><td>1</td><td>5</td><td>6</td></tr>\n",
              "\t<tr><th scope=row>Maserati Bora</th><td>15.0</td><td>8</td><td>301.0</td><td>335</td><td>3.54</td><td>3.570</td><td>14.60</td><td>0</td><td>1</td><td>5</td><td>8</td></tr>\n",
              "\t<tr><th scope=row>Volvo 142E</th><td>21.4</td><td>4</td><td>121.0</td><td>109</td><td>4.11</td><td>2.780</td><td>18.60</td><td>1</td><td>1</td><td>4</td><td>2</td></tr>\n",
              "</tbody>\n",
              "</table>\n"
            ],
            "text/markdown": "\nA data.frame: 32 × 11\n\n| <!--/--> | mpg &lt;dbl&gt; | cyl &lt;dbl&gt; | disp &lt;dbl&gt; | hp &lt;dbl&gt; | drat &lt;dbl&gt; | wt &lt;dbl&gt; | qsec &lt;dbl&gt; | vs &lt;dbl&gt; | am &lt;dbl&gt; | gear &lt;dbl&gt; | carb &lt;dbl&gt; |\n|---|---|---|---|---|---|---|---|---|---|---|---|\n| Mazda RX4 | 21.0 | 6 | 160.0 | 110 | 3.90 | 2.620 | 16.46 | 0 | 1 | 4 | 4 |\n| Mazda RX4 Wag | 21.0 | 6 | 160.0 | 110 | 3.90 | 2.875 | 17.02 | 0 | 1 | 4 | 4 |\n| Datsun 710 | 22.8 | 4 | 108.0 |  93 | 3.85 | 2.320 | 18.61 | 1 | 1 | 4 | 1 |\n| Hornet 4 Drive | 21.4 | 6 | 258.0 | 110 | 3.08 | 3.215 | 19.44 | 1 | 0 | 3 | 1 |\n| Hornet Sportabout | 18.7 | 8 | 360.0 | 175 | 3.15 | 3.440 | 17.02 | 0 | 0 | 3 | 2 |\n| Valiant | 18.1 | 6 | 225.0 | 105 | 2.76 | 3.460 | 20.22 | 1 | 0 | 3 | 1 |\n| Duster 360 | 14.3 | 8 | 360.0 | 245 | 3.21 | 3.570 | 15.84 | 0 | 0 | 3 | 4 |\n| Merc 240D | 24.4 | 4 | 146.7 |  62 | 3.69 | 3.190 | 20.00 | 1 | 0 | 4 | 2 |\n| Merc 230 | 22.8 | 4 | 140.8 |  95 | 3.92 | 3.150 | 22.90 | 1 | 0 | 4 | 2 |\n| Merc 280 | 19.2 | 6 | 167.6 | 123 | 3.92 | 3.440 | 18.30 | 1 | 0 | 4 | 4 |\n| Merc 280C | 17.8 | 6 | 167.6 | 123 | 3.92 | 3.440 | 18.90 | 1 | 0 | 4 | 4 |\n| Merc 450SE | 16.4 | 8 | 275.8 | 180 | 3.07 | 4.070 | 17.40 | 0 | 0 | 3 | 3 |\n| Merc 450SL | 17.3 | 8 | 275.8 | 180 | 3.07 | 3.730 | 17.60 | 0 | 0 | 3 | 3 |\n| Merc 450SLC | 15.2 | 8 | 275.8 | 180 | 3.07 | 3.780 | 18.00 | 0 | 0 | 3 | 3 |\n| Cadillac Fleetwood | 10.4 | 8 | 472.0 | 205 | 2.93 | 5.250 | 17.98 | 0 | 0 | 3 | 4 |\n| Lincoln Continental | 10.4 | 8 | 460.0 | 215 | 3.00 | 5.424 | 17.82 | 0 | 0 | 3 | 4 |\n| Chrysler Imperial | 14.7 | 8 | 440.0 | 230 | 3.23 | 5.345 | 17.42 | 0 | 0 | 3 | 4 |\n| Fiat 128 | 32.4 | 4 |  78.7 |  66 | 4.08 | 2.200 | 19.47 | 1 | 1 | 4 | 1 |\n| Honda Civic | 30.4 | 4 |  75.7 |  52 | 4.93 | 1.615 | 18.52 | 1 | 1 | 4 | 2 |\n| Toyota Corolla | 33.9 | 4 |  71.1 |  65 | 4.22 | 1.835 | 19.90 | 1 | 1 | 4 | 1 |\n| Toyota Corona | 21.5 | 4 | 120.1 |  97 | 3.70 | 2.465 | 20.01 | 1 | 0 | 3 | 1 |\n| Dodge Challenger | 15.5 | 8 | 318.0 | 150 | 2.76 | 3.520 | 16.87 | 0 | 0 | 3 | 2 |\n| AMC Javelin | 15.2 | 8 | 304.0 | 150 | 3.15 | 3.435 | 17.30 | 0 | 0 | 3 | 2 |\n| Camaro Z28 | 13.3 | 8 | 350.0 | 245 | 3.73 | 3.840 | 15.41 | 0 | 0 | 3 | 4 |\n| Pontiac Firebird | 19.2 | 8 | 400.0 | 175 | 3.08 | 3.845 | 17.05 | 0 | 0 | 3 | 2 |\n| Fiat X1-9 | 27.3 | 4 |  79.0 |  66 | 4.08 | 1.935 | 18.90 | 1 | 1 | 4 | 1 |\n| Porsche 914-2 | 26.0 | 4 | 120.3 |  91 | 4.43 | 2.140 | 16.70 | 0 | 1 | 5 | 2 |\n| Lotus Europa | 30.4 | 4 |  95.1 | 113 | 3.77 | 1.513 | 16.90 | 1 | 1 | 5 | 2 |\n| Ford Pantera L | 15.8 | 8 | 351.0 | 264 | 4.22 | 3.170 | 14.50 | 0 | 1 | 5 | 4 |\n| Ferrari Dino | 19.7 | 6 | 145.0 | 175 | 3.62 | 2.770 | 15.50 | 0 | 1 | 5 | 6 |\n| Maserati Bora | 15.0 | 8 | 301.0 | 335 | 3.54 | 3.570 | 14.60 | 0 | 1 | 5 | 8 |\n| Volvo 142E | 21.4 | 4 | 121.0 | 109 | 4.11 | 2.780 | 18.60 | 1 | 1 | 4 | 2 |\n\n",
            "text/latex": "A data.frame: 32 × 11\n\\begin{tabular}{r|lllllllllll}\n  & mpg & cyl & disp & hp & drat & wt & qsec & vs & am & gear & carb\\\\\n  & <dbl> & <dbl> & <dbl> & <dbl> & <dbl> & <dbl> & <dbl> & <dbl> & <dbl> & <dbl> & <dbl>\\\\\n\\hline\n\tMazda RX4 & 21.0 & 6 & 160.0 & 110 & 3.90 & 2.620 & 16.46 & 0 & 1 & 4 & 4\\\\\n\tMazda RX4 Wag & 21.0 & 6 & 160.0 & 110 & 3.90 & 2.875 & 17.02 & 0 & 1 & 4 & 4\\\\\n\tDatsun 710 & 22.8 & 4 & 108.0 &  93 & 3.85 & 2.320 & 18.61 & 1 & 1 & 4 & 1\\\\\n\tHornet 4 Drive & 21.4 & 6 & 258.0 & 110 & 3.08 & 3.215 & 19.44 & 1 & 0 & 3 & 1\\\\\n\tHornet Sportabout & 18.7 & 8 & 360.0 & 175 & 3.15 & 3.440 & 17.02 & 0 & 0 & 3 & 2\\\\\n\tValiant & 18.1 & 6 & 225.0 & 105 & 2.76 & 3.460 & 20.22 & 1 & 0 & 3 & 1\\\\\n\tDuster 360 & 14.3 & 8 & 360.0 & 245 & 3.21 & 3.570 & 15.84 & 0 & 0 & 3 & 4\\\\\n\tMerc 240D & 24.4 & 4 & 146.7 &  62 & 3.69 & 3.190 & 20.00 & 1 & 0 & 4 & 2\\\\\n\tMerc 230 & 22.8 & 4 & 140.8 &  95 & 3.92 & 3.150 & 22.90 & 1 & 0 & 4 & 2\\\\\n\tMerc 280 & 19.2 & 6 & 167.6 & 123 & 3.92 & 3.440 & 18.30 & 1 & 0 & 4 & 4\\\\\n\tMerc 280C & 17.8 & 6 & 167.6 & 123 & 3.92 & 3.440 & 18.90 & 1 & 0 & 4 & 4\\\\\n\tMerc 450SE & 16.4 & 8 & 275.8 & 180 & 3.07 & 4.070 & 17.40 & 0 & 0 & 3 & 3\\\\\n\tMerc 450SL & 17.3 & 8 & 275.8 & 180 & 3.07 & 3.730 & 17.60 & 0 & 0 & 3 & 3\\\\\n\tMerc 450SLC & 15.2 & 8 & 275.8 & 180 & 3.07 & 3.780 & 18.00 & 0 & 0 & 3 & 3\\\\\n\tCadillac Fleetwood & 10.4 & 8 & 472.0 & 205 & 2.93 & 5.250 & 17.98 & 0 & 0 & 3 & 4\\\\\n\tLincoln Continental & 10.4 & 8 & 460.0 & 215 & 3.00 & 5.424 & 17.82 & 0 & 0 & 3 & 4\\\\\n\tChrysler Imperial & 14.7 & 8 & 440.0 & 230 & 3.23 & 5.345 & 17.42 & 0 & 0 & 3 & 4\\\\\n\tFiat 128 & 32.4 & 4 &  78.7 &  66 & 4.08 & 2.200 & 19.47 & 1 & 1 & 4 & 1\\\\\n\tHonda Civic & 30.4 & 4 &  75.7 &  52 & 4.93 & 1.615 & 18.52 & 1 & 1 & 4 & 2\\\\\n\tToyota Corolla & 33.9 & 4 &  71.1 &  65 & 4.22 & 1.835 & 19.90 & 1 & 1 & 4 & 1\\\\\n\tToyota Corona & 21.5 & 4 & 120.1 &  97 & 3.70 & 2.465 & 20.01 & 1 & 0 & 3 & 1\\\\\n\tDodge Challenger & 15.5 & 8 & 318.0 & 150 & 2.76 & 3.520 & 16.87 & 0 & 0 & 3 & 2\\\\\n\tAMC Javelin & 15.2 & 8 & 304.0 & 150 & 3.15 & 3.435 & 17.30 & 0 & 0 & 3 & 2\\\\\n\tCamaro Z28 & 13.3 & 8 & 350.0 & 245 & 3.73 & 3.840 & 15.41 & 0 & 0 & 3 & 4\\\\\n\tPontiac Firebird & 19.2 & 8 & 400.0 & 175 & 3.08 & 3.845 & 17.05 & 0 & 0 & 3 & 2\\\\\n\tFiat X1-9 & 27.3 & 4 &  79.0 &  66 & 4.08 & 1.935 & 18.90 & 1 & 1 & 4 & 1\\\\\n\tPorsche 914-2 & 26.0 & 4 & 120.3 &  91 & 4.43 & 2.140 & 16.70 & 0 & 1 & 5 & 2\\\\\n\tLotus Europa & 30.4 & 4 &  95.1 & 113 & 3.77 & 1.513 & 16.90 & 1 & 1 & 5 & 2\\\\\n\tFord Pantera L & 15.8 & 8 & 351.0 & 264 & 4.22 & 3.170 & 14.50 & 0 & 1 & 5 & 4\\\\\n\tFerrari Dino & 19.7 & 6 & 145.0 & 175 & 3.62 & 2.770 & 15.50 & 0 & 1 & 5 & 6\\\\\n\tMaserati Bora & 15.0 & 8 & 301.0 & 335 & 3.54 & 3.570 & 14.60 & 0 & 1 & 5 & 8\\\\\n\tVolvo 142E & 21.4 & 4 & 121.0 & 109 & 4.11 & 2.780 & 18.60 & 1 & 1 & 4 & 2\\\\\n\\end{tabular}\n",
            "text/plain": [
              "                    mpg  cyl disp  hp  drat wt    qsec  vs am gear carb\n",
              "Mazda RX4           21.0 6   160.0 110 3.90 2.620 16.46 0  1  4    4   \n",
              "Mazda RX4 Wag       21.0 6   160.0 110 3.90 2.875 17.02 0  1  4    4   \n",
              "Datsun 710          22.8 4   108.0  93 3.85 2.320 18.61 1  1  4    1   \n",
              "Hornet 4 Drive      21.4 6   258.0 110 3.08 3.215 19.44 1  0  3    1   \n",
              "Hornet Sportabout   18.7 8   360.0 175 3.15 3.440 17.02 0  0  3    2   \n",
              "Valiant             18.1 6   225.0 105 2.76 3.460 20.22 1  0  3    1   \n",
              "Duster 360          14.3 8   360.0 245 3.21 3.570 15.84 0  0  3    4   \n",
              "Merc 240D           24.4 4   146.7  62 3.69 3.190 20.00 1  0  4    2   \n",
              "Merc 230            22.8 4   140.8  95 3.92 3.150 22.90 1  0  4    2   \n",
              "Merc 280            19.2 6   167.6 123 3.92 3.440 18.30 1  0  4    4   \n",
              "Merc 280C           17.8 6   167.6 123 3.92 3.440 18.90 1  0  4    4   \n",
              "Merc 450SE          16.4 8   275.8 180 3.07 4.070 17.40 0  0  3    3   \n",
              "Merc 450SL          17.3 8   275.8 180 3.07 3.730 17.60 0  0  3    3   \n",
              "Merc 450SLC         15.2 8   275.8 180 3.07 3.780 18.00 0  0  3    3   \n",
              "Cadillac Fleetwood  10.4 8   472.0 205 2.93 5.250 17.98 0  0  3    4   \n",
              "Lincoln Continental 10.4 8   460.0 215 3.00 5.424 17.82 0  0  3    4   \n",
              "Chrysler Imperial   14.7 8   440.0 230 3.23 5.345 17.42 0  0  3    4   \n",
              "Fiat 128            32.4 4    78.7  66 4.08 2.200 19.47 1  1  4    1   \n",
              "Honda Civic         30.4 4    75.7  52 4.93 1.615 18.52 1  1  4    2   \n",
              "Toyota Corolla      33.9 4    71.1  65 4.22 1.835 19.90 1  1  4    1   \n",
              "Toyota Corona       21.5 4   120.1  97 3.70 2.465 20.01 1  0  3    1   \n",
              "Dodge Challenger    15.5 8   318.0 150 2.76 3.520 16.87 0  0  3    2   \n",
              "AMC Javelin         15.2 8   304.0 150 3.15 3.435 17.30 0  0  3    2   \n",
              "Camaro Z28          13.3 8   350.0 245 3.73 3.840 15.41 0  0  3    4   \n",
              "Pontiac Firebird    19.2 8   400.0 175 3.08 3.845 17.05 0  0  3    2   \n",
              "Fiat X1-9           27.3 4    79.0  66 4.08 1.935 18.90 1  1  4    1   \n",
              "Porsche 914-2       26.0 4   120.3  91 4.43 2.140 16.70 0  1  5    2   \n",
              "Lotus Europa        30.4 4    95.1 113 3.77 1.513 16.90 1  1  5    2   \n",
              "Ford Pantera L      15.8 8   351.0 264 4.22 3.170 14.50 0  1  5    4   \n",
              "Ferrari Dino        19.7 6   145.0 175 3.62 2.770 15.50 0  1  5    6   \n",
              "Maserati Bora       15.0 8   301.0 335 3.54 3.570 14.60 0  1  5    8   \n",
              "Volvo 142E          21.4 4   121.0 109 4.11 2.780 18.60 1  1  4    2   "
            ]
          },
          "metadata": {}
        }
      ]
    },
    {
      "cell_type": "code",
      "source": [
        "summary(mtcars)"
      ],
      "metadata": {
        "colab": {
          "base_uri": "https://localhost:8080/",
          "height": 401
        },
        "id": "0NdnPKRlCt-U",
        "outputId": "9a0fd62d-e670-432b-ede1-798c6d331128"
      },
      "execution_count": null,
      "outputs": [
        {
          "output_type": "display_data",
          "data": {
            "text/plain": [
              "      mpg             cyl             disp             hp       \n",
              " Min.   :10.40   Min.   :4.000   Min.   : 71.1   Min.   : 52.0  \n",
              " 1st Qu.:15.43   1st Qu.:4.000   1st Qu.:120.8   1st Qu.: 96.5  \n",
              " Median :19.20   Median :6.000   Median :196.3   Median :123.0  \n",
              " Mean   :20.09   Mean   :6.188   Mean   :230.7   Mean   :146.7  \n",
              " 3rd Qu.:22.80   3rd Qu.:8.000   3rd Qu.:326.0   3rd Qu.:180.0  \n",
              " Max.   :33.90   Max.   :8.000   Max.   :472.0   Max.   :335.0  \n",
              "      drat             wt             qsec             vs        \n",
              " Min.   :2.760   Min.   :1.513   Min.   :14.50   Min.   :0.0000  \n",
              " 1st Qu.:3.080   1st Qu.:2.581   1st Qu.:16.89   1st Qu.:0.0000  \n",
              " Median :3.695   Median :3.325   Median :17.71   Median :0.0000  \n",
              " Mean   :3.597   Mean   :3.217   Mean   :17.85   Mean   :0.4375  \n",
              " 3rd Qu.:3.920   3rd Qu.:3.610   3rd Qu.:18.90   3rd Qu.:1.0000  \n",
              " Max.   :4.930   Max.   :5.424   Max.   :22.90   Max.   :1.0000  \n",
              "       am              gear            carb      \n",
              " Min.   :0.0000   Min.   :3.000   Min.   :1.000  \n",
              " 1st Qu.:0.0000   1st Qu.:3.000   1st Qu.:2.000  \n",
              " Median :0.0000   Median :4.000   Median :2.000  \n",
              " Mean   :0.4062   Mean   :3.688   Mean   :2.812  \n",
              " 3rd Qu.:1.0000   3rd Qu.:4.000   3rd Qu.:4.000  \n",
              " Max.   :1.0000   Max.   :5.000   Max.   :8.000  "
            ]
          },
          "metadata": {}
        }
      ]
    },
    {
      "cell_type": "code",
      "source": [
        "# displays information about the data set\n",
        "?mtcars"
      ],
      "metadata": {
        "id": "IZmvY7yMC55T"
      },
      "execution_count": null,
      "outputs": []
    },
    {
      "cell_type": "code",
      "source": [
        "# Display names of columns\n",
        "names(mtcars)\n"
      ],
      "metadata": {
        "colab": {
          "base_uri": "https://localhost:8080/",
          "height": 121
        },
        "id": "HFz1TtsnFI5U",
        "outputId": "692e6da6-1678-40de-b60f-911b9aebaf32"
      },
      "execution_count": null,
      "outputs": [
        {
          "output_type": "display_data",
          "data": {
            "text/html": [
              "<style>\n",
              ".list-inline {list-style: none; margin:0; padding: 0}\n",
              ".list-inline>li {display: inline-block}\n",
              ".list-inline>li:not(:last-child)::after {content: \"\\00b7\"; padding: 0 .5ex}\n",
              "</style>\n",
              "<ol class=list-inline><li>'mpg'</li><li>'cyl'</li><li>'disp'</li><li>'hp'</li><li>'drat'</li><li>'wt'</li><li>'qsec'</li><li>'vs'</li><li>'am'</li><li>'gear'</li><li>'carb'</li></ol>\n"
            ],
            "text/markdown": "1. 'mpg'\n2. 'cyl'\n3. 'disp'\n4. 'hp'\n5. 'drat'\n6. 'wt'\n7. 'qsec'\n8. 'vs'\n9. 'am'\n10. 'gear'\n11. 'carb'\n\n\n",
            "text/latex": "\\begin{enumerate*}\n\\item 'mpg'\n\\item 'cyl'\n\\item 'disp'\n\\item 'hp'\n\\item 'drat'\n\\item 'wt'\n\\item 'qsec'\n\\item 'vs'\n\\item 'am'\n\\item 'gear'\n\\item 'carb'\n\\end{enumerate*}\n",
            "text/plain": [
              " [1] \"mpg\"  \"cyl\"  \"disp\" \"hp\"   \"drat\" \"wt\"   \"qsec\" \"vs\"   \"am\"   \"gear\"\n",
              "[11] \"carb\""
            ]
          },
          "metadata": {}
        },
        {
          "output_type": "display_data",
          "data": {
            "text/html": [
              "<style>\n",
              ".list-inline {list-style: none; margin:0; padding: 0}\n",
              ".list-inline>li {display: inline-block}\n",
              ".list-inline>li:not(:last-child)::after {content: \"\\00b7\"; padding: 0 .5ex}\n",
              "</style>\n",
              "<ol class=list-inline><li>'Mazda RX4'</li><li>'Mazda RX4 Wag'</li><li>'Datsun 710'</li><li>'Hornet 4 Drive'</li><li>'Hornet Sportabout'</li><li>'Valiant'</li><li>'Duster 360'</li><li>'Merc 240D'</li><li>'Merc 230'</li><li>'Merc 280'</li><li>'Merc 280C'</li><li>'Merc 450SE'</li><li>'Merc 450SL'</li><li>'Merc 450SLC'</li><li>'Cadillac Fleetwood'</li><li>'Lincoln Continental'</li><li>'Chrysler Imperial'</li><li>'Fiat 128'</li><li>'Honda Civic'</li><li>'Toyota Corolla'</li><li>'Toyota Corona'</li><li>'Dodge Challenger'</li><li>'AMC Javelin'</li><li>'Camaro Z28'</li><li>'Pontiac Firebird'</li><li>'Fiat X1-9'</li><li>'Porsche 914-2'</li><li>'Lotus Europa'</li><li>'Ford Pantera L'</li><li>'Ferrari Dino'</li><li>'Maserati Bora'</li><li>'Volvo 142E'</li></ol>\n"
            ],
            "text/markdown": "1. 'Mazda RX4'\n2. 'Mazda RX4 Wag'\n3. 'Datsun 710'\n4. 'Hornet 4 Drive'\n5. 'Hornet Sportabout'\n6. 'Valiant'\n7. 'Duster 360'\n8. 'Merc 240D'\n9. 'Merc 230'\n10. 'Merc 280'\n11. 'Merc 280C'\n12. 'Merc 450SE'\n13. 'Merc 450SL'\n14. 'Merc 450SLC'\n15. 'Cadillac Fleetwood'\n16. 'Lincoln Continental'\n17. 'Chrysler Imperial'\n18. 'Fiat 128'\n19. 'Honda Civic'\n20. 'Toyota Corolla'\n21. 'Toyota Corona'\n22. 'Dodge Challenger'\n23. 'AMC Javelin'\n24. 'Camaro Z28'\n25. 'Pontiac Firebird'\n26. 'Fiat X1-9'\n27. 'Porsche 914-2'\n28. 'Lotus Europa'\n29. 'Ford Pantera L'\n30. 'Ferrari Dino'\n31. 'Maserati Bora'\n32. 'Volvo 142E'\n\n\n",
            "text/latex": "\\begin{enumerate*}\n\\item 'Mazda RX4'\n\\item 'Mazda RX4 Wag'\n\\item 'Datsun 710'\n\\item 'Hornet 4 Drive'\n\\item 'Hornet Sportabout'\n\\item 'Valiant'\n\\item 'Duster 360'\n\\item 'Merc 240D'\n\\item 'Merc 230'\n\\item 'Merc 280'\n\\item 'Merc 280C'\n\\item 'Merc 450SE'\n\\item 'Merc 450SL'\n\\item 'Merc 450SLC'\n\\item 'Cadillac Fleetwood'\n\\item 'Lincoln Continental'\n\\item 'Chrysler Imperial'\n\\item 'Fiat 128'\n\\item 'Honda Civic'\n\\item 'Toyota Corolla'\n\\item 'Toyota Corona'\n\\item 'Dodge Challenger'\n\\item 'AMC Javelin'\n\\item 'Camaro Z28'\n\\item 'Pontiac Firebird'\n\\item 'Fiat X1-9'\n\\item 'Porsche 914-2'\n\\item 'Lotus Europa'\n\\item 'Ford Pantera L'\n\\item 'Ferrari Dino'\n\\item 'Maserati Bora'\n\\item 'Volvo 142E'\n\\end{enumerate*}\n",
            "text/plain": [
              " [1] \"Mazda RX4\"           \"Mazda RX4 Wag\"       \"Datsun 710\"         \n",
              " [4] \"Hornet 4 Drive\"      \"Hornet Sportabout\"   \"Valiant\"            \n",
              " [7] \"Duster 360\"          \"Merc 240D\"           \"Merc 230\"           \n",
              "[10] \"Merc 280\"            \"Merc 280C\"           \"Merc 450SE\"         \n",
              "[13] \"Merc 450SL\"          \"Merc 450SLC\"         \"Cadillac Fleetwood\" \n",
              "[16] \"Lincoln Continental\" \"Chrysler Imperial\"   \"Fiat 128\"           \n",
              "[19] \"Honda Civic\"         \"Toyota Corolla\"      \"Toyota Corona\"      \n",
              "[22] \"Dodge Challenger\"    \"AMC Javelin\"         \"Camaro Z28\"         \n",
              "[25] \"Pontiac Firebird\"    \"Fiat X1-9\"           \"Porsche 914-2\"      \n",
              "[28] \"Lotus Europa\"        \"Ford Pantera L\"      \"Ferrari Dino\"       \n",
              "[31] \"Maserati Bora\"       \"Volvo 142E\"         "
            ]
          },
          "metadata": {}
        }
      ]
    },
    {
      "cell_type": "code",
      "source": [
        "rownames(mtcars)\n"
      ],
      "metadata": {
        "colab": {
          "base_uri": "https://localhost:8080/",
          "height": 104
        },
        "id": "1JJJyfMcFb9D",
        "outputId": "fcb163e6-ea89-4db7-f9a5-c3d5d96c5be3"
      },
      "execution_count": null,
      "outputs": [
        {
          "output_type": "display_data",
          "data": {
            "text/html": [
              "<style>\n",
              ".list-inline {list-style: none; margin:0; padding: 0}\n",
              ".list-inline>li {display: inline-block}\n",
              ".list-inline>li:not(:last-child)::after {content: \"\\00b7\"; padding: 0 .5ex}\n",
              "</style>\n",
              "<ol class=list-inline><li>'Mazda RX4'</li><li>'Mazda RX4 Wag'</li><li>'Datsun 710'</li><li>'Hornet 4 Drive'</li><li>'Hornet Sportabout'</li><li>'Valiant'</li><li>'Duster 360'</li><li>'Merc 240D'</li><li>'Merc 230'</li><li>'Merc 280'</li><li>'Merc 280C'</li><li>'Merc 450SE'</li><li>'Merc 450SL'</li><li>'Merc 450SLC'</li><li>'Cadillac Fleetwood'</li><li>'Lincoln Continental'</li><li>'Chrysler Imperial'</li><li>'Fiat 128'</li><li>'Honda Civic'</li><li>'Toyota Corolla'</li><li>'Toyota Corona'</li><li>'Dodge Challenger'</li><li>'AMC Javelin'</li><li>'Camaro Z28'</li><li>'Pontiac Firebird'</li><li>'Fiat X1-9'</li><li>'Porsche 914-2'</li><li>'Lotus Europa'</li><li>'Ford Pantera L'</li><li>'Ferrari Dino'</li><li>'Maserati Bora'</li><li>'Volvo 142E'</li></ol>\n"
            ],
            "text/markdown": "1. 'Mazda RX4'\n2. 'Mazda RX4 Wag'\n3. 'Datsun 710'\n4. 'Hornet 4 Drive'\n5. 'Hornet Sportabout'\n6. 'Valiant'\n7. 'Duster 360'\n8. 'Merc 240D'\n9. 'Merc 230'\n10. 'Merc 280'\n11. 'Merc 280C'\n12. 'Merc 450SE'\n13. 'Merc 450SL'\n14. 'Merc 450SLC'\n15. 'Cadillac Fleetwood'\n16. 'Lincoln Continental'\n17. 'Chrysler Imperial'\n18. 'Fiat 128'\n19. 'Honda Civic'\n20. 'Toyota Corolla'\n21. 'Toyota Corona'\n22. 'Dodge Challenger'\n23. 'AMC Javelin'\n24. 'Camaro Z28'\n25. 'Pontiac Firebird'\n26. 'Fiat X1-9'\n27. 'Porsche 914-2'\n28. 'Lotus Europa'\n29. 'Ford Pantera L'\n30. 'Ferrari Dino'\n31. 'Maserati Bora'\n32. 'Volvo 142E'\n\n\n",
            "text/latex": "\\begin{enumerate*}\n\\item 'Mazda RX4'\n\\item 'Mazda RX4 Wag'\n\\item 'Datsun 710'\n\\item 'Hornet 4 Drive'\n\\item 'Hornet Sportabout'\n\\item 'Valiant'\n\\item 'Duster 360'\n\\item 'Merc 240D'\n\\item 'Merc 230'\n\\item 'Merc 280'\n\\item 'Merc 280C'\n\\item 'Merc 450SE'\n\\item 'Merc 450SL'\n\\item 'Merc 450SLC'\n\\item 'Cadillac Fleetwood'\n\\item 'Lincoln Continental'\n\\item 'Chrysler Imperial'\n\\item 'Fiat 128'\n\\item 'Honda Civic'\n\\item 'Toyota Corolla'\n\\item 'Toyota Corona'\n\\item 'Dodge Challenger'\n\\item 'AMC Javelin'\n\\item 'Camaro Z28'\n\\item 'Pontiac Firebird'\n\\item 'Fiat X1-9'\n\\item 'Porsche 914-2'\n\\item 'Lotus Europa'\n\\item 'Ford Pantera L'\n\\item 'Ferrari Dino'\n\\item 'Maserati Bora'\n\\item 'Volvo 142E'\n\\end{enumerate*}\n",
            "text/plain": [
              " [1] \"Mazda RX4\"           \"Mazda RX4 Wag\"       \"Datsun 710\"         \n",
              " [4] \"Hornet 4 Drive\"      \"Hornet Sportabout\"   \"Valiant\"            \n",
              " [7] \"Duster 360\"          \"Merc 240D\"           \"Merc 230\"           \n",
              "[10] \"Merc 280\"            \"Merc 280C\"           \"Merc 450SE\"         \n",
              "[13] \"Merc 450SL\"          \"Merc 450SLC\"         \"Cadillac Fleetwood\" \n",
              "[16] \"Lincoln Continental\" \"Chrysler Imperial\"   \"Fiat 128\"           \n",
              "[19] \"Honda Civic\"         \"Toyota Corolla\"      \"Toyota Corona\"      \n",
              "[22] \"Dodge Challenger\"    \"AMC Javelin\"         \"Camaro Z28\"         \n",
              "[25] \"Pontiac Firebird\"    \"Fiat X1-9\"           \"Porsche 914-2\"      \n",
              "[28] \"Lotus Europa\"        \"Ford Pantera L\"      \"Ferrari Dino\"       \n",
              "[31] \"Maserati Bora\"       \"Volvo 142E\"         "
            ]
          },
          "metadata": {}
        }
      ]
    },
    {
      "cell_type": "code",
      "source": [
        "dim(mtcars)"
      ],
      "metadata": {
        "colab": {
          "base_uri": "https://localhost:8080/",
          "height": 34
        },
        "id": "BZpuohatFgHG",
        "outputId": "807f6ce3-fc71-4524-b07f-a34c61a23bce"
      },
      "execution_count": null,
      "outputs": [
        {
          "output_type": "display_data",
          "data": {
            "text/html": [
              "<style>\n",
              ".list-inline {list-style: none; margin:0; padding: 0}\n",
              ".list-inline>li {display: inline-block}\n",
              ".list-inline>li:not(:last-child)::after {content: \"\\00b7\"; padding: 0 .5ex}\n",
              "</style>\n",
              "<ol class=list-inline><li>32</li><li>11</li></ol>\n"
            ],
            "text/markdown": "1. 32\n2. 11\n\n\n",
            "text/latex": "\\begin{enumerate*}\n\\item 32\n\\item 11\n\\end{enumerate*}\n",
            "text/plain": [
              "[1] 32 11"
            ]
          },
          "metadata": {}
        }
      ]
    },
    {
      "cell_type": "code",
      "source": [
        "# Create a variable named Data_Cars and assign the mtcars data set to it\n",
        "Data_Cars <- mtcars\n",
        "\n",
        "# Access the 'cyl' column from the Data_Cars data frame\n",
        "Data_Cars$cyl"
      ],
      "metadata": {
        "colab": {
          "base_uri": "https://localhost:8080/",
          "height": 34
        },
        "id": "9kQh-CRpFtYz",
        "outputId": "95a431b8-5a3a-452c-a8c7-079156e2ddba"
      },
      "execution_count": null,
      "outputs": [
        {
          "output_type": "display_data",
          "data": {
            "text/html": [
              "<style>\n",
              ".list-inline {list-style: none; margin:0; padding: 0}\n",
              ".list-inline>li {display: inline-block}\n",
              ".list-inline>li:not(:last-child)::after {content: \"\\00b7\"; padding: 0 .5ex}\n",
              "</style>\n",
              "<ol class=list-inline><li>6</li><li>6</li><li>4</li><li>6</li><li>8</li><li>6</li><li>8</li><li>4</li><li>4</li><li>6</li><li>6</li><li>8</li><li>8</li><li>8</li><li>8</li><li>8</li><li>8</li><li>4</li><li>4</li><li>4</li><li>4</li><li>8</li><li>8</li><li>8</li><li>8</li><li>4</li><li>4</li><li>4</li><li>8</li><li>6</li><li>8</li><li>4</li></ol>\n"
            ],
            "text/markdown": "1. 6\n2. 6\n3. 4\n4. 6\n5. 8\n6. 6\n7. 8\n8. 4\n9. 4\n10. 6\n11. 6\n12. 8\n13. 8\n14. 8\n15. 8\n16. 8\n17. 8\n18. 4\n19. 4\n20. 4\n21. 4\n22. 8\n23. 8\n24. 8\n25. 8\n26. 4\n27. 4\n28. 4\n29. 8\n30. 6\n31. 8\n32. 4\n\n\n",
            "text/latex": "\\begin{enumerate*}\n\\item 6\n\\item 6\n\\item 4\n\\item 6\n\\item 8\n\\item 6\n\\item 8\n\\item 4\n\\item 4\n\\item 6\n\\item 6\n\\item 8\n\\item 8\n\\item 8\n\\item 8\n\\item 8\n\\item 8\n\\item 4\n\\item 4\n\\item 4\n\\item 4\n\\item 8\n\\item 8\n\\item 8\n\\item 8\n\\item 4\n\\item 4\n\\item 4\n\\item 8\n\\item 6\n\\item 8\n\\item 4\n\\end{enumerate*}\n",
            "text/plain": [
              " [1] 6 6 4 6 8 6 8 4 4 6 6 8 8 8 8 8 8 4 4 4 4 8 8 8 8 4 4 4 8 6 8 4"
            ]
          },
          "metadata": {}
        }
      ]
    },
    {
      "cell_type": "code",
      "source": [
        "sort(Data_Cars$cyl)"
      ],
      "metadata": {
        "colab": {
          "base_uri": "https://localhost:8080/",
          "height": 34
        },
        "id": "Q5q50nTqF38E",
        "outputId": "5ce2a853-5848-46ad-bafa-f4ddc9ab9a2e"
      },
      "execution_count": null,
      "outputs": [
        {
          "output_type": "display_data",
          "data": {
            "text/html": [
              "<style>\n",
              ".list-inline {list-style: none; margin:0; padding: 0}\n",
              ".list-inline>li {display: inline-block}\n",
              ".list-inline>li:not(:last-child)::after {content: \"\\00b7\"; padding: 0 .5ex}\n",
              "</style>\n",
              "<ol class=list-inline><li>4</li><li>4</li><li>4</li><li>4</li><li>4</li><li>4</li><li>4</li><li>4</li><li>4</li><li>4</li><li>4</li><li>6</li><li>6</li><li>6</li><li>6</li><li>6</li><li>6</li><li>6</li><li>8</li><li>8</li><li>8</li><li>8</li><li>8</li><li>8</li><li>8</li><li>8</li><li>8</li><li>8</li><li>8</li><li>8</li><li>8</li><li>8</li></ol>\n"
            ],
            "text/markdown": "1. 4\n2. 4\n3. 4\n4. 4\n5. 4\n6. 4\n7. 4\n8. 4\n9. 4\n10. 4\n11. 4\n12. 6\n13. 6\n14. 6\n15. 6\n16. 6\n17. 6\n18. 6\n19. 8\n20. 8\n21. 8\n22. 8\n23. 8\n24. 8\n25. 8\n26. 8\n27. 8\n28. 8\n29. 8\n30. 8\n31. 8\n32. 8\n\n\n",
            "text/latex": "\\begin{enumerate*}\n\\item 4\n\\item 4\n\\item 4\n\\item 4\n\\item 4\n\\item 4\n\\item 4\n\\item 4\n\\item 4\n\\item 4\n\\item 4\n\\item 6\n\\item 6\n\\item 6\n\\item 6\n\\item 6\n\\item 6\n\\item 6\n\\item 8\n\\item 8\n\\item 8\n\\item 8\n\\item 8\n\\item 8\n\\item 8\n\\item 8\n\\item 8\n\\item 8\n\\item 8\n\\item 8\n\\item 8\n\\item 8\n\\end{enumerate*}\n",
            "text/plain": [
              " [1] 4 4 4 4 4 4 4 4 4 4 4 6 6 6 6 6 6 6 8 8 8 8 8 8 8 8 8 8 8 8 8 8"
            ]
          },
          "metadata": {}
        }
      ]
    },
    {
      "cell_type": "code",
      "source": [
        "# Sort in desc order\n",
        "sort(Data_Cars$cyl, decreasing = TRUE)"
      ],
      "metadata": {
        "colab": {
          "base_uri": "https://localhost:8080/",
          "height": 34
        },
        "id": "fRtpfS2aGdXq",
        "outputId": "56f9c55a-8ac5-4ea7-cc75-2e83b686eca6"
      },
      "execution_count": null,
      "outputs": [
        {
          "output_type": "display_data",
          "data": {
            "text/html": [
              "<style>\n",
              ".list-inline {list-style: none; margin:0; padding: 0}\n",
              ".list-inline>li {display: inline-block}\n",
              ".list-inline>li:not(:last-child)::after {content: \"\\00b7\"; padding: 0 .5ex}\n",
              "</style>\n",
              "<ol class=list-inline><li>8</li><li>8</li><li>8</li><li>8</li><li>8</li><li>8</li><li>8</li><li>8</li><li>8</li><li>8</li><li>8</li><li>8</li><li>8</li><li>8</li><li>6</li><li>6</li><li>6</li><li>6</li><li>6</li><li>6</li><li>6</li><li>4</li><li>4</li><li>4</li><li>4</li><li>4</li><li>4</li><li>4</li><li>4</li><li>4</li><li>4</li><li>4</li></ol>\n"
            ],
            "text/markdown": "1. 8\n2. 8\n3. 8\n4. 8\n5. 8\n6. 8\n7. 8\n8. 8\n9. 8\n10. 8\n11. 8\n12. 8\n13. 8\n14. 8\n15. 6\n16. 6\n17. 6\n18. 6\n19. 6\n20. 6\n21. 6\n22. 4\n23. 4\n24. 4\n25. 4\n26. 4\n27. 4\n28. 4\n29. 4\n30. 4\n31. 4\n32. 4\n\n\n",
            "text/latex": "\\begin{enumerate*}\n\\item 8\n\\item 8\n\\item 8\n\\item 8\n\\item 8\n\\item 8\n\\item 8\n\\item 8\n\\item 8\n\\item 8\n\\item 8\n\\item 8\n\\item 8\n\\item 8\n\\item 6\n\\item 6\n\\item 6\n\\item 6\n\\item 6\n\\item 6\n\\item 6\n\\item 4\n\\item 4\n\\item 4\n\\item 4\n\\item 4\n\\item 4\n\\item 4\n\\item 4\n\\item 4\n\\item 4\n\\item 4\n\\end{enumerate*}\n",
            "text/plain": [
              " [1] 8 8 8 8 8 8 8 8 8 8 8 8 8 8 6 6 6 6 6 6 6 4 4 4 4 4 4 4 4 4 4 4"
            ]
          },
          "metadata": {}
        }
      ]
    },
    {
      "cell_type": "code",
      "source": [
        "names(sort(-table(Data_Cars$wt)))[1]"
      ],
      "metadata": {
        "colab": {
          "base_uri": "https://localhost:8080/",
          "height": 34
        },
        "id": "cIK_MjriL4nR",
        "outputId": "a70461df-923e-42bb-c72e-c685a3c68a8a"
      },
      "execution_count": null,
      "outputs": [
        {
          "output_type": "display_data",
          "data": {
            "text/html": [
              "'3.44'"
            ],
            "text/markdown": "'3.44'",
            "text/latex": "'3.44'",
            "text/plain": [
              "[1] \"3.44\""
            ]
          },
          "metadata": {}
        }
      ]
    },
    {
      "cell_type": "code",
      "source": [
        "# Create a variable named Data_Cars and assign the mtcars data set to it\n",
        "Data_Cars <- mtcars\n",
        "# to display the name of the row with  the highest frequency item\n",
        "car_names <- row.names(Data_Cars[which.max(Data_Cars$wt), ])\n",
        "car_names"
      ],
      "metadata": {
        "colab": {
          "base_uri": "https://localhost:8080/",
          "height": 34
        },
        "id": "dp8a1uU9NCyL",
        "outputId": "238ac8de-ec50-45de-d42b-8e4da2e8cf66"
      },
      "execution_count": null,
      "outputs": [
        {
          "output_type": "display_data",
          "data": {
            "text/html": [
              "'Lincoln Continental'"
            ],
            "text/markdown": "'Lincoln Continental'",
            "text/latex": "'Lincoln Continental'",
            "text/plain": [
              "[1] \"Lincoln Continental\""
            ]
          },
          "metadata": {}
        }
      ]
    },
    {
      "cell_type": "code",
      "source": [
        "# Count automatic and manual cars\n",
        "transmission_counts <- table(Data_Cars$am)\n",
        "\n",
        "# Calculate average gears for each transmission type\n",
        "average_gears <- tapply(Data_Cars$gear, Data_Cars$am, mean)\n",
        "\n",
        "# Calculate average mpg for different gear counts\n",
        "mpg_by_gear <- tapply(Data_Cars$mpg, Data_Cars$gear, mean)\n",
        "\n",
        "# Plot scatter\n",
        "plot(average_gears, mpg_by_gear)"
      ],
      "metadata": {
        "colab": {
          "base_uri": "https://localhost:8080/",
          "height": 165
        },
        "id": "9aciuSK6NZLe",
        "outputId": "7c5501dc-0dc9-49aa-936c-f7d47be6202e"
      },
      "execution_count": null,
      "outputs": [
        {
          "output_type": "error",
          "ename": "ERROR",
          "evalue": "Error in xy.coords(x, y, xlabel, ylabel, log): 'x' and 'y' lengths differ\n",
          "traceback": [
            "Error in xy.coords(x, y, xlabel, ylabel, log): 'x' and 'y' lengths differ\nTraceback:\n",
            "1. plot(average_gears, mpg_by_gear)",
            "2. plot.default(average_gears, mpg_by_gear)",
            "3. xy.coords(x, y, xlabel, ylabel, log)",
            "4. stop(\"'x' and 'y' lengths differ\")"
          ]
        }
      ]
    },
    {
      "cell_type": "code",
      "source": [
        "install.packages(\"ggplot2\")"
      ],
      "metadata": {
        "colab": {
          "base_uri": "https://localhost:8080/"
        },
        "id": "pOY0rOeiQcTB",
        "outputId": "72237fad-55fe-48d6-d9a9-8437cbc4aab5"
      },
      "execution_count": null,
      "outputs": [
        {
          "output_type": "stream",
          "name": "stderr",
          "text": [
            "Installing package into ‘/usr/local/lib/R/site-library’\n",
            "(as ‘lib’ is unspecified)\n",
            "\n"
          ]
        }
      ]
    },
    {
      "cell_type": "code",
      "source": [
        "library(ggplot2)"
      ],
      "metadata": {
        "id": "nkGqEcSDRDMx"
      },
      "execution_count": null,
      "outputs": []
    },
    {
      "cell_type": "code",
      "source": [
        "quantile(Data_Cars$wt, c(0.25))\n",
        "quantile(Data_Cars$wt, c(0.50))\n",
        "quantile(Data_Cars$wt, c(0.75))\n",
        "# Running quantile without c specified gives 25,50,75,100\n",
        "quantile(Data_Cars$wt)"
      ],
      "metadata": {
        "colab": {
          "base_uri": "https://localhost:8080/",
          "height": 86
        },
        "id": "YFjFx_9gRToc",
        "outputId": "1f5891f7-67ef-4e60-b5c7-2a5221e78276"
      },
      "execution_count": null,
      "outputs": [
        {
          "output_type": "display_data",
          "data": {
            "text/html": [
              "<strong>25%:</strong> 2.58125"
            ],
            "text/markdown": "**25%:** 2.58125",
            "text/latex": "\\textbf{25\\textbackslash{}\\%:} 2.58125",
            "text/plain": [
              "    25% \n",
              "2.58125 "
            ]
          },
          "metadata": {}
        },
        {
          "output_type": "display_data",
          "data": {
            "text/html": [
              "<strong>50%:</strong> 3.325"
            ],
            "text/markdown": "**50%:** 3.325",
            "text/latex": "\\textbf{50\\textbackslash{}\\%:} 3.325",
            "text/plain": [
              "  50% \n",
              "3.325 "
            ]
          },
          "metadata": {}
        },
        {
          "output_type": "display_data",
          "data": {
            "text/html": [
              "<strong>75%:</strong> 3.61"
            ],
            "text/markdown": "**75%:** 3.61",
            "text/latex": "\\textbf{75\\textbackslash{}\\%:} 3.61",
            "text/plain": [
              " 75% \n",
              "3.61 "
            ]
          },
          "metadata": {}
        },
        {
          "output_type": "display_data",
          "data": {
            "text/html": [
              "<style>\n",
              ".dl-inline {width: auto; margin:0; padding: 0}\n",
              ".dl-inline>dt, .dl-inline>dd {float: none; width: auto; display: inline-block}\n",
              ".dl-inline>dt::after {content: \":\\0020\"; padding-right: .5ex}\n",
              ".dl-inline>dt:not(:first-of-type) {padding-left: .5ex}\n",
              "</style><dl class=dl-inline><dt>0%</dt><dd>1.513</dd><dt>25%</dt><dd>2.58125</dd><dt>50%</dt><dd>3.325</dd><dt>75%</dt><dd>3.61</dd><dt>100%</dt><dd>5.424</dd></dl>\n"
            ],
            "text/markdown": "0%\n:   1.51325%\n:   2.5812550%\n:   3.32575%\n:   3.61100%\n:   5.424\n\n",
            "text/latex": "\\begin{description*}\n\\item[0\\textbackslash{}\\%] 1.513\n\\item[25\\textbackslash{}\\%] 2.58125\n\\item[50\\textbackslash{}\\%] 3.325\n\\item[75\\textbackslash{}\\%] 3.61\n\\item[100\\textbackslash{}\\%] 5.424\n\\end{description*}\n",
            "text/plain": [
              "     0%     25%     50%     75%    100% \n",
              "1.51300 2.58125 3.32500 3.61000 5.42400 "
            ]
          },
          "metadata": {}
        }
      ]
    }
  ]
}