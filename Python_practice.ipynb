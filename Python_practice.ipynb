{
  "nbformat": 4,
  "nbformat_minor": 0,
  "metadata": {
    "colab": {
      "provenance": [],
      "authorship_tag": "ABX9TyOOh2dcSby+kRZacYgitvR6",
      "include_colab_link": true
    },
    "kernelspec": {
      "name": "python3",
      "display_name": "Python 3"
    },
    "language_info": {
      "name": "python"
    }
  },
  "cells": [
    {
      "cell_type": "markdown",
      "metadata": {
        "id": "view-in-github",
        "colab_type": "text"
      },
      "source": [
        "<a href=\"https://colab.research.google.com/github/Leehembling/bootcamp/blob/main/Python_practice.ipynb\" target=\"_parent\"><img src=\"https://colab.research.google.com/assets/colab-badge.svg\" alt=\"Open In Colab\"/></a>"
      ]
    },
    {
      "cell_type": "code",
      "execution_count": null,
      "metadata": {
        "colab": {
          "base_uri": "https://localhost:8080/"
        },
        "id": "JvEDgfdUG7Vj",
        "outputId": "602c2f1b-f361-4f28-abe5-e42df8cf65c1"
      },
      "outputs": [
        {
          "output_type": "stream",
          "name": "stdout",
          "text": [
            "Python 3.10.12\n"
          ]
        }
      ],
      "source": [
        "!python --version"
      ]
    },
    {
      "cell_type": "code",
      "source": [
        "print(\"Hi, my name is Lee.\", end=3*\"\\n\")"
      ],
      "metadata": {
        "colab": {
          "base_uri": "https://localhost:8080/"
        },
        "id": "6RaSdJvdRYQL",
        "outputId": "60091251-236d-4abe-f47c-85d1265fc55d"
      },
      "execution_count": null,
      "outputs": [
        {
          "output_type": "stream",
          "name": "stdout",
          "text": [
            "Hi, my name is Lee.\n",
            "\n",
            "\n"
          ]
        }
      ]
    },
    {
      "cell_type": "code",
      "source": [
        "name_1 = \"Lee\"\n",
        "name_2 = \"Hembling\"\n",
        "print(\"Hello, my name is:\\n\",name_1, name_2)"
      ],
      "metadata": {
        "colab": {
          "base_uri": "https://localhost:8080/"
        },
        "id": "hOoM0bNPVLbF",
        "outputId": "d6b7faa0-7b8e-4ecc-fe75-3830814d72a4"
      },
      "execution_count": null,
      "outputs": [
        {
          "output_type": "stream",
          "name": "stdout",
          "text": [
            "Hello, my name is:\n",
            " Lee Hembling\n"
          ]
        }
      ]
    },
    {
      "cell_type": "code",
      "source": [
        "num_1 = 5\n",
        "num_2 = 10\n",
        "\n",
        "print(num_1 + num_2)"
      ],
      "metadata": {
        "colab": {
          "base_uri": "https://localhost:8080/"
        },
        "id": "fToZMRzId-ZE",
        "outputId": "19c9d98d-59c8-4aa3-a641-33725b646896"
      },
      "execution_count": null,
      "outputs": [
        {
          "output_type": "stream",
          "name": "stdout",
          "text": [
            "15\n"
          ]
        }
      ]
    },
    {
      "cell_type": "code",
      "source": [
        "num_1 * num_2"
      ],
      "metadata": {
        "colab": {
          "base_uri": "https://localhost:8080/"
        },
        "id": "kbOiuJTLeMoZ",
        "outputId": "2432a990-26b1-4f77-d0a3-18a290c435dd"
      },
      "execution_count": null,
      "outputs": [
        {
          "output_type": "execute_result",
          "data": {
            "text/plain": [
              "50"
            ]
          },
          "metadata": {},
          "execution_count": 20
        }
      ]
    },
    {
      "cell_type": "code",
      "source": [
        "print(type(num_1))\n"
      ],
      "metadata": {
        "colab": {
          "base_uri": "https://localhost:8080/"
        },
        "id": "Kejb35w7ebOT",
        "outputId": "b672820e-ad4c-49c2-8904-60d9244e4ec7"
      },
      "execution_count": null,
      "outputs": [
        {
          "output_type": "stream",
          "name": "stdout",
          "text": [
            "<class 'int'>\n"
          ]
        }
      ]
    },
    {
      "cell_type": "markdown",
      "source": [
        "Using f-string literal"
      ],
      "metadata": {
        "id": "6o85-S2MfDiW"
      }
    },
    {
      "cell_type": "code",
      "source": [
        "Lee = 1\n",
        "Helen = 2\n",
        "Gurgi = 3\n",
        "\n",
        "print(f\"Lee has {Lee} apples, Helen has {Helen} apples, and Gurgi (typically) has {Gurgi} apples.\")"
      ],
      "metadata": {
        "colab": {
          "base_uri": "https://localhost:8080/"
        },
        "id": "k_MLTp5-fCkS",
        "outputId": "92b07036-6dcf-4cdb-febd-0dabbf285ddf"
      },
      "execution_count": null,
      "outputs": [
        {
          "output_type": "stream",
          "name": "stdout",
          "text": [
            "Lee has 1 apples, Helen has 2 apples, and Gurgi (typically) has 3 apples.\n"
          ]
        }
      ]
    },
    {
      "cell_type": "markdown",
      "source": [
        "input()"
      ],
      "metadata": {
        "id": "gHKQ9WOGfxCN"
      }
    },
    {
      "cell_type": "code",
      "source": [
        "print(\"Tell me anything\")\n",
        "\n",
        "anything = input()\n",
        "print(\"Hmm...\", anything, \"...really?!\")"
      ],
      "metadata": {
        "colab": {
          "base_uri": "https://localhost:8080/"
        },
        "id": "hSTTWsztftlv",
        "outputId": "88619fc2-3e74-4944-b13e-19af0b882b9d"
      },
      "execution_count": null,
      "outputs": [
        {
          "output_type": "stream",
          "name": "stdout",
          "text": [
            "Tell me anything\n",
            "Bananas\n",
            "Hmm... Bananas ...really?!\n"
          ]
        }
      ]
    },
    {
      "cell_type": "code",
      "source": [
        "user_number_1 = float(input(\"Please enter a number:\"))\n",
        "user_number_2 = float(input(\"Please enter a  second number:\"))\n",
        "\n",
        "print(user_number_1, \"is great than\", user_number_2, user_number_1>user_number_2)\n",
        "print(user_number_1, \"is equal to\", user_number_2, user_number_1==user_number_2)\n",
        "print(user_number_1, \"is less than\", user_number_2, user_number_1<user_number_2)"
      ],
      "metadata": {
        "colab": {
          "base_uri": "https://localhost:8080/"
        },
        "id": "AVpVHLsR_wih",
        "outputId": "f2bfee06-eb16-4086-d7e4-9c40bbecd410"
      },
      "execution_count": null,
      "outputs": [
        {
          "output_type": "stream",
          "name": "stdout",
          "text": [
            "Please enter a number:5\n",
            "Please enter a  second number:10\n",
            "5.0 is great than 10.0 False\n",
            "5.0 is equal to 10.0 False\n",
            "5.0 is less than 10.0 True\n"
          ]
        }
      ]
    },
    {
      "cell_type": "code",
      "source": [
        "n = int(input(\"Enter a number:\"))\n",
        "if n > 100:\n",
        "  print(\"Is greater than 100\")\n",
        "elif n < 100:\n",
        "  print(\"Is less than 100\")\n",
        "else:\n",
        "  print(\"The number is 100\")"
      ],
      "metadata": {
        "colab": {
          "base_uri": "https://localhost:8080/"
        },
        "id": "oEKXsyRLA8rW",
        "outputId": "4d65aeef-074a-4be0-fbf9-eee666503290"
      },
      "execution_count": null,
      "outputs": [
        {
          "output_type": "stream",
          "name": "stdout",
          "text": [
            "Enter a number:100\n",
            "The number is 100\n"
          ]
        }
      ]
    },
    {
      "cell_type": "code",
      "source": [
        "i = 1\n",
        "while i<10:\n",
        "  print(i)\n",
        "  i +=1"
      ],
      "metadata": {
        "colab": {
          "base_uri": "https://localhost:8080/"
        },
        "id": "AaiqCMAvDB_G",
        "outputId": "59ee0227-bbca-4add-e06d-4fa23e5bfb76"
      },
      "execution_count": null,
      "outputs": [
        {
          "output_type": "stream",
          "name": "stdout",
          "text": [
            "1\n",
            "2\n",
            "3\n",
            "4\n",
            "5\n",
            "6\n",
            "7\n",
            "8\n",
            "9\n"
          ]
        }
      ]
    },
    {
      "cell_type": "code",
      "source": [
        "for x in \"banana\":\n",
        "  print(x)"
      ],
      "metadata": {
        "colab": {
          "base_uri": "https://localhost:8080/"
        },
        "id": "0ZMzKJK4Gb6o",
        "outputId": "2d8e072b-5907-416c-bbd3-1eb55b4c9a31"
      },
      "execution_count": null,
      "outputs": [
        {
          "output_type": "stream",
          "name": "stdout",
          "text": [
            "b\n",
            "a\n",
            "n\n",
            "a\n",
            "n\n",
            "a\n"
          ]
        }
      ]
    },
    {
      "cell_type": "code",
      "source": [
        "print(\"It's Bananas!\\n\")\n",
        "for x in \"Bananas\":\n",
        "  print(x)"
      ],
      "metadata": {
        "colab": {
          "base_uri": "https://localhost:8080/"
        },
        "id": "5donU1lGGmBT",
        "outputId": "6a5f9111-9807-4c01-d850-e1d7a90529bc"
      },
      "execution_count": null,
      "outputs": [
        {
          "output_type": "stream",
          "name": "stdout",
          "text": [
            "It's Bananas!\n",
            "\n",
            "B\n",
            "a\n",
            "n\n",
            "a\n",
            "n\n",
            "a\n",
            "s\n"
          ]
        }
      ]
    },
    {
      "cell_type": "code",
      "source": [
        "Gwen = \"Bananas\"\n",
        "print(\"It's \",Gwen,\"!\\n\")\n",
        "mylist = list(Gwen)\n",
        "print(mylist)"
      ],
      "metadata": {
        "colab": {
          "base_uri": "https://localhost:8080/"
        },
        "id": "xUqNDHT4HLGh",
        "outputId": "14b1831f-6659-41cf-f74b-71db34777bc5"
      },
      "execution_count": null,
      "outputs": [
        {
          "output_type": "stream",
          "name": "stdout",
          "text": [
            "It's  Bananas !\n",
            "\n",
            "['B', 'a', 'n', 'a', 'n', 'a', 's']\n"
          ]
        }
      ]
    },
    {
      "cell_type": "code",
      "source": [
        "time_hour = float(input(\"Tell me the time in hours. I will calculate and display in minutes:\"))\n",
        "print(\"The time in minutes is:\", time_hour*60)"
      ],
      "metadata": {
        "colab": {
          "base_uri": "https://localhost:8080/"
        },
        "id": "3nvgmFVGIjvr",
        "outputId": "8d7c248b-e5f6-4f02-b450-64b9d9e183b8"
      },
      "execution_count": null,
      "outputs": [
        {
          "output_type": "stream",
          "name": "stdout",
          "text": [
            "Tell me the time in hours. I will calculate and display in minutes:10\n",
            "The time in minutes is: 600.0\n"
          ]
        }
      ]
    },
    {
      "cell_type": "markdown",
      "source": [
        "# **Lists**"
      ],
      "metadata": {
        "id": "wZ6NSIgvTZZP"
      }
    },
    {
      "cell_type": "code",
      "source": [
        "fruitlist = [\"apple\", \"banana\", \"peach\", \"orange\", \"mango\", \"cherry\"]\n",
        "print(fruitlist[-4:-1])\n",
        "print(fruitlist[1:3])"
      ],
      "metadata": {
        "id": "v5YBipXtnlHW",
        "colab": {
          "base_uri": "https://localhost:8080/"
        },
        "outputId": "05858312-ea14-445e-a9de-c47f7aba67b6"
      },
      "execution_count": null,
      "outputs": [
        {
          "output_type": "stream",
          "name": "stdout",
          "text": [
            "['peach', 'orange', 'mango']\n",
            "['banana', 'peach']\n"
          ]
        }
      ]
    },
    {
      "cell_type": "code",
      "source": [
        "if \"apple\" in fruitlist:\n",
        "  print(\"Yes this is in the list\")"
      ],
      "metadata": {
        "colab": {
          "base_uri": "https://localhost:8080/"
        },
        "id": "sVnqSep0UgoT",
        "outputId": "97f96e2c-83da-4b8e-e3a4-57491ed7bc0c"
      },
      "execution_count": null,
      "outputs": [
        {
          "output_type": "stream",
          "name": "stdout",
          "text": [
            "Yes this is in the list\n"
          ]
        }
      ]
    },
    {
      "cell_type": "code",
      "source": [
        "chosen_fruit = input(\"Name a fruit:\")\n",
        "cleaned_input = chosen_fruit.lower()\n",
        "if cleaned_input in fruitlist:\n",
        "  print(\"This fruit is in the basket \")\n",
        "else:\n",
        "  print(\"This fruit is not in the basket\")"
      ],
      "metadata": {
        "colab": {
          "base_uri": "https://localhost:8080/"
        },
        "id": "Gjsd_tAaUrJu",
        "outputId": "146a732e-fc1f-40b0-87a0-f55fd101b60a"
      },
      "execution_count": null,
      "outputs": [
        {
          "output_type": "stream",
          "name": "stdout",
          "text": [
            "Name a fruit:Banana\n",
            "This fruit is in the basket \n"
          ]
        }
      ]
    },
    {
      "cell_type": "markdown",
      "source": [
        "**Insert**"
      ],
      "metadata": {
        "id": "Tq2PLJkcXYMh"
      }
    },
    {
      "cell_type": "code",
      "source": [
        "fruitlist.insert(2, \"watermelon\")\n",
        "print(fruitlist)"
      ],
      "metadata": {
        "colab": {
          "base_uri": "https://localhost:8080/"
        },
        "id": "LnLqYc6tW7MT",
        "outputId": "e61ed432-101b-44ce-a2f0-5994bf6ffe35"
      },
      "execution_count": null,
      "outputs": [
        {
          "output_type": "stream",
          "name": "stdout",
          "text": [
            "['apple', 'banana', 'watermelon', 'peach', 'orange', 'mango', 'cherry']\n"
          ]
        }
      ]
    },
    {
      "cell_type": "markdown",
      "source": [
        "**Append** (Goes at the end)"
      ],
      "metadata": {
        "id": "DSb5CG3BXaQi"
      }
    },
    {
      "cell_type": "code",
      "source": [
        "fruitlist.append(\"Papaya\")\n",
        "print(fruitlist)"
      ],
      "metadata": {
        "colab": {
          "base_uri": "https://localhost:8080/"
        },
        "id": "3lIOKsxMXct0",
        "outputId": "66439b1f-bc14-4d25-df13-5a6e3c072f5a"
      },
      "execution_count": null,
      "outputs": [
        {
          "output_type": "stream",
          "name": "stdout",
          "text": [
            "['apple', 'banana', 'watermelon', 'peach', 'orange', 'mango', 'cherry', 'Papaya']\n"
          ]
        }
      ]
    },
    {
      "cell_type": "markdown",
      "source": [
        "**Extend** (appends items from another list)"
      ],
      "metadata": {
        "id": "sRiTADkSXxjF"
      }
    },
    {
      "cell_type": "code",
      "source": [
        "morefruit = [\"Grapes\", \"Clementine\", \"Blueberry\"]\n",
        "fruitlist.extend(morefruit)\n",
        "print(fruitlist)"
      ],
      "metadata": {
        "colab": {
          "base_uri": "https://localhost:8080/"
        },
        "id": "pye4pJDXX256",
        "outputId": "d31170c1-8874-4c0d-f755-71c305d0f6a7"
      },
      "execution_count": null,
      "outputs": [
        {
          "output_type": "stream",
          "name": "stdout",
          "text": [
            "['apple', 'banana', 'watermelon', 'peach', 'orange', 'mango', 'cherry', 'Papaya', 'Grapes', 'Clementine', 'Blueberry']\n"
          ]
        }
      ]
    },
    {
      "cell_type": "markdown",
      "source": [
        "**User adds fruit to list**"
      ],
      "metadata": {
        "id": "nljvRtakYKRR"
      }
    },
    {
      "cell_type": "code",
      "source": [
        "addfruit = input(\"Add a fruit:\")\n",
        "cleaned_input = addfruit.lower()\n",
        "if cleaned_input in fruitlist:\n",
        "  print(\"This fruit is already in the basket.\")\n",
        "else:\n",
        "  fruitlist.append(addfruit)\n",
        "  print(addfruit, \"has been added to the basket\")\n",
        "\n",
        "print(fruitlist)\n",
        "print(\"There are currently\", (len(fruitlist)),\"fruits in the basket.\")"
      ],
      "metadata": {
        "id": "J2mTc4mGYIr5",
        "colab": {
          "base_uri": "https://localhost:8080/"
        },
        "outputId": "10f12ff8-be12-4003-adbe-c98fd3f4691c"
      },
      "execution_count": null,
      "outputs": [
        {
          "output_type": "stream",
          "name": "stdout",
          "text": [
            "Add a fruit:apple\n",
            "This fruit is already in the basket.\n",
            "['apple', 'banana', 'clementine', 'cumquat', 'grapes', 'lychee', 'mango', 'orange', 'papaya', 'peach', 'plum', 'raspberry', 'watermelon', 'watermelon', 'watermelon']\n",
            "There are currently 15 fruits in the basket.\n"
          ]
        }
      ]
    },
    {
      "cell_type": "markdown",
      "source": [
        "**Amend items**"
      ],
      "metadata": {
        "id": "hsKXSMzPZytJ"
      }
    },
    {
      "cell_type": "code",
      "source": [
        "fruitlist[7] = 'papaya'\n",
        "fruitlist[8] = 'grapes'\n",
        "fruitlist[9] = 'clementine'\n",
        "fruitlist[10]= 'blueberry'\n",
        "fruitlist[11] = 'raspberry'\n",
        "print(fruitlist)"
      ],
      "metadata": {
        "colab": {
          "base_uri": "https://localhost:8080/"
        },
        "id": "ZQFk6IcxZ2B_",
        "outputId": "f2f4712e-a0bb-46b7-d01b-20b514ab7651"
      },
      "execution_count": null,
      "outputs": [
        {
          "output_type": "stream",
          "name": "stdout",
          "text": [
            "['apple', 'banana', 'watermelon', 'peach', 'orange', 'mango', 'cherry', 'papaya', 'grapes', 'clementine', 'blueberry', 'raspberry', 'lychee', 'plum', 'cumquat']\n"
          ]
        }
      ]
    },
    {
      "cell_type": "markdown",
      "source": [
        "**Better method**"
      ],
      "metadata": {
        "id": "oFrexJvydmHP"
      }
    },
    {
      "cell_type": "code",
      "source": [
        "fruitlist[0:3] = [\"apple\", \"banana\", \"watermelon\"]\n",
        "sorted_fruits = fruitlist.sort()\n",
        "print(fruitlist)\n",
        "print(len(fruitlist))"
      ],
      "metadata": {
        "colab": {
          "base_uri": "https://localhost:8080/"
        },
        "id": "zMd0A1Jydo3Z",
        "outputId": "6dd64c2a-4e56-4c14-d067-8fe83785b08e"
      },
      "execution_count": null,
      "outputs": [
        {
          "output_type": "stream",
          "name": "stdout",
          "text": [
            "['apple', 'banana', 'clementine', 'cumquat', 'grapes', 'lychee', 'mango', 'orange', 'papaya', 'peach', 'plum', 'raspberry', 'watermelon', 'watermelon', 'watermelon']\n",
            "15\n"
          ]
        }
      ]
    },
    {
      "cell_type": "markdown",
      "source": [
        "**Tuple**"
      ],
      "metadata": {
        "id": "ZedP9yzAfhGw"
      }
    },
    {
      "cell_type": "code",
      "source": [
        "# Create a tuple\n",
        "\n",
        "fruit_tuple = (\"apple\", \"banana\", \"cherry\")\n",
        "print(fruit_tuple)"
      ],
      "metadata": {
        "colab": {
          "base_uri": "https://localhost:8080/"
        },
        "id": "piDDxKn1fi6O",
        "outputId": "5bae06d9-3213-4136-8c1b-dfd18d77a747"
      },
      "execution_count": null,
      "outputs": [
        {
          "output_type": "stream",
          "name": "stdout",
          "text": [
            "('apple', 'banana', 'cherry')\n"
          ]
        }
      ]
    },
    {
      "cell_type": "code",
      "source": [
        "print(fruit_tuple[1])"
      ],
      "metadata": {
        "colab": {
          "base_uri": "https://localhost:8080/"
        },
        "id": "n3330PzLpfRG",
        "outputId": "5fc4be27-44b1-4388-f94a-5a06cd065a49"
      },
      "execution_count": null,
      "outputs": [
        {
          "output_type": "stream",
          "name": "stdout",
          "text": [
            "banana\n"
          ]
        }
      ]
    },
    {
      "cell_type": "code",
      "source": [
        "print(fruit_tuple[-1])"
      ],
      "metadata": {
        "colab": {
          "base_uri": "https://localhost:8080/"
        },
        "id": "uQVZh4pdpmDR",
        "outputId": "bf92b49f-01a6-44dc-f8d2-4d3a03e69cb0"
      },
      "execution_count": null,
      "outputs": [
        {
          "output_type": "stream",
          "name": "stdout",
          "text": [
            "cherry\n"
          ]
        }
      ]
    },
    {
      "cell_type": "code",
      "source": [
        "# Convert tuple to list so it can be edited\n",
        "\n",
        "new_fruit_list = list(fruit_tuple)\n",
        "print(new_fruit_list)"
      ],
      "metadata": {
        "colab": {
          "base_uri": "https://localhost:8080/"
        },
        "id": "1D2noymTp0Gs",
        "outputId": "7cda3e00-5c08-41ea-d15b-2bc3c5b4ee0b"
      },
      "execution_count": null,
      "outputs": [
        {
          "output_type": "stream",
          "name": "stdout",
          "text": [
            "['apple', 'banana', 'cherry']\n"
          ]
        }
      ]
    },
    {
      "cell_type": "markdown",
      "source": [
        "**Dictionary**"
      ],
      "metadata": {
        "id": "5eO9AdKUpZcG"
      }
    },
    {
      "cell_type": "code",
      "source": [
        "# Create and print a dictionary:\n",
        "\n",
        "thisdict = {\n",
        "    \"brand\": \"Ford\",\n",
        "    \"model\": \"Mustang\",\n",
        "    \"year\": 1964,\n",
        "    \"colours\": [\"red\", \"white\", \"blue\"]\n",
        "}\n",
        "print(thisdict)\n",
        "print(thisdict[\"model\"])\n",
        "print(thisdict[\"colours\"])\n",
        "print(type(thisdict))"
      ],
      "metadata": {
        "colab": {
          "base_uri": "https://localhost:8080/"
        },
        "id": "5pbDFpH_pbpz",
        "outputId": "c166a801-174b-4f38-c1a5-28ddec057470"
      },
      "execution_count": null,
      "outputs": [
        {
          "output_type": "stream",
          "name": "stdout",
          "text": [
            "{'brand': 'Ford', 'model': 'Mustang', 'year': 1964, 'colours': ['red', 'white', 'blue']}\n",
            "Mustang\n",
            "['red', 'white', 'blue']\n",
            "<class 'dict'>\n"
          ]
        }
      ]
    },
    {
      "cell_type": "code",
      "source": [
        "custDict = dict(name = \"Lee\",age=40,country=\"UK\")\n",
        "print(custDict)"
      ],
      "metadata": {
        "colab": {
          "base_uri": "https://localhost:8080/"
        },
        "id": "TrwlfyNYrV1e",
        "outputId": "eb80b1c0-9703-44aa-dada-83640f1d74d4"
      },
      "execution_count": null,
      "outputs": [
        {
          "output_type": "stream",
          "name": "stdout",
          "text": [
            "{'name': 'Lee', 'age': 40, 'country': 'UK'}\n"
          ]
        }
      ]
    },
    {
      "cell_type": "code",
      "source": [
        "print(custDict.keys())\n",
        "print(custDict.values())"
      ],
      "metadata": {
        "colab": {
          "base_uri": "https://localhost:8080/"
        },
        "id": "ZXzOWjrnsYW3",
        "outputId": "d7848a22-5c2c-488c-9d15-240ef9f6f174"
      },
      "execution_count": null,
      "outputs": [
        {
          "output_type": "stream",
          "name": "stdout",
          "text": [
            "dict_keys(['name', 'age', 'country'])\n",
            "dict_values(['Lee', 40, 'UK'])\n"
          ]
        }
      ]
    },
    {
      "cell_type": "markdown",
      "source": [
        "**While loops**"
      ],
      "metadata": {
        "id": "KN5reCgz0Hp_"
      }
    },
    {
      "cell_type": "code",
      "source": [
        "capitalGuess = input(\"What is the capital of Latvia? \")\n",
        "numberOfGuesses = 1\n",
        "\n",
        "while capitalGuess.lower() != \"riga\":\n",
        "  numberOfGuesses += 1\n",
        "  capitalGuess = input(\"Guess again: \")\n",
        "\n",
        "print(\"Well done. The capital of Latvia is Riga\\n It took you:\", numberOfGuesses,\"guesses.\")"
      ],
      "metadata": {
        "colab": {
          "base_uri": "https://localhost:8080/"
        },
        "id": "QUMgusor0Kpw",
        "outputId": "8c0da146-674f-4cda-d657-63d6a2d8cd37"
      },
      "execution_count": null,
      "outputs": [
        {
          "output_type": "stream",
          "name": "stdout",
          "text": [
            "What is the capital of Latvia? riga\n",
            "Well done. The capital of Latvia is Riga\n",
            " It took you: 1 guesses.\n"
          ]
        }
      ]
    }
  ]
}